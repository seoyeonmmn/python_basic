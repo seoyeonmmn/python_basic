{
  "nbformat": 4,
  "nbformat_minor": 0,
  "metadata": {
    "colab": {
      "provenance": [],
      "authorship_tag": "ABX9TyOR4f5zvTT8KkDP6OYYHRQ3",
      "include_colab_link": true
    },
    "kernelspec": {
      "name": "python3",
      "display_name": "Python 3"
    },
    "language_info": {
      "name": "python"
    },
    "accelerator": "GPU",
    "gpuClass": "standard"
  },
  "cells": [
    {
      "cell_type": "markdown",
      "metadata": {
        "id": "view-in-github",
        "colab_type": "text"
      },
      "source": [
        "<a href=\"https://colab.research.google.com/github/seoyeonmmn/python_basic/blob/main/NLP_with_Pytorch_chapter01_.ipynb\" target=\"_parent\"><img src=\"https://colab.research.google.com/assets/colab-badge.svg\" alt=\"Open In Colab\"/></a>"
      ]
    },
    {
      "cell_type": "markdown",
      "source": [
        "##### code 1-1 One-Hot Encoding or Binary Explanation with Scikitlearn"
      ],
      "metadata": {
        "id": "3B2agHlZ5svJ"
      }
    },
    {
      "cell_type": "code",
      "execution_count": 2,
      "metadata": {
        "id": "0Ru28YAn5hX2"
      },
      "outputs": [],
      "source": [
        "from sklearn.feature_extraction.text import CountVectorizer\n",
        "import seaborn as sns"
      ]
    },
    {
      "cell_type": "code",
      "source": [
        "corpus =['Time flies like an arrow.',\n",
        "         'Fruit flies like a banana.']\n",
        "one_hot_vectorizer = CountVectorizer(binary=True)       # 텍스트에서 단위별 등장횟수를 카운팅하여 수치벡터화\n",
        "one_hot = one_hot_vectorizer.fit_transform(corpus).toarray()\n",
        "vocab = one_hot_vectorizer.get_feature_names()\n",
        "sns.heatmap(one_hot, annot = True,\n",
        "            cbar = False, xticklabels = vocab,\n",
        "            yticklabels = ['Sentence 1', 'Sentence 2'])"
      ],
      "metadata": {
        "colab": {
          "base_uri": "https://localhost:8080/",
          "height": 339
        },
        "id": "BFzpNk575pSW",
        "outputId": "78ba2441-2966-4021-c3c2-c4e264bd9910"
      },
      "execution_count": 3,
      "outputs": [
        {
          "output_type": "stream",
          "name": "stderr",
          "text": [
            "/usr/local/lib/python3.8/dist-packages/sklearn/utils/deprecation.py:87: FutureWarning: Function get_feature_names is deprecated; get_feature_names is deprecated in 1.0 and will be removed in 1.2. Please use get_feature_names_out instead.\n",
            "  warnings.warn(msg, category=FutureWarning)\n"
          ]
        },
        {
          "output_type": "execute_result",
          "data": {
            "text/plain": [
              "<matplotlib.axes._subplots.AxesSubplot at 0x7f1f6a7d05b0>"
            ]
          },
          "metadata": {},
          "execution_count": 3
        },
        {
          "output_type": "display_data",
          "data": {
            "text/plain": [
              "<Figure size 432x288 with 1 Axes>"
            ],
            "image/png": "[encoded data removed]"
          },
          "metadata": {
            "needs_background": "light"
          }
        }
      ]
    },
    {
      "cell_type": "markdown",
      "source": [
        "#### code 1-2 TF-IDF with Scikitlearn"
      ],
      "metadata": {
        "id": "FPEzbgBBnz9e"
      }
    },
    {
      "cell_type": "code",
      "source": [
        "from sklearn.feature_extraction.text import TfidfVectorizer\n",
        "import seaborn as sns"
      ],
      "metadata": {
        "id": "76VktPxCoBmT"
      },
      "execution_count": 4,
      "outputs": []
    },
    {
      "cell_type": "code",
      "source": [
        "tfidf_vectorizer = TfidfVectorizer()\n",
        "tfidf = tfidf_vectorizer.fit_transform(corpus).toarray()\n",
        "sns.heatmap(tfidf, annot = True, cbar = False, xticklabels = vocab,\n",
        "            yticklabels = ['Sentence 1', 'Sentence 2'])"
      ],
      "metadata": {
        "colab": {
          "base_uri": "https://localhost:8080/",
          "height": 283
        },
        "id": "TWuwtRPiocEN",
        "outputId": "4e1cc06d-c4a8-4c43-dbb5-46ab9e8db1d3"
      },
      "execution_count": 5,
      "outputs": [
        {
          "output_type": "execute_result",
          "data": {
            "text/plain": [
              "<matplotlib.axes._subplots.AxesSubplot at 0x7f1f642291f0>"
            ]
          },
          "metadata": {},
          "execution_count": 5
        },
        {
          "output_type": "display_data",
          "data": {
            "text/plain": [
              "<Figure size 432x288 with 1 Axes>"
            ],
            "image/png": "[encoded data removed]"
          },
          "metadata": {
            "needs_background": "light"
          }
        }
      ]
    },
    {
      "cell_type": "markdown",
      "source": [
        "#### 1.4.2 Tensor 만들기"
      ],
      "metadata": {
        "id": "vN9AuZAb5xun"
      }
    },
    {
      "cell_type": "code",
      "source": [
        "def describe(x):\n",
        "  print(\"Type: {}\".format(x.type()))\n",
        "  print(\"Size: {}\".format(x.shape))\n",
        "  print(\"Value: {}\".format(x))"
      ],
      "metadata": {
        "id": "zTENaioI5pkn"
      },
      "execution_count": 1,
      "outputs": []
    },
    {
      "cell_type": "code",
      "source": [
        "import torch\n",
        "describe(torch.Tensor(2, 3))"
      ],
      "metadata": {
        "colab": {
          "base_uri": "https://localhost:8080/"
        },
        "id": "_3omVaH26Tyu",
        "outputId": "dffc2bf1-3c56-4d9e-fbee-052f394d91d7"
      },
      "execution_count": 2,
      "outputs": [
        {
          "output_type": "stream",
          "name": "stdout",
          "text": [
            "Type: torch.FloatTensor\n",
            "Size: torch.Size([2, 3])\n",
            "Value: tensor([[ 2.5527e-03,  4.5757e-41,  2.5527e-03],\n",
            "        [ 4.5757e-41, -7.2018e+34,  4.5755e-41]])\n"
          ]
        }
      ]
    },
    {
      "cell_type": "code",
      "source": [
        "# Randomly initializing a tensor\n",
        "describe(torch.rand(2, 3))    # Normal Distribution\n",
        "describe(torch.randn(2, 3))   # Standard Normal Distribution (avg = 0, std = 0)"
      ],
      "metadata": {
        "colab": {
          "base_uri": "https://localhost:8080/"
        },
        "id": "Aye-tbv56UQe",
        "outputId": "88cc8ff3-98b3-4349-b62c-8162a1e27529"
      },
      "execution_count": 3,
      "outputs": [
        {
          "output_type": "stream",
          "name": "stdout",
          "text": [
            "Type: torch.FloatTensor\n",
            "Size: torch.Size([2, 3])\n",
            "Value: tensor([[0.2349, 0.8543, 0.5478],\n",
            "        [0.3598, 0.2494, 0.0930]])\n",
            "Type: torch.FloatTensor\n",
            "Size: torch.Size([2, 3])\n",
            "Value: tensor([[-0.0219,  1.1914, -0.2646],\n",
            "        [-0.6655,  2.4702, -0.3127]])\n"
          ]
        }
      ]
    },
    {
      "cell_type": "code",
      "source": [
        "# using method filled()\n",
        "describe(torch.zeros(2, 3))\n",
        "\n",
        "x = torch.ones(2, 3)\n",
        "describe(x)\n",
        "\n",
        "x.fill_(5)\n",
        "describe(x)"
      ],
      "metadata": {
        "colab": {
          "base_uri": "https://localhost:8080/"
        },
        "id": "yQn_O4xs6UTo",
        "outputId": "9d3f357d-6c49-40cb-aeb4-51b53bea5112"
      },
      "execution_count": 4,
      "outputs": [
        {
          "output_type": "stream",
          "name": "stdout",
          "text": [
            "Type: torch.FloatTensor\n",
            "Size: torch.Size([2, 3])\n",
            "Value: tensor([[0., 0., 0.],\n",
            "        [0., 0., 0.]])\n",
            "Type: torch.FloatTensor\n",
            "Size: torch.Size([2, 3])\n",
            "Value: tensor([[1., 1., 1.],\n",
            "        [1., 1., 1.]])\n",
            "Type: torch.FloatTensor\n",
            "Size: torch.Size([2, 3])\n",
            "Value: tensor([[5., 5., 5.],\n",
            "        [5., 5., 5.]])\n"
          ]
        }
      ]
    },
    {
      "cell_type": "code",
      "source": [
        "# List To Tensor\n",
        "import torch\n",
        "import numpy as np\n",
        "\n",
        "arr = np.random.rand(2, 3)\n",
        "describe(torch.from_numpy(arr))\n"
      ],
      "metadata": {
        "colab": {
          "base_uri": "https://localhost:8080/"
        },
        "id": "s32rMicn7lnB",
        "outputId": "3bf220b5-00c5-471f-eae5-85a60f6733a5"
      },
      "execution_count": 5,
      "outputs": [
        {
          "output_type": "stream",
          "name": "stdout",
          "text": [
            "Type: torch.DoubleTensor\n",
            "Size: torch.Size([2, 3])\n",
            "Value: tensor([[0.2668, 0.4846, 0.7630],\n",
            "        [0.7899, 0.5743, 0.9463]], dtype=torch.float64)\n"
          ]
        }
      ]
    },
    {
      "cell_type": "markdown",
      "source": [
        "#### 1.4.3 Tensor Type and Size\n",
        "\n",
        "Tensor에는 type과 size가 있다. torch.Tensor 생성자를 사용할 때 기본 tensor type은 torch.FloatTensor 이다.    \n",
        "Tensor type은 초기화 시 지정가능하며 casting method를 사용해 float, long, double 등으로 바꿀 수 있다. "
      ],
      "metadata": {
        "id": "5B3OLGG78Dbp"
      }
    },
    {
      "cell_type": "code",
      "source": [
        "x = torch.FloatTensor([[1, 2, 3],\n",
        "                       [4, 5, 6]])\n",
        "describe(x)"
      ],
      "metadata": {
        "colab": {
          "base_uri": "https://localhost:8080/"
        },
        "id": "8IYfs0aG7_tt",
        "outputId": "1eb16be0-e155-40b7-b12a-324bcc9a1f1f"
      },
      "execution_count": 6,
      "outputs": [
        {
          "output_type": "stream",
          "name": "stdout",
          "text": [
            "Type: torch.FloatTensor\n",
            "Size: torch.Size([2, 3])\n",
            "Value: tensor([[1., 2., 3.],\n",
            "        [4., 5., 6.]])\n"
          ]
        }
      ]
    },
    {
      "cell_type": "code",
      "source": [
        "x = x.long()\n",
        "describe(x)"
      ],
      "metadata": {
        "colab": {
          "base_uri": "https://localhost:8080/"
        },
        "id": "u7JPB40e9ETe",
        "outputId": "2cd3b51d-a9f7-4da5-f252-9b2deaa4d6a4"
      },
      "execution_count": 7,
      "outputs": [
        {
          "output_type": "stream",
          "name": "stdout",
          "text": [
            "Type: torch.LongTensor\n",
            "Size: torch.Size([2, 3])\n",
            "Value: tensor([[1, 2, 3],\n",
            "        [4, 5, 6]])\n"
          ]
        }
      ]
    },
    {
      "cell_type": "code",
      "source": [
        "x = torch.tensor([[1, 2, 3],\n",
        "                  [4, 5, 6]], dtype = torch.int64)\n",
        "describe(x)"
      ],
      "metadata": {
        "colab": {
          "base_uri": "https://localhost:8080/"
        },
        "id": "nEgKm_Yt9EV7",
        "outputId": "928a78ad-cd1e-4c7d-e491-70d458dda291"
      },
      "execution_count": 10,
      "outputs": [
        {
          "output_type": "stream",
          "name": "stdout",
          "text": [
            "Type: torch.LongTensor\n",
            "Size: torch.Size([2, 3])\n",
            "Value: tensor([[1, 2, 3],\n",
            "        [4, 5, 6]])\n"
          ]
        }
      ]
    },
    {
      "cell_type": "code",
      "source": [
        "x = x.float()\n",
        "describe(x)"
      ],
      "metadata": {
        "colab": {
          "base_uri": "https://localhost:8080/"
        },
        "id": "InVu4FmP9EYM",
        "outputId": "8bfda309-545d-4ff2-dd4c-bf1a504cb6cc"
      },
      "execution_count": 11,
      "outputs": [
        {
          "output_type": "stream",
          "name": "stdout",
          "text": [
            "Type: torch.FloatTensor\n",
            "Size: torch.Size([2, 3])\n",
            "Value: tensor([[1., 2., 3.],\n",
            "        [4., 5., 6.]])\n"
          ]
        }
      ]
    },
    {
      "cell_type": "markdown",
      "source": [
        "#### 1.4.4 Tensor 연산"
      ],
      "metadata": {
        "id": "FwD7Klk19oN8"
      }
    },
    {
      "cell_type": "code",
      "source": [
        "# add()\n",
        "\n",
        "x = torch.rand(2, 3)\n",
        "print(x)\n",
        "print(torch.add(x, x))\n",
        "print(x+x)"
      ],
      "metadata": {
        "colab": {
          "base_uri": "https://localhost:8080/"
        },
        "id": "6AEl-8vR9zA2",
        "outputId": "2b8ccacc-5dc3-4eeb-8b4a-9eb24ea363be"
      },
      "execution_count": 14,
      "outputs": [
        {
          "output_type": "stream",
          "name": "stdout",
          "text": [
            "tensor([[0.5956, 0.6292, 0.6776],\n",
            "        [0.1866, 0.9079, 0.3841]])\n",
            "tensor([[1.1912, 1.2584, 1.3553],\n",
            "        [0.3733, 1.8159, 0.7683]])\n",
            "tensor([[1.1912, 1.2584, 1.3553],\n",
            "        [0.3733, 1.8159, 0.7683]])\n"
          ]
        }
      ]
    },
    {
      "cell_type": "code",
      "source": [
        "# 차원 별 tensor 연산\n",
        "\n",
        "x =torch.arange(6)\n",
        "print(x)\n",
        "\n",
        "x = x.view(2, 3)\n",
        "print(x)"
      ],
      "metadata": {
        "colab": {
          "base_uri": "https://localhost:8080/"
        },
        "id": "HWpSUKYwAByU",
        "outputId": "988ed59f-29eb-4faf-81af-0179c6b1921d"
      },
      "execution_count": 19,
      "outputs": [
        {
          "output_type": "stream",
          "name": "stdout",
          "text": [
            "tensor([0, 1, 2, 3, 4, 5])\n",
            "tensor([[0, 1, 2],\n",
            "        [3, 4, 5]])\n"
          ]
        }
      ]
    },
    {
      "cell_type": "code",
      "source": [
        "print(torch.sum(x, dim=0))\n",
        "print(torch.sum(x, dim=1))"
      ],
      "metadata": {
        "colab": {
          "base_uri": "https://localhost:8080/"
        },
        "id": "Jwl1k_OBATWR",
        "outputId": "d739e7b2-a691-43b8-e6b7-13a543a4edec"
      },
      "execution_count": 20,
      "outputs": [
        {
          "output_type": "stream",
          "name": "stdout",
          "text": [
            "tensor([3, 5, 7])\n",
            "tensor([ 3, 12])\n"
          ]
        }
      ]
    },
    {
      "cell_type": "code",
      "source": [
        "# transpose\n",
        "describe(x)\n",
        "describe(torch.transpose(x, 0, 1))"
      ],
      "metadata": {
        "colab": {
          "base_uri": "https://localhost:8080/"
        },
        "id": "70nxqR2nA01x",
        "outputId": "c6b585e9-a129-4140-8576-4cc7f474720f"
      },
      "execution_count": 21,
      "outputs": [
        {
          "output_type": "stream",
          "name": "stdout",
          "text": [
            "Type: torch.LongTensor\n",
            "Size: torch.Size([2, 3])\n",
            "Value: tensor([[0, 1, 2],\n",
            "        [3, 4, 5]])\n",
            "Type: torch.LongTensor\n",
            "Size: torch.Size([3, 2])\n",
            "Value: tensor([[0, 3],\n",
            "        [1, 4],\n",
            "        [2, 5]])\n"
          ]
        }
      ]
    },
    {
      "cell_type": "markdown",
      "source": [
        "#### 1.4.5 Indexing, Slicing and Concentenating"
      ],
      "metadata": {
        "id": "DPCvpyqnBArh"
      }
    },
    {
      "cell_type": "code",
      "source": [
        "x = torch.arange(6).view(2, 3)\n",
        "describe(x)"
      ],
      "metadata": {
        "colab": {
          "base_uri": "https://localhost:8080/"
        },
        "id": "ais5Bb5mA_1i",
        "outputId": "e715b8a1-4af3-48bc-f7f7-a42ef9ae8fa4"
      },
      "execution_count": 22,
      "outputs": [
        {
          "output_type": "stream",
          "name": "stdout",
          "text": [
            "Type: torch.LongTensor\n",
            "Size: torch.Size([2, 3])\n",
            "Value: tensor([[0, 1, 2],\n",
            "        [3, 4, 5]])\n"
          ]
        }
      ]
    },
    {
      "cell_type": "code",
      "source": [
        "describe(x[:1, :2])"
      ],
      "metadata": {
        "colab": {
          "base_uri": "https://localhost:8080/"
        },
        "id": "YaGQnYLFBOvO",
        "outputId": "d7a0cf82-7e48-42b0-f3f2-f63776af5674"
      },
      "execution_count": 23,
      "outputs": [
        {
          "output_type": "stream",
          "name": "stdout",
          "text": [
            "Type: torch.LongTensor\n",
            "Size: torch.Size([1, 2])\n",
            "Value: tensor([[0, 1]])\n"
          ]
        }
      ]
    },
    {
      "cell_type": "code",
      "source": [
        "describe(x[0, 1])"
      ],
      "metadata": {
        "colab": {
          "base_uri": "https://localhost:8080/"
        },
        "id": "pTRjlGEJBYod",
        "outputId": "ef6c7e17-5a42-49e9-9d0d-b6d6240bfb53"
      },
      "execution_count": 24,
      "outputs": [
        {
          "output_type": "stream",
          "name": "stdout",
          "text": [
            "Type: torch.LongTensor\n",
            "Size: torch.Size([])\n",
            "Value: 1\n"
          ]
        }
      ]
    },
    {
      "cell_type": "code",
      "source": [
        "# Complex indexing\n",
        "idx = torch.LongTensor([0, 2])\n",
        "describe(torch.index_select(x, dim=1, index = idx))"
      ],
      "metadata": {
        "colab": {
          "base_uri": "https://localhost:8080/"
        },
        "id": "DZcq3aFQBkL0",
        "outputId": "6148c63e-0a1e-43c1-92c4-15a5e8b28f45"
      },
      "execution_count": 25,
      "outputs": [
        {
          "output_type": "stream",
          "name": "stdout",
          "text": [
            "Type: torch.LongTensor\n",
            "Size: torch.Size([2, 2])\n",
            "Value: tensor([[0, 2],\n",
            "        [3, 5]])\n"
          ]
        }
      ]
    },
    {
      "cell_type": "code",
      "source": [
        "idx = torch.LongTensor([0, 0]) # 같은 idx 반복해서 입력하여 해당 행 또는 열도 입력된 수 만큼 반복함.\n",
        "describe(torch.index_select(x, dim=0, index = idx))"
      ],
      "metadata": {
        "colab": {
          "base_uri": "https://localhost:8080/"
        },
        "id": "5pnjL9L5B3PF",
        "outputId": "561720c3-9980-4850-e745-33e6414780dc"
      },
      "execution_count": 26,
      "outputs": [
        {
          "output_type": "stream",
          "name": "stdout",
          "text": [
            "Type: torch.LongTensor\n",
            "Size: torch.Size([2, 3])\n",
            "Value: tensor([[0, 1, 2],\n",
            "        [0, 1, 2]])\n"
          ]
        }
      ]
    },
    {
      "cell_type": "code",
      "source": [
        "row_idx = torch.arange(2).long()  \n",
        "col_idx = torch.LongTensor([0, 2])\n",
        "x[row_idx, col_idx]  # x[(0, 1), (0, 2)] => x[0, 0] = 0, x[1, 2] = 5"
      ],
      "metadata": {
        "colab": {
          "base_uri": "https://localhost:8080/"
        },
        "id": "5sp1hufPEdCA",
        "outputId": "ffbcbf34-fa8b-4196-fec8-8352258c5a5b"
      },
      "execution_count": 29,
      "outputs": [
        {
          "output_type": "execute_result",
          "data": {
            "text/plain": [
              "tensor([0, 5])"
            ]
          },
          "metadata": {},
          "execution_count": 29
        }
      ]
    },
    {
      "cell_type": "code",
      "source": [
        "# Concatenationg Tensors\n",
        "\n",
        "x = torch.arange(6).view(2, 3)\n",
        "describe(x)"
      ],
      "metadata": {
        "colab": {
          "base_uri": "https://localhost:8080/"
        },
        "id": "VSW0kUhkFq1k",
        "outputId": "f0ff32f7-8a90-447e-9ddd-f5f120f20398"
      },
      "execution_count": 30,
      "outputs": [
        {
          "output_type": "stream",
          "name": "stdout",
          "text": [
            "Type: torch.LongTensor\n",
            "Size: torch.Size([2, 3])\n",
            "Value: tensor([[0, 1, 2],\n",
            "        [3, 4, 5]])\n"
          ]
        }
      ]
    },
    {
      "cell_type": "code",
      "source": [
        "print(torch.cat([x, x], dim=0))\n",
        "print(torch.cat([x, x], dim=1))"
      ],
      "metadata": {
        "colab": {
          "base_uri": "https://localhost:8080/"
        },
        "id": "dyLIxpeZF4z0",
        "outputId": "326632f6-55fa-47b9-e428-ff340d0a404e"
      },
      "execution_count": 31,
      "outputs": [
        {
          "output_type": "stream",
          "name": "stdout",
          "text": [
            "tensor([[0, 1, 2],\n",
            "        [3, 4, 5],\n",
            "        [0, 1, 2],\n",
            "        [3, 4, 5]])\n",
            "tensor([[0, 1, 2, 0, 1, 2],\n",
            "        [3, 4, 5, 3, 4, 5]])\n"
          ]
        }
      ]
    },
    {
      "cell_type": "code",
      "source": [
        "# stacking\n",
        "\n",
        "torch.stack([x, x])"
      ],
      "metadata": {
        "colab": {
          "base_uri": "https://localhost:8080/"
        },
        "id": "Goz7VHDYGH-X",
        "outputId": "6eb8b64f-3070-4776-93b8-4da0ad0dfae4"
      },
      "execution_count": 32,
      "outputs": [
        {
          "output_type": "execute_result",
          "data": {
            "text/plain": [
              "tensor([[[0, 1, 2],\n",
              "         [3, 4, 5]],\n",
              "\n",
              "        [[0, 1, 2],\n",
              "         [3, 4, 5]]])"
            ]
          },
          "metadata": {},
          "execution_count": 32
        }
      ]
    },
    {
      "cell_type": "code",
      "source": [
        "# multiply\n",
        "\n",
        "x1 = torch.arange(6).view(2, 3).float()\n",
        "describe(x1)\n",
        "\n",
        "x2 = torch.ones(3, 2)\n",
        "x2[:, 1] += 1\n",
        "describe(x2)"
      ],
      "metadata": {
        "colab": {
          "base_uri": "https://localhost:8080/"
        },
        "id": "GR1uDeNnGPjc",
        "outputId": "4c38a078-0748-4d3d-cf5f-c6ecda0ebffd"
      },
      "execution_count": 35,
      "outputs": [
        {
          "output_type": "stream",
          "name": "stdout",
          "text": [
            "Type: torch.FloatTensor\n",
            "Size: torch.Size([2, 3])\n",
            "Value: tensor([[0., 1., 2.],\n",
            "        [3., 4., 5.]])\n",
            "Type: torch.FloatTensor\n",
            "Size: torch.Size([3, 2])\n",
            "Value: tensor([[1., 2.],\n",
            "        [1., 2.],\n",
            "        [1., 2.]])\n"
          ]
        }
      ]
    },
    {
      "cell_type": "code",
      "source": [
        "torch.mm(x1, x2)  # 같은 type끼리 계산 가능함."
      ],
      "metadata": {
        "colab": {
          "base_uri": "https://localhost:8080/"
        },
        "id": "AbSukpzyGq_d",
        "outputId": "b09ff997-a666-4788-ae7f-2d887b639086"
      },
      "execution_count": 36,
      "outputs": [
        {
          "output_type": "execute_result",
          "data": {
            "text/plain": [
              "tensor([[ 3.,  6.],\n",
              "        [12., 24.]])"
            ]
          },
          "metadata": {},
          "execution_count": 36
        }
      ]
    },
    {
      "cell_type": "markdown",
      "source": [
        "#### 1.4.6 Tensor and Calculation graph\n",
        "`requires_grad = True`로 tensor를 생성하면 pytorch는 gradient 계산에 사용하는 부가 정보를 관리한다.   \n",
        "  1. forward propagation 계산의 값을 계산\n",
        "  1. 스칼라 값 하나를 사용해 backpropagation 진행"
      ],
      "metadata": {
        "id": "mU67sw5vJut8"
      }
    },
    {
      "cell_type": "code",
      "source": [
        "x = torch.ones(2, 2, requires_grad = True)\n",
        "describe(x)\n",
        "print(x.grad is None)"
      ],
      "metadata": {
        "colab": {
          "base_uri": "https://localhost:8080/"
        },
        "id": "SkxkPQhIG5Yx",
        "outputId": "e3869495-9581-49ec-f1f9-11f4aba82d75"
      },
      "execution_count": 37,
      "outputs": [
        {
          "output_type": "stream",
          "name": "stdout",
          "text": [
            "Type: torch.FloatTensor\n",
            "Size: torch.Size([2, 2])\n",
            "Value: tensor([[1., 1.],\n",
            "        [1., 1.]], requires_grad=True)\n",
            "True\n"
          ]
        }
      ]
    },
    {
      "cell_type": "code",
      "source": [
        "y = (x+2)*(x+5) + 3\n",
        "describe(y)\n",
        "print(y.grad is None)"
      ],
      "metadata": {
        "colab": {
          "base_uri": "https://localhost:8080/"
        },
        "id": "Q6zYO44JLBRZ",
        "outputId": "fbb24960-524d-4097-adf9-a14272695c13"
      },
      "execution_count": 39,
      "outputs": [
        {
          "output_type": "stream",
          "name": "stdout",
          "text": [
            "Type: torch.FloatTensor\n",
            "Size: torch.Size([2, 2])\n",
            "Value: tensor([[21., 21.],\n",
            "        [21., 21.]], grad_fn=<AddBackward0>)\n",
            "True\n"
          ]
        },
        {
          "output_type": "stream",
          "name": "stderr",
          "text": [
            "<ipython-input-39-720884d8278e>:3: UserWarning: The .grad attribute of a Tensor that is not a leaf Tensor is being accessed. Its .grad attribute won't be populated during autograd.backward(). If you indeed want the .grad field to be populated for a non-leaf Tensor, use .retain_grad() on the non-leaf Tensor. If you access the non-leaf Tensor by mistake, make sure you access the leaf Tensor instead. See github.com/pytorch/pytorch/pull/30531 for more informations. (Triggered internally at aten/src/ATen/core/TensorBody.h:480.)\n",
            "  print(y.grad is None)\n"
          ]
        }
      ]
    },
    {
      "cell_type": "code",
      "source": [
        "z = y.mean()\n",
        "describe(z)\n",
        "z.backward()\n",
        "print(x.grad is None)"
      ],
      "metadata": {
        "colab": {
          "base_uri": "https://localhost:8080/"
        },
        "id": "LOSc-daFLIdF",
        "outputId": "f3409138-cee6-4f79-9cd5-33b14657b4c6"
      },
      "execution_count": 40,
      "outputs": [
        {
          "output_type": "stream",
          "name": "stdout",
          "text": [
            "Type: torch.FloatTensor\n",
            "Size: torch.Size([])\n",
            "Value: 21.0\n",
            "False\n"
          ]
        }
      ]
    },
    {
      "cell_type": "markdown",
      "source": [
        "#### 1.4.7 CUDA tensor\n",
        "Pytorch는 CUDA tensor 객체를 제공한다.   \n",
        "\n",
        "`torch.cuda.is_available()`로 GPU를 사용할 수 있는지 확인하고   \n",
        "`torch.device()`로 장치 이름을 가져온다. 그다음 `.to(device)` method를    \n",
        "이용하여 이후 초기화되는 모든 tensor를 target device로 이동한다.\n",
        "\n",
        "pytorch에서는 CPU/GPU에 관계없이 동작하는 코드를 작성하는 것이 바람직하다.   \n"
      ],
      "metadata": {
        "id": "r2BzKl5qLexz"
      }
    },
    {
      "cell_type": "code",
      "source": [
        "import torch\n",
        "print(torch.cuda.is_available())"
      ],
      "metadata": {
        "colab": {
          "base_uri": "https://localhost:8080/"
        },
        "id": "4tjIPgXYLeDR",
        "outputId": "ede09b01-e986-42e8-dcaa-441f40e4defd"
      },
      "execution_count": 41,
      "outputs": [
        {
          "output_type": "stream",
          "name": "stdout",
          "text": [
            "True\n"
          ]
        }
      ]
    },
    {
      "cell_type": "code",
      "source": [
        "device = torch.device('cuda' if torch.cuda.is_available() else 'cpu')\n",
        "device"
      ],
      "metadata": {
        "colab": {
          "base_uri": "https://localhost:8080/"
        },
        "id": "knJp0kV8O65y",
        "outputId": "beedacd1-1d2b-4154-92bd-776870079709"
      },
      "execution_count": 42,
      "outputs": [
        {
          "output_type": "execute_result",
          "data": {
            "text/plain": [
              "device(type='cuda')"
            ]
          },
          "metadata": {},
          "execution_count": 42
        }
      ]
    },
    {
      "cell_type": "code",
      "source": [
        "x = torch.rand(3, 3).to(device)\n",
        "describe(x)"
      ],
      "metadata": {
        "colab": {
          "base_uri": "https://localhost:8080/"
        },
        "id": "UHIJncvZQ0E_",
        "outputId": "d3acb296-bf58-418f-d92f-295bc3501ac8"
      },
      "execution_count": 43,
      "outputs": [
        {
          "output_type": "stream",
          "name": "stdout",
          "text": [
            "Type: torch.cuda.FloatTensor\n",
            "Size: torch.Size([3, 3])\n",
            "Value: tensor([[0.2823, 0.6761, 0.6146],\n",
            "        [0.4280, 0.6058, 0.6694],\n",
            "        [0.6886, 0.6846, 0.4253]], device='cuda:0')\n"
          ]
        }
      ]
    },
    {
      "cell_type": "code",
      "source": [
        "y = torch.rand(3, 3)\n",
        "x + y"
      ],
      "metadata": {
        "colab": {
          "base_uri": "https://localhost:8080/",
          "height": 190
        },
        "id": "TkvsAgnWQ45w",
        "outputId": "efb7d4e6-70b3-4cb1-9aa2-1e8f453c2fb2"
      },
      "execution_count": 44,
      "outputs": [
        {
          "output_type": "error",
          "ename": "RuntimeError",
          "evalue": "ignored",
          "traceback": [
            "\u001b[0;31m---------------------------------------------------------------------------\u001b[0m",
            "\u001b[0;31mRuntimeError\u001b[0m                              Traceback (most recent call last)",
            "\u001b[0;32m<ipython-input-44-a34211793e6e>\u001b[0m in \u001b[0;36m<module>\u001b[0;34m\u001b[0m\n\u001b[1;32m      1\u001b[0m \u001b[0my\u001b[0m \u001b[0;34m=\u001b[0m \u001b[0mtorch\u001b[0m\u001b[0;34m.\u001b[0m\u001b[0mrand\u001b[0m\u001b[0;34m(\u001b[0m\u001b[0;36m3\u001b[0m\u001b[0;34m,\u001b[0m \u001b[0;36m3\u001b[0m\u001b[0;34m)\u001b[0m\u001b[0;34m\u001b[0m\u001b[0;34m\u001b[0m\u001b[0m\n\u001b[0;32m----> 2\u001b[0;31m \u001b[0mx\u001b[0m \u001b[0;34m+\u001b[0m \u001b[0my\u001b[0m\u001b[0;34m\u001b[0m\u001b[0;34m\u001b[0m\u001b[0m\n\u001b[0m",
            "\u001b[0;31mRuntimeError\u001b[0m: Expected all tensors to be on the same device, but found at least two devices, cuda:0 and cpu!"
          ]
        }
      ]
    },
    {
      "cell_type": "code",
      "source": [
        "x = x.to(\"cpu\")\n",
        "y = y.to(\"cpu\")\n",
        "x+y"
      ],
      "metadata": {
        "colab": {
          "base_uri": "https://localhost:8080/"
        },
        "id": "E9NE-krpS7dJ",
        "outputId": "0344230b-b2c9-436e-b490-adf7bbce5ba6"
      },
      "execution_count": 45,
      "outputs": [
        {
          "output_type": "execute_result",
          "data": {
            "text/plain": [
              "tensor([[0.6047, 0.9735, 1.6075],\n",
              "        [1.1398, 0.6188, 1.1895],\n",
              "        [1.2684, 1.4454, 1.2842]])"
            ]
          },
          "metadata": {},
          "execution_count": 45
        }
      ]
    }
  ]
}