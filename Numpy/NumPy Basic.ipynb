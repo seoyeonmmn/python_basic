{
 "cells": [
  {
   "cell_type": "code",
   "execution_count": 1,
   "id": "432613d0",
   "metadata": {
    "scrolled": true
   },
   "outputs": [
    {
     "name": "stdout",
     "output_type": "stream",
     "text": [
      "Requirement already satisfied: numpy in c:\\anaconda\\lib\\site-packages (1.20.3)\n"
     ]
    }
   ],
   "source": [
    "!pip install numpy"
   ]
  },
  {
   "cell_type": "code",
   "execution_count": 2,
   "id": "872ba00d",
   "metadata": {},
   "outputs": [],
   "source": [
    "import numpy as np"
   ]
  },
  {
   "cell_type": "markdown",
   "id": "0892af21",
   "metadata": {},
   "source": [
    "### Section 1. N차원 배열 생성\n",
    "\n",
    "\n",
    "#### 1. N차원 배열 생성하기"
   ]
  },
  {
   "cell_type": "code",
   "execution_count": 3,
   "id": "a168727c",
   "metadata": {},
   "outputs": [
    {
     "name": "stdout",
     "output_type": "stream",
     "text": [
      "[1 2 3]\n"
     ]
    }
   ],
   "source": [
    "# 1차원 배열\n",
    "arr = np.array([1, 2, 3])\n",
    "print(arr)"
   ]
  },
  {
   "cell_type": "code",
   "execution_count": 4,
   "id": "01ac3dba",
   "metadata": {},
   "outputs": [
    {
     "name": "stdout",
     "output_type": "stream",
     "text": [
      "[[1 2 3]\n",
      " [4 5 6]]\n"
     ]
    }
   ],
   "source": [
    "# 2차원 배열\n",
    "arr = np.array([[1, 2, 3], [4, 5, 6]])\n",
    "print(arr)"
   ]
  },
  {
   "cell_type": "markdown",
   "id": "5c61cb50",
   "metadata": {},
   "source": [
    "##### list/tuple로 n-dimensinal array"
   ]
  },
  {
   "cell_type": "code",
   "execution_count": 5,
   "id": "05936eb7",
   "metadata": {},
   "outputs": [
    {
     "name": "stdout",
     "output_type": "stream",
     "text": [
      "[4 5 6]\n"
     ]
    }
   ],
   "source": [
    "#tuple 이용하여 array 생성\n",
    "tpl = (4, 5, 6)\n",
    "arr = np. array(tpl)\n",
    "print(arr)"
   ]
  },
  {
   "cell_type": "code",
   "execution_count": 6,
   "id": "53782927",
   "metadata": {},
   "outputs": [
    {
     "name": "stdout",
     "output_type": "stream",
     "text": [
      "[1 2 3]\n",
      "[[1 2 3]\n",
      " [4 5 6]]\n",
      "[[1 2 3]\n",
      " [4 5 6]]\n"
     ]
    }
   ],
   "source": [
    "# list 이용하여 array 생성\n",
    "lst1 = [1, 2, 3]\n",
    "arr1 = np.array(lst1)\n",
    "print(arr1)\n",
    "\n",
    "lst2 = [[1, 2, 3], [4, 5, 6]]\n",
    "arr2 = np.array(lst2)\n",
    "print(arr2)\n",
    "\n",
    "lst3 = [4, 5, 6]\n",
    "arr3 = np.array([lst1, lst3])\n",
    "print(arr3)\n"
   ]
  },
  {
   "cell_type": "code",
   "execution_count": 7,
   "id": "1d51752f",
   "metadata": {},
   "outputs": [
    {
     "data": {
      "text/plain": [
       "((3,), (2, 3))"
      ]
     },
     "execution_count": 7,
     "metadata": {},
     "output_type": "execute_result"
    }
   ],
   "source": [
    "# shape\n",
    "arr1 = np.array([1, 2, 3])\n",
    "arr2 = np.array([[1, 2, 3], [4, 5, 6]])\n",
    "\n",
    "arr1.shape, arr2.shape  #(3, ): 원소가 3개인 배열, (2, 3) 2행 3열의 2차원 array"
   ]
  },
  {
   "cell_type": "code",
   "execution_count": 8,
   "id": "2ca29d56",
   "metadata": {},
   "outputs": [
    {
     "data": {
      "text/plain": [
       "(3, 3)"
      ]
     },
     "execution_count": 8,
     "metadata": {},
     "output_type": "execute_result"
    }
   ],
   "source": [
    "arr3 = np.array([[1, 2, 3], [4, 5, 6], [7, 8, 9]])\n",
    "arr3.shape"
   ]
  },
  {
   "cell_type": "code",
   "execution_count": 9,
   "id": "7b99e2c9",
   "metadata": {},
   "outputs": [
    {
     "data": {
      "text/plain": [
       "(1, 2, 2)"
      ]
     },
     "execution_count": 9,
     "metadata": {},
     "output_type": "execute_result"
    }
   ],
   "source": [
    "# ndim\n",
    "arr1.ndim, arr2.ndim, arr3.ndim"
   ]
  },
  {
   "cell_type": "code",
   "execution_count": 10,
   "id": "61b7d77b",
   "metadata": {},
   "outputs": [
    {
     "data": {
      "text/plain": [
       "(3, 6, 9)"
      ]
     },
     "execution_count": 10,
     "metadata": {},
     "output_type": "execute_result"
    }
   ],
   "source": [
    "# size: 원소 개수\n",
    "arr1.size, arr2.size, arr3.size"
   ]
  },
  {
   "cell_type": "markdown",
   "id": "2747afda",
   "metadata": {},
   "source": [
    "#### 2. N차원 배열의 데이터 타입\n",
    "모든 numpy array는 고유한 데이터 타입을 가짐. \n",
    "array 정의 시 데이터 타입 함께 지정할 수 있고, 정의하지 않는다면 자동으로 적절한 데이터 타입이 지정됨."
   ]
  },
  {
   "cell_type": "code",
   "execution_count": 11,
   "id": "7b18bf6a",
   "metadata": {},
   "outputs": [
    {
     "data": {
      "text/plain": [
       "(array([1, 2, 3]), dtype('int32'))"
      ]
     },
     "execution_count": 11,
     "metadata": {},
     "output_type": "execute_result"
    }
   ],
   "source": [
    "# 함께 정의하지 않는 경우(자동적으로 지정)\n",
    "arr = np.array([1, 2, 3])\n",
    "arr, arr.dtype"
   ]
  },
  {
   "cell_type": "code",
   "execution_count": 12,
   "id": "d3eab753",
   "metadata": {},
   "outputs": [
    {
     "name": "stdout",
     "output_type": "stream",
     "text": [
      "[1. 2. 3.] float64\n",
      "[1 2 3] int32\n",
      "[False  True  True] bool\n"
     ]
    }
   ],
   "source": [
    "# 데이터 타입 함께 정의하는 경우\n",
    "arr1 = np.array([1, 2, 3], dtype=float)\n",
    "print(arr1, arr1.dtype)\n",
    "\n",
    "arr2 = np.array([1, 2, 3], dtype=int)\n",
    "print(arr2, arr2.dtype)\n",
    "\n",
    "arr3 = np.array([0, 1, 2], dtype=bool)\n",
    "print(arr3, arr3.dtype)"
   ]
  },
  {
   "cell_type": "markdown",
   "id": "c0880ac4",
   "metadata": {},
   "source": [
    "##### 기존에 정의한 data type 변경 => astype method 이용!"
   ]
  },
  {
   "cell_type": "code",
   "execution_count": 13,
   "id": "318b9f5b",
   "metadata": {},
   "outputs": [
    {
     "name": "stdout",
     "output_type": "stream",
     "text": [
      "[1 2 3] int32\n",
      "[1. 2. 3.] float32\n"
     ]
    }
   ],
   "source": [
    "arr = np.array([1, 2, 3], dtype=int)\n",
    "print(arr, arr.dtype)\n",
    "\n",
    "arr = arr.astype(np.float32)\n",
    "print(arr, arr.dtype)"
   ]
  },
  {
   "cell_type": "markdown",
   "id": "e55af5ff",
   "metadata": {},
   "source": [
    " numpy array는 숫자형과 문자열이 섞이면 모두 문자열로 전환, \n",
    " ***한 가지 자료형만 허용***"
   ]
  },
  {
   "cell_type": "code",
   "execution_count": 14,
   "id": "ed3f7189",
   "metadata": {},
   "outputs": [
    {
     "name": "stdout",
     "output_type": "stream",
     "text": [
      "[ 1  2  3  4 64] int32\n",
      "['1' '2' '3' '4' '64'] <U11\n",
      "['1' '2' '3' '4' 'A'] <U11\n"
     ]
    }
   ],
   "source": [
    "arr = np.array([1, 2, 3, 4, '64'], dtype=int)\n",
    "print(arr, arr.dtype)\n",
    "\n",
    "arr = np.array([1, 2, 3, 4, '64'])\n",
    "print(arr, arr.dtype)\n",
    "\n",
    "arr = np.array([1, 2, 3, 4, 'A'])\n",
    "print(arr, arr.dtype)"
   ]
  },
  {
   "cell_type": "code",
   "execution_count": 15,
   "id": "b7e13047",
   "metadata": {},
   "outputs": [
    {
     "ename": "ValueError",
     "evalue": "invalid literal for int() with base 10: 'A'",
     "output_type": "error",
     "traceback": [
      "\u001b[1;31m---------------------------------------------------------------------------\u001b[0m",
      "\u001b[1;31mValueError\u001b[0m                                Traceback (most recent call last)",
      "\u001b[1;32mC:\\Temp/ipykernel_27352/442964577.py\u001b[0m in \u001b[0;36m<module>\u001b[1;34m\u001b[0m\n\u001b[1;32m----> 1\u001b[1;33m \u001b[0marr\u001b[0m \u001b[1;33m=\u001b[0m \u001b[0mnp\u001b[0m\u001b[1;33m.\u001b[0m\u001b[0marray\u001b[0m\u001b[1;33m(\u001b[0m\u001b[1;33m[\u001b[0m\u001b[1;36m1\u001b[0m\u001b[1;33m,\u001b[0m \u001b[1;36m2\u001b[0m\u001b[1;33m,\u001b[0m \u001b[1;36m3\u001b[0m\u001b[1;33m,\u001b[0m \u001b[1;36m4\u001b[0m\u001b[1;33m,\u001b[0m \u001b[1;34m'A'\u001b[0m\u001b[1;33m]\u001b[0m\u001b[1;33m,\u001b[0m \u001b[0mdtype\u001b[0m\u001b[1;33m=\u001b[0m\u001b[0mint\u001b[0m\u001b[1;33m)\u001b[0m\u001b[1;33m\u001b[0m\u001b[1;33m\u001b[0m\u001b[0m\n\u001b[0m\u001b[0;32m      2\u001b[0m \u001b[0mprint\u001b[0m\u001b[1;33m(\u001b[0m\u001b[0marr\u001b[0m\u001b[1;33m,\u001b[0m \u001b[0marr\u001b[0m\u001b[1;33m.\u001b[0m\u001b[0mdtype\u001b[0m\u001b[1;33m)\u001b[0m\u001b[1;33m\u001b[0m\u001b[1;33m\u001b[0m\u001b[0m\n",
      "\u001b[1;31mValueError\u001b[0m: invalid literal for int() with base 10: 'A'"
     ]
    }
   ],
   "source": [
    "arr = np.array([1, 2, 3, 4, 'A'], dtype=int)\n",
    "print(arr, arr.dtype)"
   ]
  },
  {
   "cell_type": "markdown",
   "id": "eddf0e72",
   "metadata": {},
   "source": [
    "#### 3. 정해진 형식의 N차원 배열 생성하기"
   ]
  },
  {
   "cell_type": "code",
   "execution_count": 16,
   "id": "90cca855",
   "metadata": {},
   "outputs": [
    {
     "data": {
      "text/plain": [
       "array([[0., 0.],\n",
       "       [0., 0.],\n",
       "       [0., 0.]])"
      ]
     },
     "execution_count": 16,
     "metadata": {},
     "output_type": "execute_result"
    }
   ],
   "source": [
    "# np.zeros() : 모든 element가 0으로 된 배열 생성\n",
    "arr = np.zeros([3, 2]) # shape을 인자로\n",
    "arr"
   ]
  },
  {
   "cell_type": "code",
   "execution_count": 17,
   "id": "6aa40a63",
   "metadata": {},
   "outputs": [
    {
     "data": {
      "text/plain": [
       "array([[1., 1., 1., 1., 1.],\n",
       "       [1., 1., 1., 1., 1.],\n",
       "       [1., 1., 1., 1., 1.]])"
      ]
     },
     "execution_count": 17,
     "metadata": {},
     "output_type": "execute_result"
    }
   ],
   "source": [
    "# np.ones()\n",
    "arr = np.ones([3, 5])\n",
    "arr"
   ]
  },
  {
   "cell_type": "code",
   "execution_count": 18,
   "id": "8cea2b04",
   "metadata": {},
   "outputs": [
    {
     "data": {
      "text/plain": [
       "array([[[7, 7],\n",
       "        [7, 7],\n",
       "        [7, 7],\n",
       "        [7, 7],\n",
       "        [7, 7]],\n",
       "\n",
       "       [[7, 7],\n",
       "        [7, 7],\n",
       "        [7, 7],\n",
       "        [7, 7],\n",
       "        [7, 7]],\n",
       "\n",
       "       [[7, 7],\n",
       "        [7, 7],\n",
       "        [7, 7],\n",
       "        [7, 7],\n",
       "        [7, 7]]])"
      ]
     },
     "execution_count": 18,
     "metadata": {},
     "output_type": "execute_result"
    }
   ],
   "source": [
    "# np.full()\n",
    "arr = np.full([3, 5, 2], 7)\n",
    "arr"
   ]
  },
  {
   "cell_type": "code",
   "execution_count": 19,
   "id": "48c228ca",
   "metadata": {},
   "outputs": [
    {
     "data": {
      "text/plain": [
       "array([[1., 0., 0., 0., 0.],\n",
       "       [0., 1., 0., 0., 0.],\n",
       "       [0., 0., 1., 0., 0.],\n",
       "       [0., 0., 0., 1., 0.]])"
      ]
     },
     "execution_count": 19,
     "metadata": {},
     "output_type": "execute_result"
    }
   ],
   "source": [
    "# np.eye()\n",
    "arr = np.eye(4, 5, k = 0) # k: 출발 지점 설정, default = 0, [] 없이, n*m\n",
    "arr"
   ]
  },
  {
   "cell_type": "code",
   "execution_count": 20,
   "id": "ec1e2b8d",
   "metadata": {},
   "outputs": [
    {
     "data": {
      "text/plain": [
       "array([[0, 0, 0],\n",
       "       [0, 0, 0]])"
      ]
     },
     "execution_count": 20,
     "metadata": {},
     "output_type": "execute_result"
    }
   ],
   "source": [
    "arr = np.array([[1, 2, 3],\n",
    "               [4, 5, 6]])\n",
    "\n",
    "# np.zeros_likr()\n",
    "arr_z= np.zeros_like(arr)\n",
    "arr_z"
   ]
  },
  {
   "cell_type": "code",
   "execution_count": 21,
   "id": "58663311",
   "metadata": {},
   "outputs": [
    {
     "data": {
      "text/plain": [
       "array([[1, 1, 1],\n",
       "       [1, 1, 1]])"
      ]
     },
     "execution_count": 21,
     "metadata": {},
     "output_type": "execute_result"
    }
   ],
   "source": [
    "# np.ones_like()\n",
    "arr_o = np.ones_like(arr)\n",
    "arr_o"
   ]
  },
  {
   "cell_type": "code",
   "execution_count": 22,
   "id": "5c74ce26",
   "metadata": {},
   "outputs": [
    {
     "data": {
      "text/plain": [
       "array([[4, 4, 4],\n",
       "       [4, 4, 4]])"
      ]
     },
     "execution_count": 22,
     "metadata": {},
     "output_type": "execute_result"
    }
   ],
   "source": [
    "# np.full_like()\n",
    "arr_f = np.full_like(arr, 4)\n",
    "arr_f"
   ]
  },
  {
   "cell_type": "markdown",
   "id": "ad91e4ac",
   "metadata": {},
   "source": [
    "#### 4. 특정 범위의 값을 가지는 N차원 배열 생성하기"
   ]
  },
  {
   "cell_type": "code",
   "execution_count": 23,
   "id": "7670b7ef",
   "metadata": {},
   "outputs": [
    {
     "data": {
      "text/plain": [
       "[0, 2, 4, 6, 8]"
      ]
     },
     "execution_count": 23,
     "metadata": {},
     "output_type": "execute_result"
    }
   ],
   "source": [
    "lst = list(range(0, 9, 2))\n",
    "lst"
   ]
  },
  {
   "cell_type": "code",
   "execution_count": 24,
   "id": "418df188",
   "metadata": {},
   "outputs": [
    {
     "name": "stdout",
     "output_type": "stream",
     "text": [
      "[0 1 2 3 4 5 6 7 8]\n",
      "[ 3  4  5  6  7  8  9 10 11 12]\n",
      "[ 3  5  7  9 11]\n"
     ]
    }
   ],
   "source": [
    "arr = np.arange(9) #start, stop, step\n",
    "print(arr)\n",
    "arr = np.arange(3, 13)\n",
    "print(arr)\n",
    "arr = np.arange(3, 13, 2)\n",
    "print(arr)"
   ]
  },
  {
   "cell_type": "code",
   "execution_count": 25,
   "id": "3a8e97cd",
   "metadata": {},
   "outputs": [
    {
     "data": {
      "text/plain": [
       "array([  0.,  10.,  20.,  30.,  40.,  50.,  60.,  70.,  80.,  90., 100.])"
      ]
     },
     "execution_count": 25,
     "metadata": {},
     "output_type": "execute_result"
    }
   ],
   "source": [
    "# np.linspace()\n",
    "arr = np.linspace(0, 100, 11) # stop까지, 미만아니라!, 0이상 100이하의 값이 11개의 균일한 간격을 가지는 배열\n",
    "arr"
   ]
  },
  {
   "cell_type": "code",
   "execution_count": 26,
   "id": "3e23eeff",
   "metadata": {},
   "outputs": [
    {
     "name": "stdout",
     "output_type": "stream",
     "text": [
      "[ 1.  2.  3.  4.  5.  6.  7.  8.  9. 10.]\n",
      "\n",
      "[   2.    4.    8.   16.   32.   64.  128.  256.  512. 1024.]\n",
      "\n",
      "[1.e+01 1.e+02 1.e+03 1.e+04 1.e+05 1.e+06 1.e+07 1.e+08 1.e+09 1.e+10]\n",
      "\n"
     ]
    }
   ],
   "source": [
    "# np.logspace()\n",
    "\n",
    "arr = np.linspace(1, 10, 10)\n",
    "print(arr, end = \"\\n\\n\")\n",
    "\n",
    "arr = np.logspace(1, 10, 10, base = 2)\n",
    "print(arr, end = \"\\n\\n\")\n",
    "\n",
    "arr = np.logspace(1, 10, 10) #base default = 10\n",
    "print(arr, end = \"\\n\\n\")"
   ]
  },
  {
   "cell_type": "markdown",
   "id": "9f57d690",
   "metadata": {},
   "source": [
    "#### 5. 난수로 N차원 배열 생성하기"
   ]
  },
  {
   "cell_type": "code",
   "execution_count": 27,
   "id": "962cac8f",
   "metadata": {},
   "outputs": [],
   "source": [
    "import matplotlib.pyplot as plt"
   ]
  },
  {
   "cell_type": "code",
   "execution_count": 28,
   "id": "cedc7bba",
   "metadata": {},
   "outputs": [
    {
     "name": "stdout",
     "output_type": "stream",
     "text": [
      "[-0.46301529 -2.40220293 -0.04054364  1.19882991  0.24275013  0.01897241\n",
      "  0.24627676  0.14121336  0.90809443 -0.7170411 ]\n",
      "[[ 1.89498174  0.72497776  2.35930111 -0.55613139]\n",
      " [-0.16552447 -0.0633931   0.56940856 -0.13645939]\n",
      " [-0.66499392 -1.8004077   0.29504576 -0.90535216]]\n"
     ]
    }
   ],
   "source": [
    "# np.random.normal()  normal: 정규 분포 확률 밀도에서 표본 추출하는 함수\n",
    "arr = np.random.normal(0, 1, 10)  # parameter -> (mean, std, size)\n",
    "print(arr)\n",
    "arr = np.random.normal(0, 1, [3, 4])\n",
    "print(arr)"
   ]
  },
  {
   "cell_type": "code",
   "execution_count": 29,
   "id": "c3e36b0a",
   "metadata": {},
   "outputs": [
    {
     "data": {
      "image/png": "[encoded data removed]",
      "text/plain": [
       "<Figure size 432x288 with 1 Axes>"
      ]
     },
     "metadata": {
      "needs_background": "light"
     },
     "output_type": "display_data"
    }
   ],
   "source": [
    "arr = np.random.normal(0, 1, 100000)\n",
    "plt.hist(arr, bins=100)\n",
    "plt.show()"
   ]
  },
  {
   "cell_type": "code",
   "execution_count": 30,
   "id": "a46530e9",
   "metadata": {},
   "outputs": [
    {
     "data": {
      "text/plain": [
       "<function matplotlib.pyplot.show(close=None, block=None)>"
      ]
     },
     "execution_count": 30,
     "metadata": {},
     "output_type": "execute_result"
    },
    {
     "data": {
      "image/png": "[encoded data removed]",
      "text/plain": [
       "<Figure size 432x288 with 1 Axes>"
      ]
     },
     "metadata": {
      "needs_background": "light"
     },
     "output_type": "display_data"
    }
   ],
   "source": [
    "# np.random.rand() 균등한  비율로 표본 추출\n",
    "arr = np.random.rand(1000) # parameter -> (표본개수)\n",
    "plt.hist(arr, bins = 100)\n",
    "plt.show"
   ]
  },
  {
   "cell_type": "code",
   "execution_count": 31,
   "id": "7f850e80",
   "metadata": {},
   "outputs": [
    {
     "data": {
      "text/plain": [
       "<function matplotlib.pyplot.show(close=None, block=None)>"
      ]
     },
     "execution_count": 31,
     "metadata": {},
     "output_type": "execute_result"
    },
    {
     "data": {
      "image/png": "[encoded data removed]",
      "text/plain": [
       "<Figure size 432x288 with 1 Axes>"
      ]
     },
     "metadata": {
      "needs_background": "light"
     },
     "output_type": "display_data"
    }
   ],
   "source": [
    "# np.random.randn() =1~1 사이의 값을 정규분포 표본 추출 (Gaussian)\n",
    "arr = np.random.randn(10000)\n",
    "plt.hist(arr, bins = 100)\n",
    "plt.show"
   ]
  },
  {
   "cell_type": "code",
   "execution_count": 32,
   "id": "166f4490",
   "metadata": {},
   "outputs": [
    {
     "name": "stdout",
     "output_type": "stream",
     "text": [
      "[1 4 1 1 1 2 2 2 1 3]\n",
      "[[2 2 3 2 2]\n",
      " [3 3 1 4 2]\n",
      " [2 4 1 1 1]\n",
      " [3 3 4 4 3]]\n"
     ]
    }
   ],
   "source": [
    "# np.random.randint()  low~high의 random intiger 값으로 압력된 size의 배열 생성\n",
    "arr = np.random.randint(low=1, high=5, size=10)\n",
    "print(arr)\n",
    "\n",
    "arr = np.random.randint(low=1, high=5, size=[4, 5])\n",
    "print(arr)"
   ]
  },
  {
   "cell_type": "code",
   "execution_count": 33,
   "id": "8156e8e7",
   "metadata": {},
   "outputs": [
    {
     "data": {
      "text/plain": [
       "<function matplotlib.pyplot.show(close=None, block=None)>"
      ]
     },
     "execution_count": 33,
     "metadata": {},
     "output_type": "execute_result"
    },
    {
     "data": {
      "image/png": "[encoded data removed]",
      "text/plain": [
       "<Figure size 432x288 with 1 Axes>"
      ]
     },
     "metadata": {
      "needs_background": "light"
     },
     "output_type": "display_data"
    }
   ],
   "source": [
    "arr = np.random.randint(100, 200, 1000)\n",
    "plt.hist(arr, bins = 100)\n",
    "plt.show"
   ]
  },
  {
   "cell_type": "markdown",
   "id": "fe9f5bf4",
   "metadata": {},
   "source": [
    "#### 6. Seed Value를 통한 난수 생성 제어\n",
    "random으로 **특정 시작점**으로부터 난수처럼 보이는 수열을 만드는데, seed 이용하여 시작점을 직접 설정하면 랜덤 배열 재현 가능."
   ]
  },
  {
   "cell_type": "code",
   "execution_count": 34,
   "id": "5f0f2d8b",
   "metadata": {},
   "outputs": [
    {
     "name": "stdout",
     "output_type": "stream",
     "text": [
      "[0.94656918 0.16295223 0.74085201 0.43885789 0.57689087 0.61410614\n",
      " 0.97169223 0.8993834  0.14009129 0.65017283]\n",
      "[0.63893677 0.99258942 0.6218334  0.07049943 0.78699517 0.95105656\n",
      " 0.32684649 0.92317754 0.0277034  0.99268415]\n"
     ]
    }
   ],
   "source": [
    "# seed 지정해주지 않았을 떄\n",
    "arr = np.random.rand(10)\n",
    "print(arr)\n",
    "\n",
    "arr = np.random.rand(10)\n",
    "print(arr)"
   ]
  },
  {
   "cell_type": "code",
   "execution_count": 35,
   "id": "4b5f246d",
   "metadata": {},
   "outputs": [
    {
     "name": "stdout",
     "output_type": "stream",
     "text": [
      "[0.5488135  0.71518937 0.60276338 0.54488318 0.4236548  0.64589411\n",
      " 0.43758721 0.891773   0.96366276 0.38344152]\n",
      "[0.5488135  0.71518937 0.60276338 0.54488318 0.4236548  0.64589411\n",
      " 0.43758721 0.891773   0.96366276 0.38344152]\n"
     ]
    }
   ],
   "source": [
    "# seed 지정해주었을 떄\n",
    "np.random.seed(0)\n",
    "arr = np.random.rand(10)\n",
    "print(arr)\n",
    "\n",
    "np.random.seed(0)\n",
    "arr = np.random.rand(10)\n",
    "print(arr)"
   ]
  },
  {
   "cell_type": "markdown",
   "id": "b4666aa0",
   "metadata": {},
   "source": [
    "### Section 2. N-차원 배열의 인덱싱\n",
    "#### 1. 배열의 index 접근하기"
   ]
  },
  {
   "cell_type": "code",
   "execution_count": 36,
   "id": "f32ae299",
   "metadata": {},
   "outputs": [
    {
     "name": "stdout",
     "output_type": "stream",
     "text": [
      "[0 1 2 3 4 5 6 7 8 9]\n",
      "0\n",
      "1\n",
      "9\n",
      "9\n",
      "1\n",
      "0\n",
      "\n",
      "\n",
      "[3 4 5 6 7]\n",
      "[3 4 5 6 7 8 9]\n",
      "[0 1 2 3 4 5 6 7]\n",
      "[0 1 2 3 4 5 6 7 8]\n",
      "[7 8 9]\n"
     ]
    }
   ],
   "source": [
    "# 1차원 배열\n",
    "arr = np.arange(10)\n",
    "print(arr)\n",
    "print(arr[0])\n",
    "print(arr[1])\n",
    "print(arr[9])\n",
    "print(arr[-1])\n",
    "print(arr[-9])\n",
    "print(arr[-10])\n",
    "print('\\n')\n",
    "\n",
    "print(arr[3:8])\n",
    "print(arr[3:])\n",
    "print(arr[:8])\n",
    "print(arr[:-1])\n",
    "print(arr[-3:])\n"
   ]
  },
  {
   "cell_type": "code",
   "execution_count": 37,
   "id": "99276673",
   "metadata": {},
   "outputs": [
    {
     "name": "stdout",
     "output_type": "stream",
     "text": [
      "[[ 1  2  3  4]\n",
      " [ 5  6  7  8]\n",
      " [ 9 10 11 23]] (3, 4) 2\n",
      "[1 2 3 4]\n",
      "4\n",
      "\n",
      "\n",
      "[1 2 3 4]\n",
      "[1 2 3 4]\n",
      "[ 4  8 23]\n",
      "\n",
      "\n",
      "[[ 1  2  3  4]\n",
      " [ 5  6  7  8]\n",
      " [ 9 10 11 23]]\n"
     ]
    }
   ],
   "source": [
    "# 2차원 배열\n",
    "arr = np.array([[1, 2, 3, 4],\n",
    "              [5, 6, 7, 8],\n",
    "              [9, 10, 11, 23]])\n",
    "print(arr, arr.shape, arr.ndim)\n",
    "print(arr[0])\n",
    "print(arr[0][3])\n",
    "print('\\n')\n",
    "\n",
    "print(arr[0][:])\n",
    "print(arr[0, :])\n",
    "print(arr[:, 3])\n",
    "print('\\n')\n",
    "\n",
    "print(arr[:3, :])  #[:3]  0부터 3미만!"
   ]
  },
  {
   "cell_type": "markdown",
   "id": "58c374c6",
   "metadata": {},
   "source": [
    "#### 2. Fancy indexing\n",
    "특정 인덱스 여러 개를 선택하여 탐색하는 방법"
   ]
  },
  {
   "cell_type": "code",
   "execution_count": 38,
   "id": "22d9d323",
   "metadata": {},
   "outputs": [
    {
     "data": {
      "text/plain": [
       "array([ 5, 15, 25])"
      ]
     },
     "execution_count": 38,
     "metadata": {},
     "output_type": "execute_result"
    }
   ],
   "source": [
    "# 1차원 배열\n",
    "arr = np.array([5, 10, 15, 20, 25, 30])\n",
    "arr[[0, 2, 4]]"
   ]
  },
  {
   "cell_type": "code",
   "execution_count": 39,
   "id": "45b7fa29",
   "metadata": {},
   "outputs": [
    {
     "name": "stdout",
     "output_type": "stream",
     "text": [
      "[[ 3  4]\n",
      " [11 23]]\n",
      "[[ 7  8]\n",
      " [11 23]]\n"
     ]
    }
   ],
   "source": [
    "# 2차원 배열\n",
    "arr = np.array([[1, 2, 3, 4],\n",
    "              [5, 6, 7, 8],\n",
    "              [9, 10, 11, 23]])\n",
    "print(arr[[0, 2], 2:]) # 0행과 2행, 2열부터 끝까지\n",
    "print(arr[1:, [2, 3]])"
   ]
  },
  {
   "cell_type": "markdown",
   "id": "0afbf15c",
   "metadata": {},
   "source": [
    "#### 3. Boolean Indexing"
   ]
  },
  {
   "cell_type": "code",
   "execution_count": 40,
   "id": "971f556f",
   "metadata": {},
   "outputs": [
    {
     "name": "stdout",
     "output_type": "stream",
     "text": [
      "[1 3]\n",
      "[[1 2 3 4]\n",
      " [5 6 7 8]]\n"
     ]
    }
   ],
   "source": [
    "arr = np.array([1, 2, 3, 4])\n",
    "print(arr[[True, False, True, False]]) #True에 해당되는 값만 가져오기\n",
    "\n",
    "arr = np.array([[1, 2, 3, 4],\n",
    "              [5, 6, 7, 8],\n",
    "              [9, 10, 11, 23]])\n",
    "print(arr[[True, True, False],True])"
   ]
  },
  {
   "cell_type": "code",
   "execution_count": 41,
   "id": "aca201e8",
   "metadata": {},
   "outputs": [
    {
     "name": "stdout",
     "output_type": "stream",
     "text": [
      "[ 5  6  7  8  9 10 11 23]\n"
     ]
    }
   ],
   "source": [
    "arr = np.array([[1, 2, 3, 4],\n",
    "              [5, 6, 7, 8],\n",
    "              [9, 10, 11, 23]])\n",
    "\n",
    "print(arr[arr>4])"
   ]
  },
  {
   "cell_type": "markdown",
   "id": "11c2e07d",
   "metadata": {},
   "source": [
    "### Section 3. N차원 배열의 연산법\n",
    "#### 1. 배열의 연산(Shape 같은 array 간의 연산법)"
   ]
  },
  {
   "cell_type": "markdown",
   "id": "7e2fac65",
   "metadata": {},
   "source": [
    "#### 1.1 사칙연산/제곱/제곱급/몫/나머지"
   ]
  },
  {
   "cell_type": "code",
   "execution_count": 42,
   "id": "09f35801",
   "metadata": {},
   "outputs": [],
   "source": [
    "arr1 = np.array([[1, 2, 3],\n",
    "                [4, 5, 6],\n",
    "                [7, 8, 9]])\n",
    "\n",
    "arr2 = np.array([[2, 2, 2],\n",
    "                [2, 2, 2],\n",
    "                [2, 2, 2]])"
   ]
  },
  {
   "cell_type": "code",
   "execution_count": 43,
   "id": "c2af302d",
   "metadata": {},
   "outputs": [
    {
     "name": "stdout",
     "output_type": "stream",
     "text": [
      "[[ 3  4  5]\n",
      " [ 6  7  8]\n",
      " [ 9 10 11]]\n",
      "[[ 3  4  5]\n",
      " [ 6  7  8]\n",
      " [ 9 10 11]]\n"
     ]
    }
   ],
   "source": [
    "# 덧셈\n",
    "print(arr1+arr2)\n",
    "print(np.add(arr1, arr2))"
   ]
  },
  {
   "cell_type": "code",
   "execution_count": 44,
   "id": "e86f5d96",
   "metadata": {},
   "outputs": [
    {
     "name": "stdout",
     "output_type": "stream",
     "text": [
      "[[-1  0  1]\n",
      " [ 2  3  4]\n",
      " [ 5  6  7]]\n",
      "[[-1  0  1]\n",
      " [ 2  3  4]\n",
      " [ 5  6  7]]\n"
     ]
    }
   ],
   "source": [
    "# 뺄셈\n",
    "print(arr1-arr2)\n",
    "print(np.subtract(arr1, arr2))"
   ]
  },
  {
   "cell_type": "code",
   "execution_count": 45,
   "id": "929e8151",
   "metadata": {},
   "outputs": [
    {
     "name": "stdout",
     "output_type": "stream",
     "text": [
      "[[ 2  4  6]\n",
      " [ 8 10 12]\n",
      " [14 16 18]]\n",
      "[[ 2  4  6]\n",
      " [ 8 10 12]\n",
      " [14 16 18]]\n"
     ]
    }
   ],
   "source": [
    "# 곱셈 (내적 아님 주의!!)\n",
    "print(arr1*arr2)\n",
    "print(np.multiply(arr1, arr2)) "
   ]
  },
  {
   "cell_type": "code",
   "execution_count": 46,
   "id": "dc5eb648",
   "metadata": {},
   "outputs": [
    {
     "name": "stdout",
     "output_type": "stream",
     "text": [
      "[[0.5 1.  1.5]\n",
      " [2.  2.5 3. ]\n",
      " [3.5 4.  4.5]]\n",
      "[[0.5 1.  1.5]\n",
      " [2.  2.5 3. ]\n",
      " [3.5 4.  4.5]]\n"
     ]
    }
   ],
   "source": [
    "# 나눗셈\n",
    "print(arr1/arr2)\n",
    "print(np.divide(arr1, arr2))"
   ]
  },
  {
   "cell_type": "code",
   "execution_count": 47,
   "id": "adae406d",
   "metadata": {},
   "outputs": [
    {
     "name": "stdout",
     "output_type": "stream",
     "text": [
      "[[    1    32   243]\n",
      " [ 1024  3125  7776]\n",
      " [16807 32768 59049]]\n",
      "[[ 1  4  9]\n",
      " [16 25 36]\n",
      " [49 64 81]]\n",
      "[[1.         1.41421356 1.73205081]\n",
      " [2.         2.23606798 2.44948974]\n",
      " [2.64575131 2.82842712 3.        ]]\n"
     ]
    }
   ],
   "source": [
    "# 제곱연산\n",
    "arr1 = np.array([[1, 2, 3],\n",
    "                [4, 5, 6],\n",
    "                [7, 8, 9]])\n",
    "\n",
    "arr2 = np.array([[2, 2, 2],\n",
    "                [2, 2, 2],\n",
    "                [2, 2, 2]])\n",
    "\n",
    "print(arr1**5)\n",
    "print(np.square(arr1))\n",
    "\n",
    "# 제곱근\n",
    "print(np.sqrt(arr1))"
   ]
  },
  {
   "cell_type": "code",
   "execution_count": 48,
   "id": "72a2b506",
   "metadata": {},
   "outputs": [
    {
     "name": "stdout",
     "output_type": "stream",
     "text": [
      "[[0 1 1]\n",
      " [2 2 3]\n",
      " [3 4 4]]\n",
      "[[1 0 1]\n",
      " [0 1 0]\n",
      " [1 0 1]]\n"
     ]
    }
   ],
   "source": [
    "# 몫\n",
    "print(arr1 // 2)\n",
    "\n",
    "# 나머지\n",
    "print(arr1 % 2)"
   ]
  },
  {
   "cell_type": "markdown",
   "id": "fa6de59e",
   "metadata": {},
   "source": [
    "#### 1.2 내적(dot product)/절댓값/올림/내림'반올림/버림"
   ]
  },
  {
   "cell_type": "code",
   "execution_count": 49,
   "id": "e416027a",
   "metadata": {},
   "outputs": [
    {
     "name": "stdout",
     "output_type": "stream",
     "text": [
      "20\n"
     ]
    }
   ],
   "source": [
    "# 1차원 행렬\n",
    "arr1 = np.array([2, 3, 4])\n",
    "arr2 = np.array([1, 2, 3])\n",
    "\n",
    "print(np.dot(arr1, arr2))"
   ]
  },
  {
   "cell_type": "code",
   "execution_count": 50,
   "id": "c574f3eb",
   "metadata": {},
   "outputs": [
    {
     "name": "stdout",
     "output_type": "stream",
     "text": [
      "[[ 1  8]\n",
      " [ 4 23]]\n"
     ]
    }
   ],
   "source": [
    "# 2차원 행렬 (=>2차원 행렬의 곱셈과 동일)\n",
    "\n",
    "arr1 = np.array([[1, 2],\n",
    "                 [4, 5]])\n",
    "arr2 = np.array([[1, 2],\n",
    "                 [0, 3]])\n",
    "\n",
    "print(np.dot(arr1, arr2))"
   ]
  },
  {
   "cell_type": "code",
   "execution_count": 51,
   "id": "a1e7b38e",
   "metadata": {},
   "outputs": [
    {
     "name": "stdout",
     "output_type": "stream",
     "text": [
      "[[1 2]\n",
      " [4 5]]\n"
     ]
    }
   ],
   "source": [
    "# 절댓값\n",
    "\n",
    "arr1 = np.array([[1, -2],\n",
    "                 [-4, 5]])\n",
    "print(np.abs(arr1))"
   ]
  },
  {
   "cell_type": "code",
   "execution_count": 52,
   "id": "873732f1",
   "metadata": {},
   "outputs": [
    {
     "name": "stdout",
     "output_type": "stream",
     "text": [
      "[[ 2. -2.]\n",
      " [-4.  6.]]\n",
      "[[ 1. -3.]\n",
      " [-5.  5.]]\n",
      "[[ 2. -2.]\n",
      " [-5.  5.]]\n",
      "[[ 1. -2.]\n",
      " [-4.  5.]]\n"
     ]
    }
   ],
   "source": [
    "# 올림\n",
    "\n",
    "arr1 = np.array([[1.834, -2.339],\n",
    "                 [-4.566, 5.239]])\n",
    "print(np.ceil(arr1))\n",
    "\n",
    "# 내림\n",
    "print(np.floor(arr1))\n",
    "\n",
    "# 반올림\n",
    "print(np.round(arr1))\n",
    "\n",
    "# 버림\n",
    "print(np.trunc(arr1))"
   ]
  },
  {
   "cell_type": "markdown",
   "id": "fd9e0098",
   "metadata": {},
   "source": [
    "#### 1.3 Min/Max/Sum/Mean/Standard Deviation/cumsum/Median"
   ]
  },
  {
   "cell_type": "code",
   "execution_count": 53,
   "id": "8b7f718d",
   "metadata": {},
   "outputs": [],
   "source": [
    "arr = np.array([[1, 2, 3],\n",
    "              [0, 1, 4]])"
   ]
  },
  {
   "cell_type": "code",
   "execution_count": 54,
   "id": "ef0441e8",
   "metadata": {},
   "outputs": [
    {
     "name": "stdout",
     "output_type": "stream",
     "text": [
      "0\n",
      "0\n",
      "[0 1 3]\n",
      "[1 0]\n"
     ]
    }
   ],
   "source": [
    "# min()\n",
    "print(np.min(arr))\n",
    "print(arr.min())\n",
    "print(arr.min(axis=0))  #axis=0: 같은 행에서 비교\n",
    "print(arr.min(axis=1))  #axis=1: 같은 열에서 비교"
   ]
  },
  {
   "cell_type": "code",
   "execution_count": 55,
   "id": "da9b9c61",
   "metadata": {},
   "outputs": [
    {
     "name": "stdout",
     "output_type": "stream",
     "text": [
      "4\n",
      "4\n",
      "[1 2 4]\n",
      "[3 4]\n"
     ]
    }
   ],
   "source": [
    "# max()\n",
    "print(np.max(arr))\n",
    "print(arr.max())\n",
    "print(arr.max(axis=0))  \n",
    "print(arr.max(axis=1))"
   ]
  },
  {
   "cell_type": "code",
   "execution_count": 56,
   "id": "ee25b078",
   "metadata": {},
   "outputs": [
    {
     "name": "stdout",
     "output_type": "stream",
     "text": [
      "11\n",
      "11\n",
      "[1 3 7]\n",
      "[6 5]\n"
     ]
    }
   ],
   "source": [
    "# sum()\n",
    "print(np.sum(arr))\n",
    "print(arr.sum())\n",
    "print(arr.sum(axis=0))\n",
    "print(arr.sum(axis=1))"
   ]
  },
  {
   "cell_type": "code",
   "execution_count": 57,
   "id": "b5d64505",
   "metadata": {},
   "outputs": [
    {
     "name": "stdout",
     "output_type": "stream",
     "text": [
      "1.8333333333333333\n",
      "1.8333333333333333\n",
      "[0.5 1.5 3.5]\n",
      "[2.         1.66666667]\n"
     ]
    }
   ],
   "source": [
    "# mean()\n",
    "print(np.mean(arr))\n",
    "print(arr.mean())\n",
    "print(arr.mean(axis=0))\n",
    "print(arr.mean(axis=1))"
   ]
  },
  {
   "cell_type": "code",
   "execution_count": 58,
   "id": "b74e8847",
   "metadata": {},
   "outputs": [
    {
     "name": "stdout",
     "output_type": "stream",
     "text": [
      "1.343709624716425\n",
      "1.343709624716425\n",
      "[0.5 0.5 0.5]\n",
      "[0.81649658 1.69967317]\n"
     ]
    }
   ],
   "source": [
    "# std()\n",
    "print(np.std(arr))\n",
    "print(arr.std())\n",
    "print(arr.std(axis=0))\n",
    "print(arr.std(axis=1))"
   ]
  },
  {
   "cell_type": "code",
   "execution_count": 59,
   "id": "e55432c8",
   "metadata": {},
   "outputs": [
    {
     "name": "stdout",
     "output_type": "stream",
     "text": [
      "[ 1  3  6  6  7 11]\n",
      "[ 1  3  6  6  7 11]\n",
      "[[1 2 3]\n",
      " [1 3 7]]\n",
      "[[1 3 6]\n",
      " [0 1 5]]\n"
     ]
    }
   ],
   "source": [
    "# cumsum() : 누적값 계산\n",
    "print(np.cumsum(arr))\n",
    "print(arr.cumsum())\n",
    "print(arr.cumsum(axis=0))\n",
    "print(arr.cumsum(axis=1))"
   ]
  },
  {
   "cell_type": "code",
   "execution_count": 60,
   "id": "93f4d2a3",
   "metadata": {},
   "outputs": [
    {
     "name": "stdout",
     "output_type": "stream",
     "text": [
      "1.5\n",
      "[0.5 1.5 3.5]\n",
      "[2. 1.]\n"
     ]
    }
   ],
   "source": [
    "# median\n",
    "print(np.median(arr))\n",
    "print(np.median(arr, axis=0))\n",
    "print(np.median(arr, axis=1))"
   ]
  },
  {
   "cell_type": "markdown",
   "id": "17b81df5",
   "metadata": {},
   "source": [
    "#### 1.4 비교 연산/삼각 함수"
   ]
  },
  {
   "cell_type": "code",
   "execution_count": 61,
   "id": "1201eb3c",
   "metadata": {},
   "outputs": [
    {
     "name": "stdout",
     "output_type": "stream",
     "text": [
      "[[ True False  True]\n",
      " [ True False False]]\n",
      "[[False  True False]\n",
      " [False  True False]]\n",
      "False\n"
     ]
    }
   ],
   "source": [
    "# 비교 연산(결과값 boolean)\n",
    "\n",
    "arr1 = np.array([[1, 2, 3],\n",
    "                 [4, 5, 6]])\n",
    "arr2 = np.array([[1, 0, 3],\n",
    "                 [4, -2, 9]])\n",
    "\n",
    "print(arr1 == arr2)\n",
    "print(arr1 > arr2)\n",
    "print(np.array_equal(arr1, arr2)) #배열 전체 동일한지에 따라 Ture/False 출력하는 함수"
   ]
  },
  {
   "cell_type": "code",
   "execution_count": 62,
   "id": "eca48c35",
   "metadata": {},
   "outputs": [
    {
     "name": "stdout",
     "output_type": "stream",
     "text": [
      "[[ 0.84147098  0.90929743  0.14112001]\n",
      " [-0.7568025  -0.95892427 -0.2794155 ]]\n",
      "[[ 0.54030231 -0.41614684 -0.9899925 ]\n",
      " [-0.65364362  0.28366219  0.96017029]]\n",
      "[[ 1.55740772 -2.18503986 -0.14254654]\n",
      " [ 1.15782128 -3.38051501 -0.29100619]]\n",
      "3.141592653589793\n"
     ]
    }
   ],
   "source": [
    "# 삼각 함수\n",
    "arr = np.array([[1, 2, 3],\n",
    "               [4, 5, 6]])\n",
    "\n",
    "print(np.sin(arr))\n",
    "print(np.cos(arr))\n",
    "print(np.tan(arr))\n",
    "print(np.pi)"
   ]
  },
  {
   "cell_type": "markdown",
   "id": "402acae2",
   "metadata": {},
   "source": [
    "#### 2. Broadcasting: 배열 간의 shape 다를 때의 연산(원소의 확장 일어남)"
   ]
  },
  {
   "cell_type": "code",
   "execution_count": 63,
   "id": "973ee04b",
   "metadata": {},
   "outputs": [
    {
     "name": "stdout",
     "output_type": "stream",
     "text": [
      "[[5 6 7]\n",
      " [6 7 8]\n",
      " [7 8 9]]\n",
      "[[1 1 1]\n",
      " [2 2 2]\n",
      " [3 3 3]]\n"
     ]
    }
   ],
   "source": [
    "arr1 = np.array([[0, 0, 0],\n",
    "                [1, 1, 1],\n",
    "                [2, 2, 2]])\n",
    "arr2 = np.array([5, 6, 7])  # -> [[5, 6, 7], [5, 6, 7], [5, 6, 7]]으로 배열 확장됨.\n",
    "\n",
    "print(arr1+arr2)\n",
    "\n",
    "\n",
    "arr1 = np.array([1, 1, 1]) \n",
    "arr2 = np.array([[0],\n",
    "                [1],\n",
    "                [2]])\n",
    "\n",
    "print(arr1+arr2)"
   ]
  },
  {
   "cell_type": "markdown",
   "id": "bde71f6c",
   "metadata": {},
   "source": [
    "#### 3. 벡터 연산의 장점\n",
    "n차원 배열의 연산 ->  선형대수 관련 연산 시 빠르게 처리 가능"
   ]
  },
  {
   "cell_type": "code",
   "execution_count": 64,
   "id": "5a92abd6",
   "metadata": {},
   "outputs": [],
   "source": [
    "arr = np.arange(100000000)"
   ]
  },
  {
   "cell_type": "code",
   "execution_count": 65,
   "id": "1a3977b0",
   "metadata": {},
   "outputs": [
    {
     "name": "stderr",
     "output_type": "stream",
     "text": [
      "C:\\Temp/ipykernel_27352/1867372032.py:6: RuntimeWarning: overflow encountered in long_scalars\n",
      "  sum += i\n"
     ]
    },
    {
     "name": "stdout",
     "output_type": "stream",
     "text": [
      "887459712 31.88774085044861 sec\n"
     ]
    }
   ],
   "source": [
    "#for\n",
    "import time\n",
    "sum = 0;\n",
    "before = time.time()\n",
    "for i in arr:\n",
    "    sum += i\n",
    "after = time.time()\n",
    "print(sum, after-before, 'sec')"
   ]
  },
  {
   "cell_type": "code",
   "execution_count": 66,
   "id": "31a5cb7a",
   "metadata": {},
   "outputs": [
    {
     "name": "stdout",
     "output_type": "stream",
     "text": [
      "887459712 0.10368990898132324 sec\n"
     ]
    }
   ],
   "source": [
    "# 벡터 연산\n",
    "before = time.time()\n",
    "sum = np.sum(arr)\n",
    "after = time.time()\n",
    "print(sum, after-before, 'sec')"
   ]
  },
  {
   "cell_type": "markdown",
   "id": "2870bd56",
   "metadata": {},
   "source": [
    "### Section 4. N차원 배열의 정렬\n",
    "#### 1. 1차원 배열의 정렬"
   ]
  },
  {
   "cell_type": "code",
   "execution_count": 67,
   "id": "d812041f",
   "metadata": {},
   "outputs": [
    {
     "name": "stdout",
     "output_type": "stream",
     "text": [
      "[6 7 7 8 1 5 9 8 9 4]\n",
      "[1 4 5 6 7 7 8 8 9 9]\n",
      "[9 9 8 8 7 7 6 5 4 1]\n"
     ]
    }
   ],
   "source": [
    "arr = np.random.randint(10, size = 10)\n",
    "print(arr)\n",
    "print(np.sort(arr)) #오름차순 정렬\n",
    "print(np.sort(arr)[::-1]) #내림차순 정렬"
   ]
  },
  {
   "cell_type": "markdown",
   "id": "02dab7c2",
   "metadata": {},
   "source": [
    "#### 2. 2차원 배열의 정렬"
   ]
  },
  {
   "cell_type": "code",
   "execution_count": 68,
   "id": "22771246",
   "metadata": {},
   "outputs": [
    {
     "name": "stdout",
     "output_type": "stream",
     "text": [
      "[[ 3  0  3  5]\n",
      " [14  0  2  3]\n",
      " [ 8  1  3 13]]\n",
      "[[ 0  3  3  5]\n",
      " [ 0  2  3 14]\n",
      " [ 1  3  8 13]]\n",
      "[[ 3  0  2  3]\n",
      " [ 8  0  3  5]\n",
      " [14  1  3 13]]\n",
      "[ 0  0  1  2  3  3  3  3  5  8 13 14]\n"
     ]
    }
   ],
   "source": [
    "arr = np.random.randint(15, size = (3, 4))\n",
    "print(arr)\n",
    "print(np.sort(arr)) # axis = 1기준으로 오름차순 정렬\n",
    "print(np.sort(arr, axis = 0))\n",
    "print(np.sort(arr, axis = None)) # 2차원 배열을 1차원 배열로 바꾸어 정렬"
   ]
  },
  {
   "cell_type": "code",
   "execution_count": 69,
   "id": "e57fd42e",
   "metadata": {},
   "outputs": [
    {
     "name": "stdout",
     "output_type": "stream",
     "text": [
      "[[ 0  3  3  5]\n",
      " [ 0  2  3 14]\n",
      " [ 1  3  8 13]]\n",
      "[[1 0 2 3]\n",
      " [1 2 3 0]\n",
      " [1 2 0 3]]\n"
     ]
    }
   ],
   "source": [
    "# argsort(): 원소가 정렬되었을 때 정렬된 원소의 원래 배열에서의 idx를 return\n",
    "print(np.sort(arr, axis = 1))\n",
    "print(np.argsort(arr, axis = 1))"
   ]
  },
  {
   "cell_type": "code",
   "execution_count": 70,
   "id": "b9978d60",
   "metadata": {},
   "outputs": [
    {
     "name": "stdout",
     "output_type": "stream",
     "text": [
      "[[ 3  0  2  3]\n",
      " [ 8  0  3  5]\n",
      " [14  1  3 13]]\n",
      "[[0 0 1 1]\n",
      " [2 1 0 0]\n",
      " [1 2 2 2]]\n"
     ]
    }
   ],
   "source": [
    "print(np.sort(arr, axis = 0))\n",
    "print(np.argsort(arr, axis = 0))"
   ]
  },
  {
   "cell_type": "markdown",
   "id": "46d1d903",
   "metadata": {},
   "source": [
    "### Section 5. N차원 배열의 형태 변경\n",
    "#### 1. 배열의 형태 변경\n",
    "#### 1.1 reshape"
   ]
  },
  {
   "cell_type": "code",
   "execution_count": 71,
   "id": "a87cae7f",
   "metadata": {},
   "outputs": [
    {
     "name": "stdout",
     "output_type": "stream",
     "text": [
      "[ 0  1  2  3  4  5  6  7  8  9 10 11] 1\n",
      "[[ 0  1  2]\n",
      " [ 3  4  5]\n",
      " [ 6  7  8]\n",
      " [ 9 10 11]] 2\n",
      "[[[ 0  1]\n",
      "  [ 2  3]\n",
      "  [ 4  5]]\n",
      "\n",
      " [[ 6  7]\n",
      "  [ 8  9]\n",
      "  [10 11]]] 3\n",
      "[[[[ 0  1  2]]\n",
      "\n",
      "  [[ 3  4  5]]]\n",
      "\n",
      "\n",
      " [[[ 6  7  8]]\n",
      "\n",
      "  [[ 9 10 11]]]] 4\n"
     ]
    }
   ],
   "source": [
    "arr = np.arange(12)\n",
    "print(arr, arr.ndim)\n",
    "\n",
    "arr = arr.reshape((4, 3))  #원소의 개수 맞추기!\n",
    "print(arr, arr.ndim)\n",
    "\n",
    "arr = arr.reshape((2, 3, 2)) \n",
    "print(arr, arr.ndim)\n",
    "\n",
    "arr = arr.reshape((2, 2, 1, 3)) \n",
    "print(arr, arr.ndim)"
   ]
  },
  {
   "cell_type": "code",
   "execution_count": 72,
   "id": "4182ead7",
   "metadata": {},
   "outputs": [
    {
     "name": "stdout",
     "output_type": "stream",
     "text": [
      "[ 1  2  3  4  5  6  7  8  9 10 11 12]\n"
     ]
    }
   ],
   "source": [
    "arr = np.arange(1, 13)\n",
    "print(arr)\n",
    "\n",
    "arr = arr.reshape(3, -1) # -1 이용하여 자동계산"
   ]
  },
  {
   "cell_type": "markdown",
   "id": "c89d2b82",
   "metadata": {},
   "source": [
    "**Curse Of Dimensionality**    \n",
    "차원이 증가할 때 발생하는 문제(Big Data, Deep Learning).    \n",
    "   차원이 증가하며 학습데이터 수가 차원의 수 보다 적어져 모델 성능이 저하됨. 데이터 간의 거리 증가함."
   ]
  },
  {
   "cell_type": "markdown",
   "id": "74d2e824",
   "metadata": {},
   "source": [
    "#### 1.2 resize, ravel()"
   ]
  },
  {
   "cell_type": "code",
   "execution_count": 73,
   "id": "8a427f07",
   "metadata": {},
   "outputs": [
    {
     "name": "stdout",
     "output_type": "stream",
     "text": [
      "[ 0  1  2  3  4  5  6  7  8  9 10 11]\n"
     ]
    }
   ],
   "source": [
    "arr = np.arange(12)\n",
    "print(arr)"
   ]
  },
  {
   "cell_type": "code",
   "execution_count": 74,
   "id": "66f33b57",
   "metadata": {},
   "outputs": [
    {
     "name": "stdout",
     "output_type": "stream",
     "text": [
      "[[ 0  1  2  3]\n",
      " [ 4  5  6  7]\n",
      " [ 8  9 10 11]]\n"
     ]
    }
   ],
   "source": [
    "arr.resize(3, 4) # 원본 데이터를 변경시킴 (vs. reshape())\n",
    "print(arr)"
   ]
  },
  {
   "cell_type": "code",
   "execution_count": 75,
   "id": "705680f4",
   "metadata": {},
   "outputs": [
    {
     "name": "stdout",
     "output_type": "stream",
     "text": [
      "[ 0  1  2  3  4  5  6  7  8  9 10 11]\n"
     ]
    }
   ],
   "source": [
    "arr = arr.ravel() # 1차원 배열로 변경\n",
    "print(arr)"
   ]
  },
  {
   "cell_type": "markdown",
   "id": "a1cdfebc",
   "metadata": {},
   "source": [
    "#### 1.3 expand_dims(), squeeze()"
   ]
  },
  {
   "cell_type": "code",
   "execution_count": 76,
   "id": "ab4dbe5a",
   "metadata": {},
   "outputs": [
    {
     "name": "stdout",
     "output_type": "stream",
     "text": [
      "[1 2] (2,)\n",
      "[[1 2]] (1, 2)\n"
     ]
    }
   ],
   "source": [
    "arr = np.array([1, 2])\n",
    "print(arr, arr.shape)\n",
    "arr = np.expand_dims(arr, axis = 0)\n",
    "print(arr, arr.shape)"
   ]
  },
  {
   "cell_type": "code",
   "execution_count": 77,
   "id": "1da3fab4",
   "metadata": {},
   "outputs": [
    {
     "name": "stdout",
     "output_type": "stream",
     "text": [
      "[1 2] (2,)\n",
      "[[1]\n",
      " [2]] (2, 1)\n"
     ]
    }
   ],
   "source": [
    "arr = np.array([1, 2])\n",
    "print(arr, arr.shape)\n",
    "arr = np.expand_dims(arr, axis = 1)\n",
    "print(arr, arr.shape)"
   ]
  },
  {
   "cell_type": "code",
   "execution_count": 78,
   "id": "52059286",
   "metadata": {},
   "outputs": [
    {
     "name": "stdout",
     "output_type": "stream",
     "text": [
      "[[1 2]] (1, 2) 2\n",
      "[1 2] (2,) 1\n"
     ]
    }
   ],
   "source": [
    "arr = np.array([[1, 2]])\n",
    "print(arr, arr.shape, arr.ndim)\n",
    "arr = np.squeeze(arr, axis=0)\n",
    "print(arr, arr.shape, arr.ndim)"
   ]
  },
  {
   "cell_type": "code",
   "execution_count": 79,
   "id": "b63f044f",
   "metadata": {},
   "outputs": [
    {
     "name": "stdout",
     "output_type": "stream",
     "text": [
      "[[[1]\n",
      "  [2]\n",
      "  [3]]] (1, 3, 1) 3\n",
      "[[1]\n",
      " [2]\n",
      " [3]] (3, 1) 2\n"
     ]
    }
   ],
   "source": [
    "arr = np.array([[[1],\n",
    "                [2],\n",
    "                [3]]])\n",
    "print(arr, arr.shape, arr.ndim)\n",
    "arr = np.squeeze(arr, axis=0)\n",
    "print(arr, arr.shape, arr.ndim)"
   ]
  },
  {
   "cell_type": "code",
   "execution_count": 80,
   "id": "f855747f",
   "metadata": {},
   "outputs": [
    {
     "name": "stdout",
     "output_type": "stream",
     "text": [
      "[[[1 2 3]]] (1, 1, 3) 3\n",
      "[[1 2 3]] (1, 3) 2\n",
      "[1 2 3] (3,) 1\n"
     ]
    }
   ],
   "source": [
    "arr = np.array([[[1, 2, 3]]])\n",
    "print(arr, arr.shape, arr.ndim)\n",
    "arr = np.squeeze(arr, axis=1)   # axis=0과 결과 동일.\n",
    "print(arr, arr.shape, arr.ndim)\n",
    "arr = np.squeeze(arr)  \n",
    "print(arr, arr.shape, arr.ndim) # axis 지정하지 않으면 1차원 배열로 축소"
   ]
  },
  {
   "cell_type": "markdown",
   "id": "6b626ef7",
   "metadata": {},
   "source": [
    "#### 2. Transpose Matrix"
   ]
  },
  {
   "cell_type": "code",
   "execution_count": 81,
   "id": "f6e74718",
   "metadata": {},
   "outputs": [
    {
     "name": "stdout",
     "output_type": "stream",
     "text": [
      "[[1 3]\n",
      " [2 4]]\n",
      "[[1 3]\n",
      " [2 4]]\n"
     ]
    }
   ],
   "source": [
    "arr = np.array([[1, 2],\n",
    "               [3, 4]])\n",
    "print(arr.T)\n",
    "print(np.transpose(arr))"
   ]
  },
  {
   "cell_type": "code",
   "execution_count": 82,
   "id": "43f97155",
   "metadata": {},
   "outputs": [
    {
     "name": "stdout",
     "output_type": "stream",
     "text": [
      "[[1 4 7]\n",
      " [2 5 8]\n",
      " [3 6 9]]\n"
     ]
    }
   ],
   "source": [
    "arr = np.array([[1, 2, 3],\n",
    "               [4, 5, 6], \n",
    "               [7, 8, 9]])\n",
    "\n",
    "print(arr.T)"
   ]
  },
  {
   "cell_type": "code",
   "execution_count": 83,
   "id": "95146ae7",
   "metadata": {},
   "outputs": [
    {
     "name": "stdout",
     "output_type": "stream",
     "text": [
      "[[1 3 5]\n",
      " [2 4 6]]\n"
     ]
    }
   ],
   "source": [
    "arr = np.array([[1, 2],\n",
    "               [3, 4], \n",
    "               [5, 6]])\n",
    "\n",
    "print(arr.T)"
   ]
  },
  {
   "cell_type": "markdown",
   "id": "1b9a4462",
   "metadata": {},
   "source": [
    "### Section 6. 배열의 병합\n",
    "#### 1. 배열에 원소 추가 및 삭제"
   ]
  },
  {
   "cell_type": "code",
   "execution_count": 84,
   "id": "05578b57",
   "metadata": {},
   "outputs": [
    {
     "data": {
      "text/plain": [
       "[1, 2, 50, 3, 4, 5, 6]"
      ]
     },
     "execution_count": 84,
     "metadata": {},
     "output_type": "execute_result"
    }
   ],
   "source": [
    "# python list\n",
    "lst = [1, 2, 3, 4, 5, 6]\n",
    "lst.insert(2, 50)\n",
    "lst"
   ]
  },
  {
   "cell_type": "code",
   "execution_count": 85,
   "id": "5a2791b3",
   "metadata": {},
   "outputs": [
    {
     "data": {
      "text/plain": [
       "array([ 1,  2, 50,  3,  4,  5,  6,  7,  8])"
      ]
     },
     "execution_count": 85,
     "metadata": {},
     "output_type": "execute_result"
    }
   ],
   "source": [
    "# 1차원\n",
    "arr = np.arange(1, 9)\n",
    "arr = np.insert(arr, 2, 50)   #insert(arr, idx, value)\n",
    "arr"
   ]
  },
  {
   "cell_type": "code",
   "execution_count": 86,
   "id": "0afc7b3b",
   "metadata": {},
   "outputs": [
    {
     "data": {
      "text/plain": [
       "array([[ 1,  2,  3,  4],\n",
       "       [ 5,  6,  7,  8],\n",
       "       [50, 50, 50, 50],\n",
       "       [ 9, 10, 11, 12]])"
      ]
     },
     "execution_count": 86,
     "metadata": {},
     "output_type": "execute_result"
    }
   ],
   "source": [
    "# 2차원\n",
    "arr = np.arange(1, 13).reshape(3, -1)\n",
    "arr = np.insert(arr, 2, 50, axis = 0)  # axis 지정하지 않으면 1차원으로 변환하여 삽입\n",
    "arr"
   ]
  },
  {
   "cell_type": "code",
   "execution_count": 87,
   "id": "3aae50d6",
   "metadata": {},
   "outputs": [
    {
     "data": {
      "text/plain": [
       "array([[ 1,  2, 50,  3,  4],\n",
       "       [ 5,  6, 50,  7,  8],\n",
       "       [ 9, 10, 50, 11, 12]])"
      ]
     },
     "execution_count": 87,
     "metadata": {},
     "output_type": "execute_result"
    }
   ],
   "source": [
    "arr = np.arange(1, 13).reshape(3, -1)\n",
    "arr = np.insert(arr, 2, 50, axis = 1)\n",
    "arr"
   ]
  },
  {
   "cell_type": "code",
   "execution_count": 88,
   "id": "446bf422",
   "metadata": {},
   "outputs": [
    {
     "name": "stdout",
     "output_type": "stream",
     "text": [
      "[[ 1  2  3  4]\n",
      " [ 5  6  7  8]\n",
      " [ 9 10 11 12]]\n",
      "[[1 2 3 4]\n",
      " [5 6 7 8]]\n"
     ]
    }
   ],
   "source": [
    "# delet(arr, idx, axis)\n",
    "arr = np.arange(1, 13).reshape(3, -1)\n",
    "print(arr)\n",
    "arr = np.delete(arr, 2, axis = 0)\n",
    "print(arr)"
   ]
  },
  {
   "cell_type": "markdown",
   "id": "2675ab0b",
   "metadata": {},
   "source": [
    "#### 2. 배열 간의 병합"
   ]
  },
  {
   "cell_type": "code",
   "execution_count": 89,
   "id": "6ab5e0c6",
   "metadata": {},
   "outputs": [
    {
     "name": "stdout",
     "output_type": "stream",
     "text": [
      "[[ 1  2  3  4]\n",
      " [ 5  6  7  8]\n",
      " [ 9 10 11 12]]\n",
      "[[13 14 15 16]\n",
      " [17 18 19 20]\n",
      " [21 22 23 24]]\n",
      "\n",
      "[[ 1  2  3  4]\n",
      " [ 5  6  7  8]\n",
      " [ 9 10 11 12]\n",
      " [13 14 15 16]\n",
      " [17 18 19 20]\n",
      " [21 22 23 24]]\n",
      "[[ 1  2  3  4 13 14 15 16]\n",
      " [ 5  6  7  8 17 18 19 20]\n",
      " [ 9 10 11 12 21 22 23 24]]\n",
      "[ 1  2  3  4  5  6  7  8  9 10 11 12 13 14 15 16 17 18 19 20 21 22 23 24]\n"
     ]
    }
   ],
   "source": [
    "# append()\n",
    "\n",
    "arr1 = np.arange(1, 13).reshape(3, 4)\n",
    "arr2 = np.arange(13, 25).reshape(3, 4)\n",
    "\n",
    "print(arr1)\n",
    "print(arr2, end = \"\\n\\n\")\n",
    "\n",
    "arr3 = np.append(arr1, arr2, axis=0)\n",
    "print(arr3)\n",
    "arr4 = np.append(arr1, arr2, axis=1)\n",
    "print(arr4)\n",
    "arr5 = np.append(arr1, arr2)\n",
    "print(arr5)"
   ]
  },
  {
   "cell_type": "code",
   "execution_count": 90,
   "id": "b6705c9c",
   "metadata": {},
   "outputs": [
    {
     "name": "stdout",
     "output_type": "stream",
     "text": [
      "[[ 1  2  3]\n",
      " [ 4  5  6]\n",
      " [ 7  8  9]\n",
      " [10 11 12]]\n",
      "[[ 1  2  3  7  8  9]\n",
      " [ 4  5  6 10 11 12]]\n"
     ]
    }
   ],
   "source": [
    "# vstack(): axis=0 기준으로 배열 병합\n",
    "# hstack(): axis=1 기준으로 배열 병합\n",
    "\n",
    "arr1 = np.arange(1, 7).reshape(2, 3)\n",
    "arr2 = np.arange(7, 13).reshape(2, 3)\n",
    "\n",
    "arr3 = np.vstack((arr1, arr2))\n",
    "print(arr3)\n",
    "\n",
    "arr4 = np.hstack((arr1, arr2))\n",
    "print(arr4)\n"
   ]
  },
  {
   "cell_type": "code",
   "execution_count": 91,
   "id": "c4586ab3",
   "metadata": {},
   "outputs": [
    {
     "name": "stdout",
     "output_type": "stream",
     "text": [
      "[[ 1  2  3]\n",
      " [ 4  5  6]\n",
      " [ 7  8  9]\n",
      " [10 11 12]]\n",
      "[[ 1  2  3  7  8  9]\n",
      " [ 4  5  6 10 11 12]]\n"
     ]
    }
   ],
   "source": [
    "# concatenate()\n",
    "arr5 = np.concatenate([arr1, arr2], axis=0)\n",
    "print(arr5)\n",
    "arr6 = np.concatenate([arr1, arr2], axis=1)\n",
    "print(arr6)"
   ]
  },
  {
   "cell_type": "markdown",
   "id": "680028a6",
   "metadata": {},
   "source": [
    "#### 3. 배열의 분할"
   ]
  },
  {
   "cell_type": "code",
   "execution_count": 92,
   "id": "2d46356d",
   "metadata": {},
   "outputs": [
    {
     "data": {
      "text/plain": [
       "array([[ 1,  2,  3,  4],\n",
       "       [ 5,  6,  7,  8],\n",
       "       [ 9, 10, 11, 12]])"
      ]
     },
     "execution_count": 92,
     "metadata": {},
     "output_type": "execute_result"
    }
   ],
   "source": [
    "# 2차원 배열\n",
    "arr = np.arange(1, 13).reshape(3, 4)\n",
    "arr"
   ]
  },
  {
   "cell_type": "code",
   "execution_count": 93,
   "id": "4d57b481",
   "metadata": {},
   "outputs": [
    {
     "name": "stdout",
     "output_type": "stream",
     "text": [
      "The result of vsplit:  [array([[1, 2, 3, 4]]), array([[5, 6, 7, 8]]), array([[ 9, 10, 11, 12]])]\n",
      "The result of hsplit:  [array([[ 1,  2],\n",
      "       [ 5,  6],\n",
      "       [ 9, 10]]), array([[ 3,  4],\n",
      "       [ 7,  8],\n",
      "       [11, 12]])]\n"
     ]
    }
   ],
   "source": [
    "# vsplit(arr, the number splited): axis=0 기준으로 배열 병합\n",
    "# hsplit(arr, the number splited): axis=1 기준으로 배열 병합\n",
    "\n",
    "arr_vsplit = np.vsplit(arr, 3)\n",
    "print(\"The result of vsplit: \", arr_vsplit)\n",
    "\n",
    "arr_hsplit = np.hsplit(arr, 2)\n",
    "print(\"The result of hsplit: \", arr_hsplit)"
   ]
  },
  {
   "cell_type": "code",
   "execution_count": 94,
   "id": "b1d2497d",
   "metadata": {},
   "outputs": [
    {
     "data": {
      "text/plain": [
       "array([[[3, 3, 7, 0, 1, 9, 9, 0],\n",
       "        [4, 7, 3, 2, 7, 2, 0, 0],\n",
       "        [4, 5, 5, 6, 8, 4, 1, 4],\n",
       "        [9, 8, 1, 1, 7, 9, 9, 3],\n",
       "        [6, 7, 2, 0, 3, 5, 9, 4],\n",
       "        [4, 6, 4, 4, 3, 4, 4, 8]],\n",
       "\n",
       "       [[4, 3, 7, 5, 5, 0, 1, 5],\n",
       "        [9, 3, 0, 5, 0, 1, 2, 4],\n",
       "        [2, 0, 3, 2, 0, 7, 5, 9],\n",
       "        [0, 2, 7, 2, 9, 2, 3, 3],\n",
       "        [2, 3, 4, 1, 2, 9, 1, 4],\n",
       "        [6, 8, 2, 3, 0, 0, 6, 0]],\n",
       "\n",
       "       [[6, 3, 3, 8, 8, 8, 2, 3],\n",
       "        [2, 0, 8, 8, 3, 8, 2, 8],\n",
       "        [4, 3, 0, 4, 3, 6, 9, 8],\n",
       "        [0, 8, 5, 9, 0, 9, 6, 5],\n",
       "        [3, 1, 8, 0, 4, 9, 6, 5],\n",
       "        [7, 8, 8, 9, 2, 8, 6, 6]],\n",
       "\n",
       "       [[9, 1, 6, 8, 8, 3, 2, 3],\n",
       "        [6, 3, 6, 5, 7, 0, 8, 4],\n",
       "        [6, 5, 8, 2, 3, 9, 7, 5],\n",
       "        [3, 4, 5, 3, 3, 7, 9, 9],\n",
       "        [9, 7, 3, 2, 3, 9, 7, 7],\n",
       "        [5, 1, 2, 2, 8, 1, 5, 8]]])"
      ]
     },
     "execution_count": 94,
     "metadata": {},
     "output_type": "execute_result"
    }
   ],
   "source": [
    "# 2차원 배열\n",
    "arr = np.random.randint(0, 10, (4, 6, 8))\n",
    "arr"
   ]
  },
  {
   "cell_type": "code",
   "execution_count": 95,
   "id": "3a130205",
   "metadata": {},
   "outputs": [
    {
     "data": {
      "text/plain": [
       "[array([[[3, 3, 7, 0, 1, 9, 9, 0],\n",
       "         [4, 7, 3, 2, 7, 2, 0, 0],\n",
       "         [4, 5, 5, 6, 8, 4, 1, 4],\n",
       "         [9, 8, 1, 1, 7, 9, 9, 3],\n",
       "         [6, 7, 2, 0, 3, 5, 9, 4],\n",
       "         [4, 6, 4, 4, 3, 4, 4, 8]],\n",
       " \n",
       "        [[4, 3, 7, 5, 5, 0, 1, 5],\n",
       "         [9, 3, 0, 5, 0, 1, 2, 4],\n",
       "         [2, 0, 3, 2, 0, 7, 5, 9],\n",
       "         [0, 2, 7, 2, 9, 2, 3, 3],\n",
       "         [2, 3, 4, 1, 2, 9, 1, 4],\n",
       "         [6, 8, 2, 3, 0, 0, 6, 0]]]),\n",
       " array([[[6, 3, 3, 8, 8, 8, 2, 3],\n",
       "         [2, 0, 8, 8, 3, 8, 2, 8],\n",
       "         [4, 3, 0, 4, 3, 6, 9, 8],\n",
       "         [0, 8, 5, 9, 0, 9, 6, 5],\n",
       "         [3, 1, 8, 0, 4, 9, 6, 5],\n",
       "         [7, 8, 8, 9, 2, 8, 6, 6]],\n",
       " \n",
       "        [[9, 1, 6, 8, 8, 3, 2, 3],\n",
       "         [6, 3, 6, 5, 7, 0, 8, 4],\n",
       "         [6, 5, 8, 2, 3, 9, 7, 5],\n",
       "         [3, 4, 5, 3, 3, 7, 9, 9],\n",
       "         [9, 7, 3, 2, 3, 9, 7, 7],\n",
       "         [5, 1, 2, 2, 8, 1, 5, 8]]])]"
      ]
     },
     "execution_count": 95,
     "metadata": {},
     "output_type": "execute_result"
    }
   ],
   "source": [
    "arr_vsplit = np.vsplit(arr, 2)\n",
    "arr_vsplit"
   ]
  },
  {
   "cell_type": "code",
   "execution_count": 96,
   "id": "361551e5",
   "metadata": {},
   "outputs": [
    {
     "data": {
      "text/plain": [
       "[array([[[3, 3, 7, 0, 1, 9, 9, 0],\n",
       "         [4, 7, 3, 2, 7, 2, 0, 0],\n",
       "         [4, 5, 5, 6, 8, 4, 1, 4]],\n",
       " \n",
       "        [[4, 3, 7, 5, 5, 0, 1, 5],\n",
       "         [9, 3, 0, 5, 0, 1, 2, 4],\n",
       "         [2, 0, 3, 2, 0, 7, 5, 9]],\n",
       " \n",
       "        [[6, 3, 3, 8, 8, 8, 2, 3],\n",
       "         [2, 0, 8, 8, 3, 8, 2, 8],\n",
       "         [4, 3, 0, 4, 3, 6, 9, 8]],\n",
       " \n",
       "        [[9, 1, 6, 8, 8, 3, 2, 3],\n",
       "         [6, 3, 6, 5, 7, 0, 8, 4],\n",
       "         [6, 5, 8, 2, 3, 9, 7, 5]]]),\n",
       " array([[[9, 8, 1, 1, 7, 9, 9, 3],\n",
       "         [6, 7, 2, 0, 3, 5, 9, 4],\n",
       "         [4, 6, 4, 4, 3, 4, 4, 8]],\n",
       " \n",
       "        [[0, 2, 7, 2, 9, 2, 3, 3],\n",
       "         [2, 3, 4, 1, 2, 9, 1, 4],\n",
       "         [6, 8, 2, 3, 0, 0, 6, 0]],\n",
       " \n",
       "        [[0, 8, 5, 9, 0, 9, 6, 5],\n",
       "         [3, 1, 8, 0, 4, 9, 6, 5],\n",
       "         [7, 8, 8, 9, 2, 8, 6, 6]],\n",
       " \n",
       "        [[3, 4, 5, 3, 3, 7, 9, 9],\n",
       "         [9, 7, 3, 2, 3, 9, 7, 7],\n",
       "         [5, 1, 2, 2, 8, 1, 5, 8]]])]"
      ]
     },
     "execution_count": 96,
     "metadata": {},
     "output_type": "execute_result"
    }
   ],
   "source": [
    "arr_hsplit = np.hsplit(arr, 2)\n",
    "arr_hsplit"
   ]
  },
  {
   "cell_type": "markdown",
   "id": "fc127e55",
   "metadata": {},
   "source": [
    "### Section 7. 실습 예제"
   ]
  },
  {
   "cell_type": "markdown",
   "id": "ec62f7b6",
   "metadata": {},
   "source": [
    "(예제 1) 원소가 모두 3인 (3, 4, 5) 형태의 numpy array를 출력하시오."
   ]
  },
  {
   "cell_type": "code",
   "execution_count": 97,
   "id": "5671b43e",
   "metadata": {},
   "outputs": [
    {
     "data": {
      "text/plain": [
       "array([[[3, 3, 3, 3, 3],\n",
       "        [3, 3, 3, 3, 3],\n",
       "        [3, 3, 3, 3, 3],\n",
       "        [3, 3, 3, 3, 3]],\n",
       "\n",
       "       [[3, 3, 3, 3, 3],\n",
       "        [3, 3, 3, 3, 3],\n",
       "        [3, 3, 3, 3, 3],\n",
       "        [3, 3, 3, 3, 3]],\n",
       "\n",
       "       [[3, 3, 3, 3, 3],\n",
       "        [3, 3, 3, 3, 3],\n",
       "        [3, 3, 3, 3, 3],\n",
       "        [3, 3, 3, 3, 3]]])"
      ]
     },
     "execution_count": 97,
     "metadata": {},
     "output_type": "execute_result"
    }
   ],
   "source": [
    "arr = np.full([3, 4, 5], 3)\n",
    "arr"
   ]
  },
  {
   "cell_type": "markdown",
   "id": "3f09a588",
   "metadata": {},
   "source": [
    "(예제 2) 정수 -50~50의 범위 안의 난수로 이루어진 (4, 5) 형태의 numpy array를 출력하고 행을 기준으로 오름차순 정렬한 결과와 전체 배열을 1차원 배열로 변경하여 오름차순 정렬한 결과를 출력하시오."
   ]
  },
  {
   "cell_type": "code",
   "execution_count": 98,
   "id": "4de036f8",
   "metadata": {
    "scrolled": true
   },
   "outputs": [
    {
     "name": "stdout",
     "output_type": "stream",
     "text": [
      "[[-14 -50  25 -16  19]\n",
      " [  3  30  12 -42  11]\n",
      " [-49  31 -15  41 -10]\n",
      " [-14  -2 -25  17 -15]]\n",
      "[[-49 -50 -25 -42 -15]\n",
      " [-14  -2 -15 -16 -10]\n",
      " [-14  30  12  17  11]\n",
      " [  3  31  25  41  19]]\n",
      "[-50 -49 -42 -25 -16 -15 -15 -14 -14 -10  -2   3  11  12  17  19  25  30\n",
      "  31  41]\n"
     ]
    }
   ],
   "source": [
    "arr = np.random.randint(-50, 50, (4, 5))\n",
    "print(arr)\n",
    "print(np.sort(arr, axis = 0))\n",
    "print(np.sort(arr, axis = None))"
   ]
  },
  {
   "cell_type": "markdown",
   "id": "314e07cd",
   "metadata": {},
   "source": [
    "(예제 3) 다음과 같은 파이썬 list가 존재한다. list 안에 있는 각 numpy.array의 원소들의 평균값과 표준편차, 중앙값을 순서대로 구하여 구한 순서대로 원소가 이루어진 새로운 list를 구성하고 출력하시오."
   ]
  },
  {
   "cell_type": "code",
   "execution_count": 99,
   "id": "6d7e34d7",
   "metadata": {},
   "outputs": [],
   "source": [
    "lst = [np.full(3, 8), np.array([33, -15, 26]), np.linspace(17, 26, 3)]"
   ]
  },
  {
   "cell_type": "code",
   "execution_count": 100,
   "id": "8c932603",
   "metadata": {},
   "outputs": [
    {
     "name": "stdout",
     "output_type": "stream",
     "text": [
      "[array([ 8.        ,  0.        ,  8.        , 14.66666667, 21.17125934,\n",
      "       26.        , 21.5       ,  3.67423461, 21.5       ])]\n"
     ]
    }
   ],
   "source": [
    "# sol1\n",
    "arr = np.array(lst)\n",
    "mean_arr = np.mean(arr, axis=1).reshape(-1, 1)\n",
    "std_arr = np.std(arr, axis=1).reshape(-1, 1)\n",
    "med_arr = np.median(arr, axis=1).reshape(-1, 1)\n",
    "\n",
    "arr = np.append(mean_arr, std_arr, axis = 1)\n",
    "arr = np.append(arr, med_arr, axis = 1)\n",
    "arr = arr.reshape(1, -1)\n",
    "result = list(arr)\n",
    "print(result)"
   ]
  },
  {
   "cell_type": "code",
   "execution_count": 101,
   "id": "09ae394a",
   "metadata": {},
   "outputs": [
    {
     "name": "stdout",
     "output_type": "stream",
     "text": [
      "[8.0, 0.0, 8.0, 14.666666666666666, 21.171259344267224, 26.0, 21.5, 3.6742346141747673, 21.5]\n"
     ]
    }
   ],
   "source": [
    "# sol2\n",
    "result = []\n",
    "\n",
    "for i in lst:\n",
    "    result.append(np.mean(i))\n",
    "    result.append(np.std(i))\n",
    "    result.append(np.median(i))\n",
    "    \n",
    "print(result)"
   ]
  },
  {
   "cell_type": "markdown",
   "id": "63770d6e",
   "metadata": {},
   "source": [
    "(예제 4) 다음과 같은 numpy array가 존재한다. 이 배열을 행을 기준으로 3개의 배열로 분할하여 분할된 각 배열의 원소들을 제곱한 결과를 다시 원본 배열에 행을 기준으로 병합하시오. (단, 마지막 출력 결과는 원본 배열과 차원이 같아야 한다.)"
   ]
  },
  {
   "cell_type": "code",
   "execution_count": 102,
   "id": "0f2f46b6",
   "metadata": {},
   "outputs": [
    {
     "name": "stdout",
     "output_type": "stream",
     "text": [
      "2\n",
      "2 [[  4  16  36]\n",
      " [ 64 100 144]\n",
      " [196 256 324]]\n"
     ]
    }
   ],
   "source": [
    "arr = np.arange(2, 20, 2).reshape((3, 3))\n",
    "print(arr.ndim)\n",
    "# sol\n",
    "arr = np.vsplit(arr, 3)\n",
    "arr = np.square(arr)\n",
    "arr = np.vstack(arr)\n",
    "\n",
    "print(arr.ndim, arr)"
   ]
  },
  {
   "cell_type": "markdown",
   "id": "c2e4a6c1",
   "metadata": {},
   "source": [
    "(예제 5) 삼각함수의 특수각을 numpy array로 생성한 후 특수각에 해당하는 sin, cosm tan 값을 각각 구하여 list에 담은 다음 해당 list에 들어있는 값들을 출력하시오. (단, 값이 무한대라면 \"INF\" 문자열을 출력할 것)"
   ]
  },
  {
   "cell_type": "code",
   "execution_count": 103,
   "id": "d6ae3339",
   "metadata": {},
   "outputs": [],
   "source": [
    "import math"
   ]
  },
  {
   "cell_type": "code",
   "execution_count": 104,
   "id": "3b8471ad",
   "metadata": {},
   "outputs": [
    {
     "name": "stdout",
     "output_type": "stream",
     "text": [
      "0.0\n",
      "1.0\n",
      "0.0\n",
      "0.49999999999999994\n",
      "0.8660254037844387\n",
      "0.5773502691896257\n",
      "0.8660254037844386\n",
      "0.5000000000000001\n",
      "1.7320508075688767\n",
      "1.0\n",
      "6.123233995736766e-17\n",
      "INF\n"
     ]
    }
   ],
   "source": [
    "ang = np.array([0, 30, 60, 90], dtype=float)\n",
    "\n",
    "lst = []\n",
    "for i in ang:\n",
    "    lst.append(math.sin(i*math.pi/180))\n",
    "    lst.append(math.cos(i*math.pi/180))\n",
    "    lst.append(math.tan(i*math.pi/180))\n",
    "\n",
    "for j in lst:\n",
    "    if j > 9999999:\n",
    "        print(\"INF\")\n",
    "    else :\n",
    "        print(j)"
   ]
  },
  {
   "cell_type": "markdown",
   "id": "50aaa5dc",
   "metadata": {},
   "source": [
    "(예제 6) numpy array를 이용하여 다음과 같은 패턴을 출력하시오 (단, 출력 시 반복문을 사용하여 출력한다.)"
   ]
  },
  {
   "cell_type": "code",
   "execution_count": 105,
   "id": "587a938e",
   "metadata": {},
   "outputs": [
    {
     "name": "stdout",
     "output_type": "stream",
     "text": [
      "[[1 0 1 0 1 0 1 0]\n",
      " [0 1 0 1 0 1 0 1]\n",
      " [1 0 1 0 1 0 1 0]\n",
      " [0 1 0 1 0 1 0 1]\n",
      " [1 0 1 0 1 0 1 0]\n",
      " [0 1 0 1 0 1 0 1]\n",
      " [1 0 1 0 1 0 1 0]\n",
      " [0 1 0 1 0 1 0 1]]\n"
     ]
    }
   ],
   "source": [
    "arr = np.zeros((8, 8), dtype = int)\n",
    "\n",
    "for i in range(8):\n",
    "    for j in range(8):\n",
    "        if (i + j)%2 == 0:\n",
    "            arr[i][j] = 1\n",
    "\n",
    "print(arr)\n",
    "    "
   ]
  },
  {
   "cell_type": "markdown",
   "id": "4a06fae5",
   "metadata": {},
   "source": [
    "(예제 7) 다음 두 행렬에 대하여 내적 연산을 수행한 결괏값을 출력하시오. (단, 결과의 소수점 아래는 제거한다.)"
   ]
  },
  {
   "cell_type": "code",
   "execution_count": 106,
   "id": "9c5cc073",
   "metadata": {},
   "outputs": [
    {
     "data": {
      "text/plain": [
       "((3, 2), (2, 3))"
      ]
     },
     "execution_count": 106,
     "metadata": {},
     "output_type": "execute_result"
    }
   ],
   "source": [
    "arr1 = np.array([[2.1, 3.5],\n",
    "                [4.2, 2.7],\n",
    "                [2.3, 1.9]])\n",
    "\n",
    "arr2 = np.array([[5, 2, 3],\n",
    "                [1, 3, 5]])\n",
    "\n",
    "arr1.shape, arr2.shape"
   ]
  },
  {
   "cell_type": "code",
   "execution_count": 107,
   "id": "f86fbaf3",
   "metadata": {},
   "outputs": [
    {
     "name": "stdout",
     "output_type": "stream",
     "text": [
      "[[14. 14. 23.]\n",
      " [23. 16. 26.]\n",
      " [13. 10. 16.]]\n"
     ]
    }
   ],
   "source": [
    "arr = np.dot(arr1, arr2)\n",
    "arr = np.trunc(arr)\n",
    "\n",
    "print(arr)"
   ]
  },
  {
   "cell_type": "markdown",
   "id": "20a111b5",
   "metadata": {},
   "source": [
    "(예제 8) 조건 연산자를 활용한 Boolean indexing을 이용하여 다음 배열의 원소들 중 2와 5의 배수만 추출한 결과를 오름차순 정렬하여 (2, 4) 행렬로 출력하시오."
   ]
  },
  {
   "cell_type": "code",
   "execution_count": 108,
   "id": "1f055f05",
   "metadata": {},
   "outputs": [
    {
     "name": "stdout",
     "output_type": "stream",
     "text": [
      "[[ 2  4  5  6]\n",
      " [ 8 10 10 12]]\n"
     ]
    }
   ],
   "source": [
    "arr = np.array([[1, 2, 3, 4],\n",
    "               [5, 6, 7, 8],\n",
    "               [9, 10, 11, 12]])\n",
    "arr1 = arr[arr%2==0]\n",
    "arr2 = arr[arr%5==0]\n",
    "\n",
    "arr = np.append(arr1, arr2)\n",
    "arr = np.sort(arr).reshape(2,4)\n",
    "print(arr)"
   ]
  },
  {
   "cell_type": "markdown",
   "id": "27b723bc",
   "metadata": {},
   "source": [
    "(예제 9) 10진수 100이상 150 미만 사이에 존재하는 정수를 무작위로 추출하여 (3, 10) 형태의 행렬로 만들고 행과 열을 전치한 결과를 출력하시오."
   ]
  },
  {
   "cell_type": "code",
   "execution_count": 109,
   "id": "345f37a2",
   "metadata": {},
   "outputs": [
    {
     "name": "stdout",
     "output_type": "stream",
     "text": [
      "[[130 129 149 133 118 117 129 120 102 105]\n",
      " [137 112 144 102 147 127 121 139 139 111]\n",
      " [122 130 117 106 107 118 128 143 119 149]]\n",
      "[[130 137 122]\n",
      " [129 112 130]\n",
      " [149 144 117]\n",
      " [133 102 106]\n",
      " [118 147 107]\n",
      " [117 127 118]\n",
      " [129 121 128]\n",
      " [120 139 143]\n",
      " [102 139 119]\n",
      " [105 111 149]]\n"
     ]
    }
   ],
   "source": [
    "arr = np.random.randint(100, 150, (3, 10))\n",
    "print(arr)\n",
    "arr_T = arr.T\n",
    "print(arr_T)"
   ]
  },
  {
   "cell_type": "markdown",
   "id": "1d0132da",
   "metadata": {},
   "source": [
    "(예제 10) 10진수 10에서 20 사이에 존재하는 실수형의 수를 무작위로 10000개 추출하여 100개의 구간에 그래프로 시각화하시오. (단, 무작위 실수 값은 균등한 비율로 추출해야 하며 그래프 시각화 도구는 pyplot module을 사용할 것"
   ]
  },
  {
   "cell_type": "code",
   "execution_count": 110,
   "id": "62268611",
   "metadata": {},
   "outputs": [
    {
     "data": {
      "image/png": "[encoded data removed]",
      "text/plain": [
       "<Figure size 432x288 with 1 Axes>"
      ]
     },
     "metadata": {
      "needs_background": "light"
     },
     "output_type": "display_data"
    }
   ],
   "source": [
    "arr = 10 + np.random.rand(10000)*10\n",
    "plt.hist(arr, bins=100)\n",
    "plt.show()"
   ]
  }
 ],
 "metadata": {
  "kernelspec": {
   "display_name": "Python 3 (ipykernel)",
   "language": "python",
   "name": "python3"
  },
  "language_info": {
   "codemirror_mode": {
    "name": "ipython",
    "version": 3
   },
   "file_extension": ".py",
   "mimetype": "text/x-python",
   "name": "python",
   "nbconvert_exporter": "python",
   "pygments_lexer": "ipython3",
   "version": "3.9.7"
  }
 },
 "nbformat": 4,
 "nbformat_minor": 5
}
