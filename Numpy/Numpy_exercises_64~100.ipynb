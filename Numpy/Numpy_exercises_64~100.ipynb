{
 "cells": [
  {
   "cell_type": "code",
   "execution_count": 2,
   "id": "861059cf",
   "metadata": {},
   "outputs": [],
   "source": [
    "import numpy as np"
   ]
  },
  {
   "cell_type": "markdown",
   "id": "bb33dcca",
   "metadata": {},
   "source": [
    "#### 64. Consider a given vector, how to add 1 to each element indexed by a second vector (be careful with repeated indices)? (★★★)"
   ]
  },
  {
   "cell_type": "markdown",
   "id": "dfcd47f4",
   "metadata": {},
   "source": [
    "np.bincount(): non-negative int로 구성된 ndarray에서 빈도수 counting method. \n",
    "```\n",
    "arr = [3, 2, 2, 6, 7, 4, 8, 9, 9, 9]\n",
    "np.bincount(arr)\n",
    "```\n",
    "\n",
    "result => [0 0 2 1 1 0 1 1 1 3] (0:0번 1:0번, 2:2번 3:1번...)"
   ]
  },
  {
   "cell_type": "code",
   "execution_count": null,
   "id": "00762ae3",
   "metadata": {},
   "outputs": [],
   "source": []
  },
  {
   "cell_type": "markdown",
   "id": "3dc39144",
   "metadata": {},
   "source": [
    "#### 65. How to accumulate elements of a vector (X) to an array (F) based on an index list (I)? (★★★)"
   ]
  },
  {
   "cell_type": "code",
   "execution_count": 3,
   "id": "6a86ede1",
   "metadata": {},
   "outputs": [
    {
     "data": {
      "text/plain": [
       "array([0, 0, 1, 0, 1, 0, 1, 0, 1], dtype=int64)"
      ]
     },
     "execution_count": 3,
     "metadata": {},
     "output_type": "execute_result"
    }
   ],
   "source": [
    "I = [2, 4, 6, 8]\n",
    "np.bincount(I)"
   ]
  },
  {
   "cell_type": "code",
   "execution_count": 6,
   "id": "fc9b9b74",
   "metadata": {},
   "outputs": [
    {
     "data": {
      "text/plain": [
       "array([0., 0.])"
      ]
     },
     "execution_count": 6,
     "metadata": {},
     "output_type": "execute_result"
    }
   ],
   "source": [
    "X = [0, 0]\n",
    "I = [1, 1]\n",
    "np.bincount(I, X)"
   ]
  },
  {
   "cell_type": "markdown",
   "id": "f6b40efc",
   "metadata": {},
   "source": [
    "#### 66. Considering a (w,h,3) image of (dtype=ubyte), compute the number of unique colors (★★☆)"
   ]
  },
  {
   "cell_type": "code",
   "execution_count": null,
   "id": "648193e3",
   "metadata": {},
   "outputs": [],
   "source": []
  },
  {
   "cell_type": "markdown",
   "id": "b10c3212",
   "metadata": {},
   "source": [
    "#### 67. Considering a four dimensions array, how to get sum over the last two axis at once? (★★★)"
   ]
  },
  {
   "cell_type": "code",
   "execution_count": 54,
   "id": "3b527d79",
   "metadata": {},
   "outputs": [
    {
     "data": {
      "text/plain": [
       "array([[[[1, 2],\n",
       "         [1, 1]],\n",
       "\n",
       "        [[1, 2],\n",
       "         [2, 2]]],\n",
       "\n",
       "\n",
       "       [[[0, 2],\n",
       "         [2, 1]],\n",
       "\n",
       "        [[2, 2],\n",
       "         [0, 1]]]])"
      ]
     },
     "execution_count": 54,
     "metadata": {},
     "output_type": "execute_result"
    }
   ],
   "source": [
    "arr = np.random.randint(0, 3, (2, 2, 2, 2))\n",
    "arr"
   ]
  },
  {
   "cell_type": "code",
   "execution_count": 53,
   "id": "63baa079",
   "metadata": {},
   "outputs": [
    {
     "data": {
      "text/plain": [
       "27"
      ]
     },
     "execution_count": 53,
     "metadata": {},
     "output_type": "execute_result"
    }
   ],
   "source": [
    "cumsum = arr.cumsum(axis = -1).cumsum(axis = -2)\n",
    "total = cumsum[-1][-2][-1][-1] + cumsum[-1][-1][-1][-1]\n",
    "total "
   ]
  },
  {
   "cell_type": "markdown",
   "id": "bf014d37",
   "metadata": {},
   "source": [
    "#### 68. Considering a one-dimensional vector D, how to compute means of subsets of D using a vector S of same size describing subset  indices? (★★★)"
   ]
  },
  {
   "cell_type": "code",
   "execution_count": null,
   "id": "1a528c34",
   "metadata": {},
   "outputs": [],
   "source": []
  },
  {
   "cell_type": "markdown",
   "id": "4fb4dcab",
   "metadata": {},
   "source": [
    "#### 69. How to get the diagonal of a dot product? (★★★)"
   ]
  },
  {
   "cell_type": "code",
   "execution_count": 9,
   "id": "6ebf319e",
   "metadata": {},
   "outputs": [
    {
     "name": "stdout",
     "output_type": "stream",
     "text": [
      "[[9 5 7 8 6]\n",
      " [5 6 8 8 0]\n",
      " [4 7 9 1 8]\n",
      " [4 5 3 3 9]\n",
      " [8 3 7 4 4]] [[4 2 4 3 8]\n",
      " [7 8 8 5 6]\n",
      " [9 0 3 4 0]\n",
      " [3 1 9 4 0]\n",
      " [1 7 9 7 0]]\n"
     ]
    }
   ],
   "source": [
    "A = np.random.randint(0, 10, (5, 5))\n",
    "B = np.random.randint(0, 10, (5, 5))\n",
    "print(A, B)"
   ]
  },
  {
   "cell_type": "code",
   "execution_count": 10,
   "id": "1179ee78",
   "metadata": {},
   "outputs": [
    {
     "name": "stdout",
     "output_type": "stream",
     "text": [
      "[[164 108 223 154 102]\n",
      " [158  66 164 109  76]\n",
      " [157 121 180 143  74]\n",
      " [ 96 114 173 124  62]\n",
      " [132  72 149 111  82]]\n",
      "[164  66 180 124  82]\n"
     ]
    }
   ],
   "source": [
    "print(np.dot(A, B))\n",
    "print(np.diag(np.dot(A, B)))"
   ]
  },
  {
   "cell_type": "markdown",
   "id": "065b5d48",
   "metadata": {},
   "source": [
    "#### 70. Consider the vector [1, 2, 3, 4, 5], how to build a new vector with 3 consecutive zeros interleaved between each value? (★★★)"
   ]
  },
  {
   "cell_type": "code",
   "execution_count": 20,
   "id": "b32c1ce4",
   "metadata": {},
   "outputs": [
    {
     "data": {
      "text/plain": [
       "[1, 0, 0, 0, 2, 0, 0, 0, 3, 0, 0, 0, 4, 0, 0, 0, 5, 0, 0, 0]"
      ]
     },
     "execution_count": 20,
     "metadata": {},
     "output_type": "execute_result"
    }
   ],
   "source": [
    "arr = [1, 2, 3, 4, 5]\n",
    "zeros = np.zeros(1, dtype = np.int32)\n",
    "result = []\n",
    "\n",
    "for i in range(5):\n",
    "    result.append(arr[i])\n",
    "    result.append(zeros[0])\n",
    "    result.append(zeros[0])\n",
    "    result.append(zeros[0])\n",
    "    \n",
    "result"
   ]
  },
  {
   "cell_type": "markdown",
   "id": "e444161e",
   "metadata": {},
   "source": [
    "#### 71. Consider an array of dimension (5,5,3), how to mulitply it by an array with dimensions (5,5)? (★★★)"
   ]
  },
  {
   "cell_type": "code",
   "execution_count": 59,
   "id": "cb5b8fff",
   "metadata": {},
   "outputs": [
    {
     "data": {
      "text/plain": [
       "(array([[[1, 1, 0],\n",
       "         [0, 3, 3],\n",
       "         [2, 0, 1],\n",
       "         [2, 3, 3],\n",
       "         [4, 4, 3]],\n",
       " \n",
       "        [[0, 3, 3],\n",
       "         [2, 2, 4],\n",
       "         [2, 3, 3],\n",
       "         [3, 2, 1],\n",
       "         [1, 0, 3]],\n",
       " \n",
       "        [[4, 4, 4],\n",
       "         [1, 1, 1],\n",
       "         [2, 4, 1],\n",
       "         [3, 2, 4],\n",
       "         [0, 2, 4]],\n",
       " \n",
       "        [[2, 2, 0],\n",
       "         [1, 3, 0],\n",
       "         [2, 3, 3],\n",
       "         [1, 2, 3],\n",
       "         [2, 0, 0]],\n",
       " \n",
       "        [[4, 1, 2],\n",
       "         [0, 1, 1],\n",
       "         [1, 1, 1],\n",
       "         [2, 3, 2],\n",
       "         [2, 1, 3]]]),\n",
       " array([[2, 4, 4, 4, 2],\n",
       "        [1, 0, 1, 1, 4],\n",
       "        [4, 4, 1, 3, 3],\n",
       "        [1, 4, 3, 0, 2],\n",
       "        [4, 3, 2, 1, 4]]))"
      ]
     },
     "execution_count": 59,
     "metadata": {},
     "output_type": "execute_result"
    }
   ],
   "source": [
    "A = np.random.randint(0, 5, (5, 5, 3))\n",
    "B = np.random.randint(0, 5, (5, 5))\n",
    "A, B"
   ]
  },
  {
   "cell_type": "code",
   "execution_count": 61,
   "id": "10f3c4d1",
   "metadata": {},
   "outputs": [
    {
     "data": {
      "text/plain": [
       "array([[[2],\n",
       "        [4],\n",
       "        [4],\n",
       "        [4],\n",
       "        [2]],\n",
       "\n",
       "       [[1],\n",
       "        [0],\n",
       "        [1],\n",
       "        [1],\n",
       "        [4]],\n",
       "\n",
       "       [[4],\n",
       "        [4],\n",
       "        [1],\n",
       "        [3],\n",
       "        [3]],\n",
       "\n",
       "       [[1],\n",
       "        [4],\n",
       "        [3],\n",
       "        [0],\n",
       "        [2]],\n",
       "\n",
       "       [[4],\n",
       "        [3],\n",
       "        [2],\n",
       "        [1],\n",
       "        [4]]])"
      ]
     },
     "execution_count": 61,
     "metadata": {},
     "output_type": "execute_result"
    }
   ],
   "source": [
    "B[:, :, None]"
   ]
  },
  {
   "cell_type": "code",
   "execution_count": 60,
   "id": "72ee92f1",
   "metadata": {},
   "outputs": [
    {
     "data": {
      "text/plain": [
       "array([[[ 2,  2,  0],\n",
       "        [ 0, 12, 12],\n",
       "        [ 8,  0,  4],\n",
       "        [ 8, 12, 12],\n",
       "        [ 8,  8,  6]],\n",
       "\n",
       "       [[ 0,  3,  3],\n",
       "        [ 0,  0,  0],\n",
       "        [ 2,  3,  3],\n",
       "        [ 3,  2,  1],\n",
       "        [ 4,  0, 12]],\n",
       "\n",
       "       [[16, 16, 16],\n",
       "        [ 4,  4,  4],\n",
       "        [ 2,  4,  1],\n",
       "        [ 9,  6, 12],\n",
       "        [ 0,  6, 12]],\n",
       "\n",
       "       [[ 2,  2,  0],\n",
       "        [ 4, 12,  0],\n",
       "        [ 6,  9,  9],\n",
       "        [ 0,  0,  0],\n",
       "        [ 4,  0,  0]],\n",
       "\n",
       "       [[16,  4,  8],\n",
       "        [ 0,  3,  3],\n",
       "        [ 2,  2,  2],\n",
       "        [ 2,  3,  2],\n",
       "        [ 8,  4, 12]]])"
      ]
     },
     "execution_count": 60,
     "metadata": {},
     "output_type": "execute_result"
    }
   ],
   "source": [
    "A*B[:, :, None]"
   ]
  },
  {
   "cell_type": "markdown",
   "id": "cc3005b9",
   "metadata": {},
   "source": [
    "#### 72. How to swap two rows of an array? (★★★)"
   ]
  },
  {
   "cell_type": "code",
   "execution_count": 80,
   "id": "5b345e23",
   "metadata": {},
   "outputs": [],
   "source": [
    "# sol1)\n",
    "def swap(arr, i, j):\n",
    "    extra = np.zeros_like(arr)\n",
    "    extra[i][:] = arr[i][:]\n",
    "\n",
    "    arr[i][:] = arr[j][:]\n",
    "\n",
    "    arr[j][:] = extra[i][:]\n",
    "    return arr"
   ]
  },
  {
   "cell_type": "code",
   "execution_count": 81,
   "id": "b9ceb06f",
   "metadata": {},
   "outputs": [
    {
     "data": {
      "text/plain": [
       "array([[0, 2, 1],\n",
       "       [2, 4, 1],\n",
       "       [1, 4, 1]])"
      ]
     },
     "execution_count": 81,
     "metadata": {},
     "output_type": "execute_result"
    }
   ],
   "source": [
    "arr = np.random.randint(0, 5, (3, 3))\n",
    "arr"
   ]
  },
  {
   "cell_type": "code",
   "execution_count": 82,
   "id": "510aaa86",
   "metadata": {},
   "outputs": [
    {
     "data": {
      "text/plain": [
       "array([[2, 4, 1],\n",
       "       [0, 2, 1],\n",
       "       [1, 4, 1]])"
      ]
     },
     "execution_count": 82,
     "metadata": {},
     "output_type": "execute_result"
    }
   ],
   "source": [
    "swap(arr, 0, 1)"
   ]
  },
  {
   "cell_type": "code",
   "execution_count": 83,
   "id": "b961ea3e",
   "metadata": {},
   "outputs": [],
   "source": [
    "# sol2)\n",
    "\n",
    "def swap(arr, i, j):\n",
    "    arr[[i, j]] = arr[[j, i]]\n",
    "    return arr"
   ]
  },
  {
   "cell_type": "code",
   "execution_count": 85,
   "id": "6700c01d",
   "metadata": {},
   "outputs": [
    {
     "data": {
      "text/plain": [
       "array([[3, 4, 5],\n",
       "       [0, 1, 2],\n",
       "       [6, 7, 8]])"
      ]
     },
     "execution_count": 85,
     "metadata": {},
     "output_type": "execute_result"
    }
   ],
   "source": [
    "A = np.arange(9).reshape(3, 3)\n",
    "swap(A, 0, 1)"
   ]
  },
  {
   "cell_type": "markdown",
   "id": "d9bdf8aa",
   "metadata": {},
   "source": [
    "#### 73. Consider a set of 10 triplets describing 10 triangles (with shared vertices), find the set of unique line segments composing all the  triangles (★★★)"
   ]
  },
  {
   "cell_type": "markdown",
   "id": "1c27098c",
   "metadata": {},
   "source": [
    "#### 74. Given a sorted array C that corresponds to a bincount, how to produce an array A such that np.bincount(A) == C? (★★★)"
   ]
  },
  {
   "cell_type": "code",
   "execution_count": 86,
   "id": "4aff6f55",
   "metadata": {},
   "outputs": [
    {
     "data": {
      "text/plain": [
       "(array([1, 2, 3, 4], dtype=int64), array([1, 2, 3, 4], dtype=int64))"
      ]
     },
     "execution_count": 86,
     "metadata": {},
     "output_type": "execute_result"
    }
   ],
   "source": [
    "A = [0, 1, 1, 2, 2, 2, 3, 3, 3, 3]\n",
    "C = np.bincount(A)\n",
    "C, np.sort(C)"
   ]
  },
  {
   "cell_type": "markdown",
   "id": "c4ff7d90",
   "metadata": {},
   "source": [
    "#### 75. How to compute averages using a sliding window over an array? (★★★)"
   ]
  },
  {
   "cell_type": "markdown",
   "id": "c09830a5",
   "metadata": {},
   "source": [
    "**Sliding Window Algorithm**  \n",
    "일정한 범위를 유지하면서 이동하는 window.\n",
    "window 내에 있는 데이터 이용하여 문제 풀이"
   ]
  },
  {
   "cell_type": "code",
   "execution_count": 94,
   "id": "bbf5fc59",
   "metadata": {},
   "outputs": [
    {
     "name": "stdout",
     "output_type": "stream",
     "text": [
      "[3 8 9 1 4 6 8 2 3 4]\n",
      "[5.25, 5.5, 5.0, 4.75, 5.0, 4.75, 4.25]\n"
     ]
    }
   ],
   "source": [
    "size = 4  # window size\n",
    "n = 10 # array size\n",
    "arr = np.random.randint(1, 10, n)\n",
    "average = []\n",
    "\n",
    "print(arr)\n",
    "for i in range(n-size+1):\n",
    "    average.append(np.mean(arr[i:i+size]))\n",
    "    \n",
    "print(average)"
   ]
  },
  {
   "cell_type": "markdown",
   "id": "5bfc7b89",
   "metadata": {},
   "source": [
    "#### 76. Consider a one-dimensional array Z, build a two-dimensional array whose first row is (Z[0],Z[1],Z[2]) and each subsequent row is  shifted by 1 (last row should be (Z[-3],Z[-2],Z[-1]) (★★★)\n"
   ]
  },
  {
   "cell_type": "code",
   "execution_count": 96,
   "id": "a5d122fe",
   "metadata": {},
   "outputs": [
    {
     "data": {
      "text/plain": [
       "array([[0, 1, 2],\n",
       "       [3, 4, 5],\n",
       "       [6, 7, 8]])"
      ]
     },
     "execution_count": 96,
     "metadata": {},
     "output_type": "execute_result"
    }
   ],
   "source": [
    "Z = np.arange(9)\n",
    "arr = Z.reshape(3, -1)\n",
    "arr"
   ]
  },
  {
   "cell_type": "markdown",
   "id": "f3e0d34b",
   "metadata": {},
   "source": [
    "#### 77. How to negate a boolean, or to change the sign of a float inplace? (★★★)"
   ]
  },
  {
   "cell_type": "code",
   "execution_count": 67,
   "id": "4ee50d76",
   "metadata": {},
   "outputs": [
    {
     "name": "stdout",
     "output_type": "stream",
     "text": [
      "[1 0 0 0 0 0 0 1 1 1]\n",
      "[0 1 1 1 1 1 1 0 0 0]\n"
     ]
    }
   ],
   "source": [
    "A = np.random.randint(0, 2, 10)\n",
    "print(A)\n",
    "np.logical_not(A, out=A)\n",
    "print(A)"
   ]
  },
  {
   "cell_type": "code",
   "execution_count": 68,
   "id": "99e37377",
   "metadata": {},
   "outputs": [
    {
     "name": "stdout",
     "output_type": "stream",
     "text": [
      "[ 0.42470988 -0.46370096  0.37313203  0.66180545 -0.97271097 -0.32607205\n",
      "  0.16900922  0.47159215 -0.87162893  0.5534545 ]\n",
      "[-0.42470988  0.46370096 -0.37313203 -0.66180545  0.97271097  0.32607205\n",
      " -0.16900922 -0.47159215  0.87162893 -0.5534545 ]\n"
     ]
    }
   ],
   "source": [
    "B = np.random.uniform(-1.0, 1.0, 10)\n",
    "print(B)\n",
    "np.negative(B, out=B)\n",
    "print(B)"
   ]
  },
  {
   "cell_type": "markdown",
   "id": "55fffe66",
   "metadata": {},
   "source": [
    "#### 78. Consider 2 sets of points P0,P1 describing lines (2d) and a point p, how to compute distance from p to each line i (P0[i],P1[i])? (★★★)"
   ]
  },
  {
   "cell_type": "code",
   "execution_count": null,
   "id": "c3e9aacc",
   "metadata": {},
   "outputs": [],
   "source": []
  },
  {
   "cell_type": "markdown",
   "id": "c4b6be4d",
   "metadata": {},
   "source": [
    "#### 79. Consider 2 sets of points P0,P1 describing lines (2d) and a set of points P, how to compute distance from each point j (P[j]) to each line i (P0[i],P1[i])? (★★★)"
   ]
  },
  {
   "cell_type": "markdown",
   "id": "e3fc540e",
   "metadata": {},
   "source": [
    "#### 80. Consider an arbitrary array, write a function that extract a subpart with a fixed shape and centered on a given element (pad with a `fill` value when necessary) (★★★)"
   ]
  },
  {
   "cell_type": "markdown",
   "id": "f977f54d",
   "metadata": {},
   "source": [
    "#### 81. Consider an array Z = [1,2,3,4,5,6,7,8,9,10,11,12,13,14], how to generate an array R = [[1,2,3,4], [2,3,4,5], [3,4,5,6], ..., [11,12,13,14]]? (★★★)"
   ]
  },
  {
   "cell_type": "code",
   "execution_count": 101,
   "id": "9fa2c2ab",
   "metadata": {},
   "outputs": [
    {
     "data": {
      "text/plain": [
       "[[1, 2, 3, 4],\n",
       " [2, 3, 4, 5],\n",
       " [3, 4, 5, 6],\n",
       " [4, 5, 6, 7],\n",
       " [5, 6, 7, 8],\n",
       " [6, 7, 8, 9],\n",
       " [7, 8, 9, 10],\n",
       " [8, 9, 10, 11],\n",
       " [9, 10, 11, 12],\n",
       " [10, 11, 12, 13],\n",
       " [11, 12, 13, 14]]"
      ]
     },
     "execution_count": 101,
     "metadata": {},
     "output_type": "execute_result"
    }
   ],
   "source": [
    "Z = [1,2,3,4,5,6,7,8,9,10,11,12,13,14]\n",
    "\n",
    "R = []\n",
    "for i in range(11):\n",
    "    R.append(Z[i:i+4])\n",
    "R"
   ]
  },
  {
   "cell_type": "markdown",
   "id": "3ec3cf4e",
   "metadata": {},
   "source": [
    "#### 82. Compute a matrix rank (★★★)\n"
   ]
  },
  {
   "cell_type": "code",
   "execution_count": 102,
   "id": "d8bb97ad",
   "metadata": {},
   "outputs": [
    {
     "data": {
      "text/plain": [
       "array([[ 3,  2, -3],\n",
       "       [-1, -1,  3],\n",
       "       [-4, -5, -2]])"
      ]
     },
     "execution_count": 102,
     "metadata": {},
     "output_type": "execute_result"
    }
   ],
   "source": [
    "arr = np.random.randint(-5, 5, (3, 3))\n",
    "arr"
   ]
  },
  {
   "cell_type": "code",
   "execution_count": 103,
   "id": "1fa8f524",
   "metadata": {},
   "outputs": [
    {
     "data": {
      "text/plain": [
       "3"
      ]
     },
     "execution_count": 103,
     "metadata": {},
     "output_type": "execute_result"
    }
   ],
   "source": [
    "np.linalg.matrix_rank(arr)"
   ]
  },
  {
   "cell_type": "markdown",
   "id": "09fc57c8",
   "metadata": {},
   "source": [
    "#### 83. How to find the most frequent value in an array?"
   ]
  },
  {
   "cell_type": "code",
   "execution_count": 113,
   "id": "358ed496",
   "metadata": {},
   "outputs": [
    {
     "data": {
      "text/plain": [
       "array([1, 0, 3, 4, 0, 0, 3, 4, 2, 1, 1, 1, 3, 1, 4, 3, 2, 3, 2, 2])"
      ]
     },
     "execution_count": 113,
     "metadata": {},
     "output_type": "execute_result"
    }
   ],
   "source": [
    "arr = np.random.randint(0, 5, 20)\n",
    "arr"
   ]
  },
  {
   "cell_type": "code",
   "execution_count": 114,
   "id": "f9eef8c2",
   "metadata": {},
   "outputs": [
    {
     "data": {
      "text/plain": [
       "4"
      ]
     },
     "execution_count": 114,
     "metadata": {},
     "output_type": "execute_result"
    }
   ],
   "source": [
    "arr[arr.argmax()]"
   ]
  },
  {
   "cell_type": "markdown",
   "id": "fdbbd699",
   "metadata": {},
   "source": [
    "#### 84. Extract all the contiguous 3x3 blocks from a random 10x10 matrix (★★★)"
   ]
  },
  {
   "cell_type": "code",
   "execution_count": 115,
   "id": "09a88914",
   "metadata": {},
   "outputs": [],
   "source": [
    "arr = np.arange(100).reshape(10, 10)"
   ]
  },
  {
   "cell_type": "markdown",
   "id": "70682ea0",
   "metadata": {},
   "source": [
    "#### 85. Create a 2D array subclass such that Z[i,j] == Z[j,i] (★★★)"
   ]
  },
  {
   "cell_type": "code",
   "execution_count": 63,
   "id": "f586cc9a",
   "metadata": {},
   "outputs": [],
   "source": [
    "class Array:\n",
    "    def __init__(self, n):\n",
    "        self.array = np.random.randint(0, 10, (n, n))"
   ]
  },
  {
   "cell_type": "code",
   "execution_count": 64,
   "id": "196e60ff",
   "metadata": {},
   "outputs": [],
   "source": [
    "class Symmetry(Array):\n",
    "    def __init__(self, n):\n",
    "        super(Symmetry, self).__init__(n)\n",
    "#         print(self.array)\n",
    "        self.array = np.triu(self.array)\n",
    "#         print(self.array)\n",
    "        self.symmetry = self.array + self.array.T - np.diag(self.array.diagonal())\n",
    "        print(self.symmetry)"
   ]
  },
  {
   "cell_type": "code",
   "execution_count": 65,
   "id": "8fa1b7fd",
   "metadata": {},
   "outputs": [
    {
     "name": "stdout",
     "output_type": "stream",
     "text": [
      "[[2 4 1]\n",
      " [4 3 7]\n",
      " [1 7 7]]\n",
      "[[7 5 2 4 3]\n",
      " [5 3 6 2 4]\n",
      " [2 6 6 0 4]\n",
      " [4 2 0 7 4]\n",
      " [3 4 4 4 1]]\n"
     ]
    }
   ],
   "source": [
    "arr1 = Symmetry(3)\n",
    "arr2 = Symmetry(5)"
   ]
  },
  {
   "cell_type": "markdown",
   "id": "9741320b",
   "metadata": {},
   "source": [
    "#### 86. Consider a set of p matrices wich shape (n,n) and a set of p vectors with shape (n,1). How to compute the sum of of the p matrix products at once? (result has shape (n,1)) (★★★)"
   ]
  },
  {
   "cell_type": "code",
   "execution_count": null,
   "id": "977383f4",
   "metadata": {},
   "outputs": [],
   "source": []
  },
  {
   "cell_type": "markdown",
   "id": "0ba8dd00",
   "metadata": {},
   "source": [
    "#### 87. Consider a 16x16 array, how to get the block-sum (block size is 4x4)? (★★★)"
   ]
  },
  {
   "cell_type": "code",
   "execution_count": 103,
   "id": "912d5d3a",
   "metadata": {},
   "outputs": [
    {
     "name": "stdout",
     "output_type": "stream",
     "text": [
      "[[1 0 4 3 2 0 3 2 3 3 3 0 1 1 1 0]\n",
      " [3 3 3 0 2 2 4 0 0 0 2 0 0 2 0 4]\n",
      " [2 2 1 1 2 4 3 3 3 2 3 2 4 3 1 4]\n",
      " [0 2 2 4 1 0 4 0 1 3 3 1 0 3 3 1]\n",
      " [3 0 0 4 2 1 1 2 0 4 2 4 3 3 2 2]\n",
      " [3 3 1 2 0 2 1 4 4 3 4 1 0 2 3 4]\n",
      " [0 0 0 4 4 4 4 4 3 0 3 0 0 0 3 4]\n",
      " [1 0 2 1 0 0 0 1 2 1 3 2 4 1 4 2]\n",
      " [0 0 0 3 3 0 3 3 0 0 2 3 0 0 2 4]\n",
      " [2 4 4 3 2 2 0 2 3 4 2 1 3 4 2 1]\n",
      " [2 3 4 1 4 2 1 3 4 2 1 4 4 2 4 2]\n",
      " [3 3 4 4 3 2 4 0 2 4 3 4 1 4 3 3]\n",
      " [2 1 3 1 0 0 2 1 2 4 4 4 1 1 3 4]\n",
      " [0 2 2 3 4 1 0 2 1 2 3 4 1 4 0 3]\n",
      " [0 4 0 4 2 1 3 0 3 1 3 0 1 2 2 2]\n",
      " [3 4 2 4 2 2 1 3 1 3 0 0 0 0 2 2]]\n",
      "[[31 32 31 35 32 32 34 31 29 27 28 22 28]\n",
      " [30 29 29 35 31 28 30 28 30 33 35 31 35]\n",
      " [30 27 27 32 30 33 38 41 40 39 38 35 38]\n",
      " [28 29 31 38 34 35 38 40 36 31 29 28 33]\n",
      " [24 23 27 30 30 33 34 40 36 34 32 32 37]\n",
      " [20 23 26 31 33 35 33 37 31 26 25 25 33]\n",
      " [24 30 32 33 32 31 30 33 29 28 28 29 34]\n",
      " [30 34 31 25 26 26 29 33 34 36 36 40 39]\n",
      " [40 45 41 37 34 31 35 35 39 38 38 41 39]\n",
      " [44 44 39 31 28 30 38 41 48 46 43 45 42]\n",
      " [38 42 38 32 29 27 34 38 48 46 45 44 40]\n",
      " [36 40 34 34 25 24 31 35 44 40 40 35 35]\n",
      " [35 38 31 30 24 23 29 33 35 31 28 25 28]]\n"
     ]
    }
   ],
   "source": [
    "arr = np.random.randint(0, 5, (16, 16))\n",
    "print(arr)\n",
    "block = []\n",
    "\n",
    "for i in range(13):\n",
    "    for j in range(13):\n",
    "        block.append(np.sum(arr[i:i+4, j:j+4]))\n",
    "        \n",
    "block = np.array(block).reshape(13, 13)\n",
    "print(block) "
   ]
  },
  {
   "cell_type": "markdown",
   "id": "ff58fa44",
   "metadata": {},
   "source": [
    "#### 88. How to implement the Game of Life using numpy arrays? (★★★)"
   ]
  },
  {
   "cell_type": "markdown",
   "id": "e7e29c50",
   "metadata": {},
   "source": [
    "#### 89. How to get the n largest values of an array (★★★)"
   ]
  },
  {
   "cell_type": "code",
   "execution_count": 107,
   "id": "4ba3f4b9",
   "metadata": {},
   "outputs": [
    {
     "name": "stdout",
     "output_type": "stream",
     "text": [
      "[-74  75 -20  -9 -63 -91  69 -67  64  65]\n",
      "[-91 -74 -67 -63 -20  -9  64  65  69  75]\n",
      "-20\n"
     ]
    }
   ],
   "source": [
    "n = 6\n",
    "\n",
    "arr = np.random.randint(-100, 100, 10)\n",
    "print(arr)\n",
    "print(arr[np.argsort(arr)])\n",
    "print(arr[np.argsort(arr)][-n])"
   ]
  },
  {
   "cell_type": "markdown",
   "id": "0b396767",
   "metadata": {},
   "source": [
    "#### 90. Given an arbitrary number of vectors, build the cartesian product (every combinations of every item) (★★★)"
   ]
  },
  {
   "cell_type": "code",
   "execution_count": 160,
   "id": "76cff53d",
   "metadata": {},
   "outputs": [
    {
     "name": "stdout",
     "output_type": "stream",
     "text": [
      "[[1 4 6]\n",
      " [1 4 7]\n",
      " [1 5 6]\n",
      " [1 5 7]\n",
      " [2 4 6]\n",
      " [2 4 7]\n",
      " [2 5 6]\n",
      " [2 5 7]\n",
      " [3 4 6]\n",
      " [3 4 7]\n",
      " [3 5 6]\n",
      " [3 5 7]]\n"
     ]
    }
   ],
   "source": [
    "def cartesian(arrays):\n",
    "    arrays = [np.asarray(a) for a in arrays]\n",
    "    shape = (len(x) for x in arrays)\n",
    "\n",
    "    ix = np.indices(shape, dtype=int)\n",
    "    ix = ix.reshape(len(arrays), -1).T\n",
    "\n",
    "    for n, arr in enumerate(arrays):\n",
    "        ix[:, n] = arrays[n][ix[:, n]]\n",
    "\n",
    "    return ix\n",
    "\n",
    "print (cartesian(([1, 2, 3], [4, 5], [6, 7])))"
   ]
  },
  {
   "cell_type": "markdown",
   "id": "8cb7c0bf",
   "metadata": {},
   "source": [
    "#### 91. How to create a record array from a regular array? (★★★)"
   ]
  },
  {
   "cell_type": "markdown",
   "id": "e17baa14",
   "metadata": {},
   "source": [
    "#### 92. Consider a large vector Z, compute Z to the power of 3 using 3 different methods (★★★)"
   ]
  },
  {
   "cell_type": "markdown",
   "id": "08a06cf6",
   "metadata": {},
   "source": [
    "#### 93. Consider two arrays A and B of shape (8,3) and (2,2). How to find rows of A that contain elements of each row of B regardless of the order of the elements in B? (★★★)"
   ]
  },
  {
   "cell_type": "code",
   "execution_count": 162,
   "id": "10d9d272",
   "metadata": {},
   "outputs": [],
   "source": [
    "A = np.random.randint(0, 5, (8, 3))\n",
    "B = np.random.randint(0, 5, (2, 2))"
   ]
  },
  {
   "cell_type": "markdown",
   "id": "b740f545",
   "metadata": {},
   "source": [
    "**np.newaxis**   \n",
    "numpy array의 차원 늘려줌."
   ]
  },
  {
   "cell_type": "code",
   "execution_count": 163,
   "id": "adc91799",
   "metadata": {},
   "outputs": [
    {
     "name": "stdout",
     "output_type": "stream",
     "text": [
      "[3 4 5 7]\n"
     ]
    }
   ],
   "source": [
    "C = (A[..., np.newaxis, np.newaxis] == B)\n",
    "rows = np.where(C.any((3,1)).all(1))[0]\n",
    "print(rows)"
   ]
  },
  {
   "cell_type": "markdown",
   "id": "af73c2a0",
   "metadata": {},
   "source": [
    "#### 94. Considering a 10x3 matrix, extract rows with unequal values (e.g. [2,2,3]) (★★★)"
   ]
  },
  {
   "cell_type": "code",
   "execution_count": 112,
   "id": "1a1a5afc",
   "metadata": {},
   "outputs": [
    {
     "name": "stdout",
     "output_type": "stream",
     "text": [
      "[[0 3 3]\n",
      " [4 0 4]\n",
      " [2 3 2]\n",
      " [3 3 0]\n",
      " [2 2 1]\n",
      " [2 0 0]\n",
      " [4 2 1]\n",
      " [0 1 0]\n",
      " [0 1 3]\n",
      " [1 4 4]]\n",
      "Rows with unequal values: \n",
      "[0 3 3]\n",
      "[4 0 4]\n",
      "[2 3 2]\n",
      "[3 3 0]\n",
      "[2 2 1]\n",
      "[2 0 0]\n",
      "[0 1 0]\n",
      "[1 4 4]\n"
     ]
    }
   ],
   "source": [
    "arr = np.random.randint(0, 5, (10, 3))\n",
    "rows = []\n",
    "for i in range(10):\n",
    "    if (arr[i, 0] == arr[i, 1])|(arr[i, 0] == arr[i, 2])|(arr[i, 1] == arr[i, 2]):\n",
    "        rows.append(i)\n",
    "print(arr)\n",
    "\n",
    "print('Rows with unequal values: ')\n",
    "for i in rows:\n",
    "    print(arr[i, :])"
   ]
  },
  {
   "cell_type": "markdown",
   "id": "284f4b6c",
   "metadata": {},
   "source": [
    "#### 95. Convert a vector of ints into a matrix binary representation (★★★)"
   ]
  },
  {
   "cell_type": "markdown",
   "id": "bd6a6565",
   "metadata": {},
   "source": [
    "**np.binary_repr(num, width=None)**   \n",
    "십진수를 이진수로 변환하여 출력하는 함수.   \n",
    "num = 변환할 십진수, width = 표현할 비트 수   \n",
    "**np.packbits(a, axis=None)**   \n",
    "ndarray의 이진수 원소를 np.unit16의 십진수로 변환하는 함수.    \n",
    "a = 변환할 배열\n",
    "**np.unpackbits(a, axis=None, count)**   \n",
    "십진수를 이진수로 반환하는 함수"
   ]
  },
  {
   "cell_type": "code",
   "execution_count": 155,
   "id": "9612b35a",
   "metadata": {},
   "outputs": [
    {
     "data": {
      "text/plain": [
       "array([[3, 7, 5],\n",
       "       [5, 0, 1],\n",
       "       [5, 9, 3]], dtype=uint8)"
      ]
     },
     "execution_count": 155,
     "metadata": {},
     "output_type": "execute_result"
    }
   ],
   "source": [
    "arr = np.random.randint(0, 10, (3, 3))\n",
    "arr = arr.astype(np.uint8)\n",
    "arr"
   ]
  },
  {
   "cell_type": "code",
   "execution_count": 158,
   "id": "0275ecd3",
   "metadata": {},
   "outputs": [
    {
     "data": {
      "text/plain": [
       "array([[[0, 0, 0],\n",
       "        [0, 0, 0],\n",
       "        [0, 0, 0],\n",
       "        [0, 0, 0],\n",
       "        [0, 0, 0],\n",
       "        [0, 1, 1],\n",
       "        [1, 1, 0],\n",
       "        [1, 1, 1]],\n",
       "\n",
       "       [[0, 0, 0],\n",
       "        [0, 0, 0],\n",
       "        [0, 0, 0],\n",
       "        [0, 0, 0],\n",
       "        [0, 0, 0],\n",
       "        [1, 0, 0],\n",
       "        [0, 0, 0],\n",
       "        [1, 0, 1]],\n",
       "\n",
       "       [[0, 0, 0],\n",
       "        [0, 0, 0],\n",
       "        [0, 0, 0],\n",
       "        [0, 0, 0],\n",
       "        [0, 1, 0],\n",
       "        [1, 0, 0],\n",
       "        [0, 0, 1],\n",
       "        [1, 1, 1]]], dtype=uint8)"
      ]
     },
     "execution_count": 158,
     "metadata": {},
     "output_type": "execute_result"
    }
   ],
   "source": [
    "np.unpackbits(arr[:, np.newaxis], axis = 1)"
   ]
  },
  {
   "cell_type": "markdown",
   "id": "cc4b95a6",
   "metadata": {},
   "source": [
    "#### 96. Given a two dimensional array, how to extract unique rows? (★★★)"
   ]
  },
  {
   "cell_type": "code",
   "execution_count": 115,
   "id": "dbc96ba9",
   "metadata": {},
   "outputs": [
    {
     "name": "stdout",
     "output_type": "stream",
     "text": [
      "[[1 1 1]\n",
      " [1 1 1]\n",
      " [1 1 1]]\n",
      "[[1 1 1]]\n"
     ]
    }
   ],
   "source": [
    "arr = np.random.randint(0, 2, (3, 3))\n",
    "print(arr)\n",
    "print(np.unique(arr, axis = 0))"
   ]
  },
  {
   "cell_type": "markdown",
   "id": "b087ff14",
   "metadata": {},
   "source": [
    "#### 97. Considering 2 vectors A & B, write the einsum equivalent of inner, outer, sum, and mul function (★★★)"
   ]
  },
  {
   "cell_type": "markdown",
   "id": "a24b2980",
   "metadata": {},
   "source": [
    "**numpy.einsum(subscripts)**   \n",
    "'ii': 대각선을 의미   \n",
    "np.einsum('ii', arr) -> 행렬의 대각합    \n",
    "np.einsum('ii->i', arr) -> arr의 대각성분을 취하여 이를 ith 성분으로 가지는 벡터 생성   \n",
    "np.einsum('ij->i', arr) -> arr의 ij번째 원소의 합을 ith 성분으로 가지는 벡터 생성, np.sum(arr, axis = 1)과 동일한 결과   \n",
    "np.einsum('ji', arr) = np.einsum('ij'->'ji') -> 전치행렬   \n",
    "np.einsum('i, i', b, b) -> 내적\n",
    "np.einsum('ij, j', a, b) -> 행렬 a의 ij번째 요소와 행렬 b의 j번째 요소 곱한 뒤 더하기   "
   ]
  },
  {
   "cell_type": "code",
   "execution_count": 117,
   "id": "89abbf5c",
   "metadata": {},
   "outputs": [
    {
     "data": {
      "text/plain": [
       "(array([1, 4, 5, 2, 7]), array([2, 3, 7, 4, 8]))"
      ]
     },
     "execution_count": 117,
     "metadata": {},
     "output_type": "execute_result"
    }
   ],
   "source": [
    "A = np.random.randint(0, 10, 5)\n",
    "B = np.random.randint(0, 10, 5)\n",
    "A, B"
   ]
  },
  {
   "cell_type": "code",
   "execution_count": 119,
   "id": "af76256b",
   "metadata": {},
   "outputs": [
    {
     "data": {
      "text/plain": [
       "(113, 113)"
      ]
     },
     "execution_count": 119,
     "metadata": {},
     "output_type": "execute_result"
    }
   ],
   "source": [
    "#inner product\n",
    "np.einsum('i, i', A, B), np.dot(A, B)"
   ]
  },
  {
   "cell_type": "code",
   "execution_count": 124,
   "id": "1abd9dee",
   "metadata": {},
   "outputs": [
    {
     "data": {
      "text/plain": [
       "array([[ 2,  3,  7,  4,  8],\n",
       "       [ 8, 12, 28, 16, 32],\n",
       "       [10, 15, 35, 20, 40],\n",
       "       [ 4,  6, 14,  8, 16],\n",
       "       [14, 21, 49, 28, 56]])"
      ]
     },
     "execution_count": 124,
     "metadata": {},
     "output_type": "execute_result"
    }
   ],
   "source": [
    "#outer product\n",
    "np.einsum('i, j->ij', A, B)"
   ]
  },
  {
   "cell_type": "code",
   "execution_count": 133,
   "id": "3825a11f",
   "metadata": {},
   "outputs": [
    {
     "data": {
      "text/plain": [
       "19"
      ]
     },
     "execution_count": 133,
     "metadata": {},
     "output_type": "execute_result"
    }
   ],
   "source": [
    "# sum\n",
    "np.einsum('i->', A)"
   ]
  },
  {
   "cell_type": "markdown",
   "id": "09ac5e7f",
   "metadata": {},
   "source": [
    "#### 98. Considering a path described by two vectors (X,Y), how to sample it using equidistant samples (★★★)?"
   ]
  },
  {
   "cell_type": "code",
   "execution_count": 136,
   "id": "c509857b",
   "metadata": {},
   "outputs": [
    {
     "data": {
      "text/plain": [
       "(array([4, 0, 3]), array([3, 3, 1]))"
      ]
     },
     "execution_count": 136,
     "metadata": {},
     "output_type": "execute_result"
    }
   ],
   "source": [
    "np.random.seed(0)\n",
    "X = np.random.randint(0, 5, 3)\n",
    "Y = np.random.randint(0, 5, 3)\n",
    "X, Y "
   ]
  },
  {
   "cell_type": "code",
   "execution_count": 138,
   "id": "77bff945",
   "metadata": {},
   "outputs": [
    {
     "data": {
      "text/plain": [
       "3.7416573867739413"
      ]
     },
     "execution_count": 138,
     "metadata": {},
     "output_type": "execute_result"
    }
   ],
   "source": [
    "dis = np.sqrt(np.sum(np.square(X-Y)))\n",
    "dis "
   ]
  },
  {
   "cell_type": "code",
   "execution_count": null,
   "id": "7b1db4e1",
   "metadata": {},
   "outputs": [],
   "source": []
  },
  {
   "cell_type": "markdown",
   "id": "0bc88b46",
   "metadata": {},
   "source": [
    "#### 99. Given an integer n and a 2D array X, select from X the rows which can be interpreted as draws from a multinomial distribution with n degrees, i.e., the rows which only contain integers and which sum to n. (★★★)"
   ]
  },
  {
   "cell_type": "code",
   "execution_count": null,
   "id": "4f224c2e",
   "metadata": {},
   "outputs": [],
   "source": []
  },
  {
   "cell_type": "markdown",
   "id": "1fc85ae3",
   "metadata": {},
   "source": [
    "#### 100. Compute bootstrapped 95% confidence intervals for the mean of a 1D array X (i.e., resample the elements of an array with replacement N times, compute the mean of each sample, and then compute percentiles over the means). (★★★)"
   ]
  },
  {
   "cell_type": "code",
   "execution_count": 159,
   "id": "daa75693",
   "metadata": {},
   "outputs": [
    {
     "data": {
      "text/plain": [
       "array([-0.03883451,  0.34090253])"
      ]
     },
     "execution_count": 159,
     "metadata": {},
     "output_type": "execute_result"
    }
   ],
   "source": [
    "X = np.random.randn(100)\n",
    "N = 1000\n",
    "idx = np.random.randint(0, X.size, (N, X.size))\n",
    "mean = X[idx].mean(axis = 1)\n",
    "confi = np.percentile(mean, [2.5, 97.5])\n",
    "confi"
   ]
  }
 ],
 "metadata": {
  "kernelspec": {
   "display_name": "Python 3 (ipykernel)",
   "language": "python",
   "name": "python3"
  },
  "language_info": {
   "codemirror_mode": {
    "name": "ipython",
    "version": 3
   },
   "file_extension": ".py",
   "mimetype": "text/x-python",
   "name": "python",
   "nbconvert_exporter": "python",
   "pygments_lexer": "ipython3",
   "version": "3.9.7"
  }
 },
 "nbformat": 4,
 "nbformat_minor": 5
}
