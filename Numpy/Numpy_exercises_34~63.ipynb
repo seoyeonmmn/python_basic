{
 "cells": [
  {
   "cell_type": "code",
   "execution_count": 2,
   "id": "983158e8",
   "metadata": {},
   "outputs": [],
   "source": [
    "import numpy as np"
   ]
  },
  {
   "cell_type": "markdown",
   "id": "74ace941",
   "metadata": {},
   "source": [
    "#### 34. How to get all the dates corresponding to the month of July 2016? (★★☆)"
   ]
  },
  {
   "cell_type": "code",
   "execution_count": 2,
   "id": "9a373906",
   "metadata": {},
   "outputs": [],
   "source": [
    "July16 = np.arange('2016-07-01', '2016-08-01', dtype = 'datetime64[D]')"
   ]
  },
  {
   "cell_type": "code",
   "execution_count": 3,
   "id": "1a472803",
   "metadata": {},
   "outputs": [
    {
     "data": {
      "text/plain": [
       "array(['2016-07-01', '2016-07-02', '2016-07-03', '2016-07-04',\n",
       "       '2016-07-05', '2016-07-06', '2016-07-07', '2016-07-08',\n",
       "       '2016-07-09', '2016-07-10', '2016-07-11', '2016-07-12',\n",
       "       '2016-07-13', '2016-07-14', '2016-07-15', '2016-07-16',\n",
       "       '2016-07-17', '2016-07-18', '2016-07-19', '2016-07-20',\n",
       "       '2016-07-21', '2016-07-22', '2016-07-23', '2016-07-24',\n",
       "       '2016-07-25', '2016-07-26', '2016-07-27', '2016-07-28',\n",
       "       '2016-07-29', '2016-07-30', '2016-07-31'], dtype='datetime64[D]')"
      ]
     },
     "execution_count": 3,
     "metadata": {},
     "output_type": "execute_result"
    }
   ],
   "source": [
    "July16"
   ]
  },
  {
   "cell_type": "markdown",
   "id": "7329f00e",
   "metadata": {},
   "source": [
    "#### 35. How to compute ((A+B)*(-A/2)) in place (without copy)? (★★☆)"
   ]
  },
  {
   "cell_type": "markdown",
   "id": "e7bf0346",
   "metadata": {},
   "source": [
    "*parameter* out 이용   \n",
    "\n",
    "out : ndarray, None, or tuple of ndarray and None, optional   \n",
    "    A location into which the result is stored. If provided, it must have   \n",
    "    a shape that the inputs broadcast to. If not provided or None,   \n",
    "    a freshly-allocated array is returned. A tuple (possible only as a   \n",
    "    keyword argument) must have length equal to the number of outputs."
   ]
  },
  {
   "cell_type": "code",
   "execution_count": 61,
   "id": "e888f573",
   "metadata": {},
   "outputs": [
    {
     "name": "stdout",
     "output_type": "stream",
     "text": [
      "A: 3\n",
      "B: 4\n",
      "[-10.5]\n"
     ]
    }
   ],
   "source": [
    "A = int(input(\"A: \"))\n",
    "B = int(input(\"B: \"))\n",
    "\n",
    "\n",
    "A = np.ones(1)*A\n",
    "B = np.ones(1)*B\n",
    "\n",
    "np.add(A, B, out = B)\n",
    "np.negative(A, out = A)\n",
    "np.divide(A, 2, out = A)\n",
    "np.multiply(A, B, out = A)\n",
    "\n",
    "print(A)"
   ]
  },
  {
   "cell_type": "markdown",
   "id": "83961a0b",
   "metadata": {},
   "source": [
    "#### 36. Extract the integer part of a random array of positive numbers using 4 different methods (★★☆)"
   ]
  },
  {
   "cell_type": "code",
   "execution_count": 12,
   "id": "ce3e2dcd",
   "metadata": {},
   "outputs": [
    {
     "name": "stdout",
     "output_type": "stream",
     "text": [
      "[ 0.13060139  0.12296895  0.53072226  0.8423145   0.61173908 -0.99889554\n",
      "  0.66433511  2.49943812  0.69503661 -0.49099756  0.2589532  -0.98851699\n",
      " -0.06897883  0.21174138  1.35653753 -1.21668672  0.35759476  0.33341098\n",
      "  0.28836941 -0.64597669  0.55758964 -0.86121364  0.15615435  0.51848805\n",
      "  0.28943979 -1.13167751 -1.06526937 -0.47322058  0.90967583 -0.236864\n",
      " -0.24294865  0.09116004  0.62277573 -0.08980893  1.9211475 ]\n",
      "[0. 0. 0. 0. 0. 0. 2. 0. 0. 0. 1. 0. 0. 0. 0. 0. 0. 0. 0. 0. 0. 1.]\n"
     ]
    }
   ],
   "source": [
    "arr = np.random.randn(35)\n",
    "print(arr)\n",
    "arr = np.floor(arr[arr>0])\n",
    "print(arr)"
   ]
  },
  {
   "cell_type": "markdown",
   "id": "1c41b518",
   "metadata": {},
   "source": [
    "#### 37. Create a 5x5 matrix with row values ranging from 0 to 4 (★★☆)"
   ]
  },
  {
   "cell_type": "code",
   "execution_count": 15,
   "id": "ddfef99d",
   "metadata": {},
   "outputs": [
    {
     "data": {
      "text/plain": [
       "array([[2, 3, 1, 2, 2],\n",
       "       [2, 0, 1, 0, 4],\n",
       "       [4, 1, 1, 1, 4],\n",
       "       [4, 2, 2, 4, 0],\n",
       "       [2, 1, 1, 3, 3]])"
      ]
     },
     "execution_count": 15,
     "metadata": {},
     "output_type": "execute_result"
    }
   ],
   "source": [
    "arr = np.random.randint(0, 5, (5, 5))\n",
    "arr"
   ]
  },
  {
   "cell_type": "markdown",
   "id": "780da3ab",
   "metadata": {},
   "source": [
    "#### 38. Consider a generator function that generates 10 integers and use it to build an array (★☆☆)"
   ]
  },
  {
   "cell_type": "code",
   "execution_count": 28,
   "id": "0d6d3d5a",
   "metadata": {},
   "outputs": [],
   "source": [
    "def gen_int():\n",
    "    arr = np.random.randint(0, 10, 10)\n",
    "    m = int(input(\"Height(1, 2, 5, 10): \"))\n",
    "    arr = arr.reshape(m, -1)\n",
    "    print(arr)"
   ]
  },
  {
   "cell_type": "code",
   "execution_count": 29,
   "id": "21992c90",
   "metadata": {},
   "outputs": [
    {
     "name": "stdout",
     "output_type": "stream",
     "text": [
      "Height(1, 2, 5, 10): 2\n",
      "[[2 7 2 0 0]\n",
      " [1 5 2 9 9]]\n"
     ]
    }
   ],
   "source": [
    "gen_int()"
   ]
  },
  {
   "cell_type": "markdown",
   "id": "749c9d70",
   "metadata": {},
   "source": [
    "#### 39. Create a vector of size 10 with values ranging from 0 to 1, both excluded (★★☆)"
   ]
  },
  {
   "cell_type": "code",
   "execution_count": 65,
   "id": "85c45805",
   "metadata": {},
   "outputs": [
    {
     "data": {
      "text/plain": [
       "array([0.09090909, 0.18181818, 0.27272727, 0.36363636, 0.45454545,\n",
       "       0.54545455, 0.63636364, 0.72727273, 0.81818182, 0.90909091])"
      ]
     },
     "execution_count": 65,
     "metadata": {},
     "output_type": "execute_result"
    }
   ],
   "source": [
    "arr = np.linspace(0, 1, 11, endpoint = False)[1:]\n",
    "arr"
   ]
  },
  {
   "cell_type": "code",
   "execution_count": 63,
   "id": "0a332f65",
   "metadata": {},
   "outputs": [
    {
     "name": "stdout",
     "output_type": "stream",
     "text": [
      " linspace(start, stop, num=50, endpoint=True, retstep=False, dtype=None,\n",
      "          axis=0)\n",
      "\n",
      "Return evenly spaced numbers over a specified interval.\n",
      "\n",
      "Returns `num` evenly spaced samples, calculated over the\n",
      "interval [`start`, `stop`].\n",
      "\n",
      "The endpoint of the interval can optionally be excluded.\n",
      "\n",
      ".. versionchanged:: 1.16.0\n",
      "    Non-scalar `start` and `stop` are now supported.\n",
      "\n",
      ".. versionchanged:: 1.20.0\n",
      "    Values are rounded towards ``-inf`` instead of ``0`` when an\n",
      "    integer ``dtype`` is specified. The old behavior can\n",
      "    still be obtained with ``np.linspace(start, stop, num).astype(int)``\n",
      "\n",
      "Parameters\n",
      "----------\n",
      "start : array_like\n",
      "    The starting value of the sequence.\n",
      "stop : array_like\n",
      "    The end value of the sequence, unless `endpoint` is set to False.\n",
      "    In that case, the sequence consists of all but the last of ``num + 1``\n",
      "    evenly spaced samples, so that `stop` is excluded.  Note that the step\n",
      "    size changes when `endpoint` is False.\n",
      "num : int, optional\n",
      "    Number of samples to generate. Default is 50. Must be non-negative.\n",
      "endpoint : bool, optional\n",
      "    If True, `stop` is the last sample. Otherwise, it is not included.\n",
      "    Default is True.\n",
      "retstep : bool, optional\n",
      "    If True, return (`samples`, `step`), where `step` is the spacing\n",
      "    between samples.\n",
      "dtype : dtype, optional\n",
      "    The type of the output array.  If `dtype` is not given, the data type\n",
      "    is inferred from `start` and `stop`. The inferred dtype will never be\n",
      "    an integer; `float` is chosen even if the arguments would produce an\n",
      "    array of integers.\n",
      "\n",
      "    .. versionadded:: 1.9.0\n",
      "\n",
      "axis : int, optional\n",
      "    The axis in the result to store the samples.  Relevant only if start\n",
      "    or stop are array-like.  By default (0), the samples will be along a\n",
      "    new axis inserted at the beginning. Use -1 to get an axis at the end.\n",
      "\n",
      "    .. versionadded:: 1.16.0\n",
      "\n",
      "Returns\n",
      "-------\n",
      "samples : ndarray\n",
      "    There are `num` equally spaced samples in the closed interval\n",
      "    ``[start, stop]`` or the half-open interval ``[start, stop)``\n",
      "    (depending on whether `endpoint` is True or False).\n",
      "step : float, optional\n",
      "    Only returned if `retstep` is True\n",
      "\n",
      "    Size of spacing between samples.\n",
      "\n",
      "\n",
      "See Also\n",
      "--------\n",
      "arange : Similar to `linspace`, but uses a step size (instead of the\n",
      "         number of samples).\n",
      "geomspace : Similar to `linspace`, but with numbers spaced evenly on a log\n",
      "            scale (a geometric progression).\n",
      "logspace : Similar to `geomspace`, but with the end points specified as\n",
      "           logarithms.\n",
      "\n",
      "Examples\n",
      "--------\n",
      ">>> np.linspace(2.0, 3.0, num=5)\n",
      "array([2.  , 2.25, 2.5 , 2.75, 3.  ])\n",
      ">>> np.linspace(2.0, 3.0, num=5, endpoint=False)\n",
      "array([2. ,  2.2,  2.4,  2.6,  2.8])\n",
      ">>> np.linspace(2.0, 3.0, num=5, retstep=True)\n",
      "(array([2.  ,  2.25,  2.5 ,  2.75,  3.  ]), 0.25)\n",
      "\n",
      "Graphical illustration:\n",
      "\n",
      ">>> import matplotlib.pyplot as plt\n",
      ">>> N = 8\n",
      ">>> y = np.zeros(N)\n",
      ">>> x1 = np.linspace(0, 10, N, endpoint=True)\n",
      ">>> x2 = np.linspace(0, 10, N, endpoint=False)\n",
      ">>> plt.plot(x1, y, 'o')\n",
      "[<matplotlib.lines.Line2D object at 0x...>]\n",
      ">>> plt.plot(x2, y + 0.5, 'o')\n",
      "[<matplotlib.lines.Line2D object at 0x...>]\n",
      ">>> plt.ylim([-0.5, 1])\n",
      "(-0.5, 1)\n",
      ">>> plt.show()\n"
     ]
    }
   ],
   "source": [
    "np.info(np.linspace)"
   ]
  },
  {
   "cell_type": "markdown",
   "id": "34de7252",
   "metadata": {},
   "source": [
    "#### 40. Create a random vector of size 10 and sort it (★★☆)"
   ]
  },
  {
   "cell_type": "code",
   "execution_count": 31,
   "id": "625283fd",
   "metadata": {},
   "outputs": [
    {
     "name": "stdout",
     "output_type": "stream",
     "text": [
      "[99 59 10 37 57 35 36 52 75 30]\n",
      "[10 30 35 36 37 52 57 59 75 99]\n"
     ]
    }
   ],
   "source": [
    "arr = np.random.randint(0, 100, 10)\n",
    "print(arr)\n",
    "print(np.sort(arr))"
   ]
  },
  {
   "cell_type": "markdown",
   "id": "2aeb35ee",
   "metadata": {},
   "source": [
    "#### 41. How to sum a small array faster than np.sum? (★★☆)"
   ]
  },
  {
   "cell_type": "code",
   "execution_count": 66,
   "id": "4d2e5205",
   "metadata": {},
   "outputs": [
    {
     "name": "stdout",
     "output_type": "stream",
     "text": [
      "reduce(array, axis=0, dtype=None, out=None, keepdims=False, initial=<no value>, where=True)\n",
      "\n",
      "Reduces `array`'s dimension by one, by applying ufunc along one axis.\n",
      "\n",
      "Let :math:`array.shape = (N_0, ..., N_i, ..., N_{M-1})`.  Then\n",
      ":math:`ufunc.reduce(array, axis=i)[k_0, ..,k_{i-1}, k_{i+1}, .., k_{M-1}]` =\n",
      "the result of iterating `j` over :math:`range(N_i)`, cumulatively applying\n",
      "ufunc to each :math:`array[k_0, ..,k_{i-1}, j, k_{i+1}, .., k_{M-1}]`.\n",
      "For a one-dimensional array, reduce produces results equivalent to:\n",
      "::\n",
      "\n",
      " r = op.identity # op = ufunc\n",
      " for i in range(len(A)):\n",
      "   r = op(r, A[i])\n",
      " return r\n",
      "\n",
      "For example, add.reduce() is equivalent to sum().\n",
      "\n",
      "Parameters\n",
      "----------\n",
      "array : array_like\n",
      "    The array to act on.\n",
      "axis : None or int or tuple of ints, optional\n",
      "    Axis or axes along which a reduction is performed.\n",
      "    The default (`axis` = 0) is perform a reduction over the first\n",
      "    dimension of the input array. `axis` may be negative, in\n",
      "    which case it counts from the last to the first axis.\n",
      "\n",
      "    .. versionadded:: 1.7.0\n",
      "\n",
      "    If this is None, a reduction is performed over all the axes.\n",
      "    If this is a tuple of ints, a reduction is performed on multiple\n",
      "    axes, instead of a single axis or all the axes as before.\n",
      "\n",
      "    For operations which are either not commutative or not associative,\n",
      "    doing a reduction over multiple axes is not well-defined. The\n",
      "    ufuncs do not currently raise an exception in this case, but will\n",
      "    likely do so in the future.\n",
      "dtype : data-type code, optional\n",
      "    The type used to represent the intermediate results. Defaults\n",
      "    to the data-type of the output array if this is provided, or\n",
      "    the data-type of the input array if no output array is provided.\n",
      "out : ndarray, None, or tuple of ndarray and None, optional\n",
      "    A location into which the result is stored. If not provided or None,\n",
      "    a freshly-allocated array is returned. For consistency with\n",
      "    ``ufunc.__call__``, if given as a keyword, this may be wrapped in a\n",
      "    1-element tuple.\n",
      "\n",
      "    .. versionchanged:: 1.13.0\n",
      "       Tuples are allowed for keyword argument.\n",
      "keepdims : bool, optional\n",
      "    If this is set to True, the axes which are reduced are left\n",
      "    in the result as dimensions with size one. With this option,\n",
      "    the result will broadcast correctly against the original `array`.\n",
      "\n",
      "    .. versionadded:: 1.7.0\n",
      "initial : scalar, optional\n",
      "    The value with which to start the reduction.\n",
      "    If the ufunc has no identity or the dtype is object, this defaults\n",
      "    to None - otherwise it defaults to ufunc.identity.\n",
      "    If ``None`` is given, the first element of the reduction is used,\n",
      "    and an error is thrown if the reduction is empty.\n",
      "\n",
      "    .. versionadded:: 1.15.0\n",
      "\n",
      "where : array_like of bool, optional\n",
      "    A boolean array which is broadcasted to match the dimensions\n",
      "    of `array`, and selects elements to include in the reduction. Note\n",
      "    that for ufuncs like ``minimum`` that do not have an identity\n",
      "    defined, one has to pass in also ``initial``.\n",
      "\n",
      "    .. versionadded:: 1.17.0\n",
      "\n",
      "Returns\n",
      "-------\n",
      "r : ndarray\n",
      "    The reduced array. If `out` was supplied, `r` is a reference to it.\n",
      "\n",
      "Examples\n",
      "--------\n",
      ">>> np.multiply.reduce([2,3,5])\n",
      "30\n",
      "\n",
      "A multi-dimensional array example:\n",
      "\n",
      ">>> X = np.arange(8).reshape((2,2,2))\n",
      ">>> X\n",
      "array([[[0, 1],\n",
      "        [2, 3]],\n",
      "       [[4, 5],\n",
      "        [6, 7]]])\n",
      ">>> np.add.reduce(X, 0)\n",
      "array([[ 4,  6],\n",
      "       [ 8, 10]])\n",
      ">>> np.add.reduce(X) # confirm: default axis value is 0\n",
      "array([[ 4,  6],\n",
      "       [ 8, 10]])\n",
      ">>> np.add.reduce(X, 1)\n",
      "array([[ 2,  4],\n",
      "       [10, 12]])\n",
      ">>> np.add.reduce(X, 2)\n",
      "array([[ 1,  5],\n",
      "       [ 9, 13]])\n",
      "\n",
      "You can use the ``initial`` keyword argument to initialize the reduction\n",
      "with a different value, and ``where`` to select specific elements to include:\n",
      "\n",
      ">>> np.add.reduce([10], initial=5)\n",
      "15\n",
      ">>> np.add.reduce(np.ones((2, 2, 2)), axis=(0, 2), initial=10)\n",
      "array([14., 14.])\n",
      ">>> a = np.array([10., np.nan, 10])\n",
      ">>> np.add.reduce(a, where=~np.isnan(a))\n",
      "20.0\n",
      "\n",
      "Allows reductions of empty arrays where they would normally fail, i.e.\n",
      "for ufuncs without an identity.\n",
      "\n",
      ">>> np.minimum.reduce([], initial=np.inf)\n",
      "inf\n",
      ">>> np.minimum.reduce([[1., 2.], [3., 4.]], initial=10., where=[True, False])\n",
      "array([ 1., 10.])\n",
      ">>> np.minimum.reduce([])\n",
      "Traceback (most recent call last):\n",
      "    ...\n",
      "ValueError: zero-size array to reduction operation minimum which has no identity\n"
     ]
    }
   ],
   "source": [
    "np.info(np.add.reduce)"
   ]
  },
  {
   "cell_type": "markdown",
   "id": "84cce014",
   "metadata": {},
   "source": [
    "#### 42. Consider two random array A and B, check if they are equal (★★☆)"
   ]
  },
  {
   "cell_type": "code",
   "execution_count": 47,
   "id": "7e3f9d80",
   "metadata": {},
   "outputs": [
    {
     "name": "stdout",
     "output_type": "stream",
     "text": [
      "[[3 4 4 5 5]\n",
      " [7 6 2 5 4]\n",
      " [6 6 2 6 5]\n",
      " [9 4 3 3 4]\n",
      " [7 3 2 6 9]]\n",
      "[[8 6 2 7 7]\n",
      " [5 1 4 1 8]\n",
      " [3 6 7 2 8]\n",
      " [9 5 5 5 3]\n",
      " [4 5 3 3 8]]\n",
      "A and B are not equal.\n"
     ]
    }
   ],
   "source": [
    "arrA = np.random.randint(1, 10, (5, 5))\n",
    "arrB = np.random.randint(1, 10, (5, 5))\n",
    "\n",
    "print(arrA)\n",
    "print(arrB)\n",
    "\n",
    "for i in range(0, 5):\n",
    "    for j in range(0, 5):\n",
    "        if arrA[i][j] != arrB[i][j]:\n",
    "            print(\"A and B are not equal.\")\n",
    "        break\n",
    "    break"
   ]
  },
  {
   "cell_type": "markdown",
   "id": "bac2b051",
   "metadata": {},
   "source": [
    "#### 43. Make an array immutable (read-only) (★★☆)"
   ]
  },
  {
   "cell_type": "code",
   "execution_count": 68,
   "id": "8f3b6dc8",
   "metadata": {},
   "outputs": [],
   "source": [
    "arr = np.random.randint(1, 10, (2, 2))\n",
    "arr.flags.writeable=False"
   ]
  },
  {
   "cell_type": "code",
   "execution_count": 69,
   "id": "350597c3",
   "metadata": {},
   "outputs": [
    {
     "data": {
      "text/plain": [
       "3"
      ]
     },
     "execution_count": 69,
     "metadata": {},
     "output_type": "execute_result"
    }
   ],
   "source": [
    "arr[0][0]"
   ]
  },
  {
   "cell_type": "code",
   "execution_count": 70,
   "id": "cbdc0a93",
   "metadata": {},
   "outputs": [
    {
     "ename": "ValueError",
     "evalue": "assignment destination is read-only",
     "output_type": "error",
     "traceback": [
      "\u001b[1;31m---------------------------------------------------------------------------\u001b[0m",
      "\u001b[1;31mValueError\u001b[0m                                Traceback (most recent call last)",
      "\u001b[1;32mC:\\Temp/ipykernel_9228/925320.py\u001b[0m in \u001b[0;36m<module>\u001b[1;34m\u001b[0m\n\u001b[1;32m----> 1\u001b[1;33m \u001b[0marr\u001b[0m\u001b[1;33m[\u001b[0m\u001b[1;36m0\u001b[0m\u001b[1;33m]\u001b[0m\u001b[1;33m[\u001b[0m\u001b[1;36m0\u001b[0m\u001b[1;33m]\u001b[0m \u001b[1;33m=\u001b[0m \u001b[1;36m4\u001b[0m\u001b[1;33m\u001b[0m\u001b[1;33m\u001b[0m\u001b[0m\n\u001b[0m",
      "\u001b[1;31mValueError\u001b[0m: assignment destination is read-only"
     ]
    }
   ],
   "source": [
    "arr[0][0] = 4"
   ]
  },
  {
   "cell_type": "markdown",
   "id": "1317084a",
   "metadata": {},
   "source": [
    "#### 44. Consider a random 10x2 matrix representing cartesian coordinates, convert them to polar coordinates (★★☆)"
   ]
  },
  {
   "cell_type": "code",
   "execution_count": 72,
   "id": "f955a117",
   "metadata": {},
   "outputs": [
    {
     "name": "stdout",
     "output_type": "stream",
     "text": [
      "[[1 2]\n",
      " [3 5]\n",
      " [5 9]\n",
      " [5 8]\n",
      " [8 6]\n",
      " [7 6]\n",
      " [4 1]\n",
      " [5 5]\n",
      " [6 3]\n",
      " [4 8]]\n"
     ]
    }
   ],
   "source": [
    "# sol1)\n",
    "cart = np.random.randint(1, 10, (10, 2))\n",
    "print(cart)"
   ]
  },
  {
   "cell_type": "code",
   "execution_count": 90,
   "id": "3041c7cc",
   "metadata": {},
   "outputs": [
    {
     "name": "stdout",
     "output_type": "stream",
     "text": [
      "[[ 2.23606798  1.10714872]\n",
      " [ 5.83095189  1.03037683]\n",
      " [10.29563014  1.06369782]\n",
      " [ 9.43398113  1.01219701]\n",
      " [10.          0.64350111]\n",
      " [ 9.21954446  0.70862627]\n",
      " [ 4.12310563  0.24497866]\n",
      " [ 7.07106781  0.78539816]\n",
      " [ 6.70820393  0.46364761]\n",
      " [ 8.94427191  1.10714872]]\n"
     ]
    }
   ],
   "source": [
    "pol = np.ones([10, 2])\n",
    "\n",
    "for i in range(10):\n",
    "    pol[i][0] = np.sqrt(np.add(np.square(cart[i][0]), np.square(cart[i][1])))\n",
    "    pol[i][1] = np.arctan2(cart[i][1], cart[i][0])\n",
    "    \n",
    "print(pol)"
   ]
  },
  {
   "cell_type": "code",
   "execution_count": 104,
   "id": "edc19dd6",
   "metadata": {},
   "outputs": [
    {
     "name": "stdout",
     "output_type": "stream",
     "text": [
      "[1 3 5 5 8 7 4 5 6 4] [2 5 9 8 6 6 1 5 3 8]\n",
      "[ 2.23606798  5.83095189 10.29563014  9.43398113 10.          9.21954446\n",
      "  4.12310563  7.07106781  6.70820393  8.94427191] [1.10714872 1.03037683 1.06369782 1.01219701 0.64350111 0.70862627\n",
      " 0.24497866 0.78539816 0.46364761 1.10714872]\n"
     ]
    }
   ],
   "source": [
    "# sol2)\n",
    "\n",
    "\n",
    "X, Y = cart[:, 0], cart[:, 1]\n",
    "print(X, Y)\n",
    "\n",
    "radius = np.sqrt(X**2+Y**2)\n",
    "theta = np.arctan2(Y, X)\n",
    "\n",
    "print(radius, theta)"
   ]
  },
  {
   "cell_type": "markdown",
   "id": "d2b1ca34",
   "metadata": {},
   "source": [
    "#### 45. Create random vector of size 10 and replace the maximum value by 0 (★★☆)"
   ]
  },
  {
   "cell_type": "code",
   "execution_count": 106,
   "id": "78cea0fc",
   "metadata": {},
   "outputs": [
    {
     "name": "stdout",
     "output_type": "stream",
     "text": [
      "[9 5 4 4 2 8 3 6 8 9]\n",
      "[0 5 4 4 2 8 3 6 8 0]\n"
     ]
    }
   ],
   "source": [
    "arr = np.random.randint(1, 10, 10)\n",
    "print(arr)\n",
    "arr[arr == arr.max()] = 0\n",
    "print(arr)"
   ]
  },
  {
   "cell_type": "markdown",
   "id": "f6e695ca",
   "metadata": {},
   "source": [
    "#### 46. Create a structured array with `x` and `y` coordinates covering the [0,1]x[0,1] area (★★☆)"
   ]
  },
  {
   "cell_type": "code",
   "execution_count": null,
   "id": "1c283512",
   "metadata": {},
   "outputs": [],
   "source": []
  },
  {
   "cell_type": "markdown",
   "id": "af232843",
   "metadata": {},
   "source": [
    "#### 47. Given two arrays, X and Y, construct the Cauchy matrix C (Cij =1/(xi - yj)) (★★☆)"
   ]
  },
  {
   "cell_type": "code",
   "execution_count": 133,
   "id": "d7f25951",
   "metadata": {},
   "outputs": [
    {
     "name": "stdout",
     "output_type": "stream",
     "text": [
      "dimension of the Cauchy matrix: 3\n",
      "[2 7 2]\n",
      "[5 8 3]\n",
      "[[-0.33333333 -0.16666667 -1.        ]\n",
      " [ 0.5        -1.          0.25      ]\n",
      " [-0.33333333 -0.16666667 -1.        ]]\n"
     ]
    }
   ],
   "source": [
    "n = int(input(\"dimension of the Cauchy matrix: \"))\n",
    "X, Y = np.random.randint(1, 10, n), np.random.randint(1, 10, n)\n",
    "cauchy = np.zeros([n, n])\n",
    "print(X)\n",
    "print(Y)\n",
    "\n",
    "for i in range(n):\n",
    "    for j in range(n):\n",
    "        cauchy[i][j] = 1/(X[i]-Y[j])\n",
    "\n",
    "print(cauchy)"
   ]
  },
  {
   "cell_type": "markdown",
   "id": "9c7319c8",
   "metadata": {},
   "source": [
    "#### 48. Print the minimum and maximum representable value for each numpy scalar type (★★☆)"
   ]
  },
  {
   "cell_type": "code",
   "execution_count": 127,
   "id": "5fd9619b",
   "metadata": {},
   "outputs": [
    {
     "name": "stdout",
     "output_type": "stream",
     "text": [
      "-128\n",
      "127\n",
      "-2147483648\n",
      "2147483647\n",
      "-9223372036854775808\n",
      "9223372036854775807\n",
      "-3.4028235e+38\n",
      "3.4028235e+38\n",
      "-1.7976931348623157e+308\n",
      "1.7976931348623157e+308\n"
     ]
    }
   ],
   "source": [
    "for dtype in [np.int8, np.int32, np.int64]:\n",
    "    print(np.iinfo(dtype).min)\n",
    "    print(np.iinfo(dtype).max)\n",
    "    \n",
    "for dtype in [np.float32, np.float64]:\n",
    "    print(np.finfo(dtype).min)\n",
    "    print(np.finfo(dtype).max)"
   ]
  },
  {
   "cell_type": "markdown",
   "id": "217afbec",
   "metadata": {},
   "source": [
    "#### 49. How to print all the values of an array? (★★☆)"
   ]
  },
  {
   "cell_type": "code",
   "execution_count": 126,
   "id": "a1a64dff",
   "metadata": {},
   "outputs": [
    {
     "name": "stdout",
     "output_type": "stream",
     "text": [
      "[[14 10 16  9 17]\n",
      " [ 6  4 12 19 16]\n",
      " [ 3  3 13 13  1]\n",
      " [ 6 16 14 18 15]\n",
      " [11 19 10 17 11]]\n",
      "14\n",
      "10\n",
      "16\n",
      "9\n",
      "17\n",
      "6\n",
      "4\n",
      "12\n",
      "19\n",
      "16\n",
      "3\n",
      "3\n",
      "13\n",
      "13\n",
      "1\n",
      "6\n",
      "16\n",
      "14\n",
      "18\n",
      "15\n",
      "11\n",
      "19\n",
      "10\n",
      "17\n",
      "11\n"
     ]
    }
   ],
   "source": [
    "arr = np.random.randint(1, 20, (5, 5))\n",
    "print(arr)\n",
    "for i in range(5):\n",
    "    for j in range(5):\n",
    "        print(arr[i][j])"
   ]
  },
  {
   "cell_type": "markdown",
   "id": "04c1af58",
   "metadata": {},
   "source": [
    "#### 50. How to find the closest value (to a given scalar) in a vector? (★★☆)"
   ]
  },
  {
   "cell_type": "code",
   "execution_count": 124,
   "id": "b8a77685",
   "metadata": {},
   "outputs": [
    {
     "name": "stdout",
     "output_type": "stream",
     "text": [
      "a given scalar: 4\n",
      "[28  5 49 32  4 27 23 21  9 39]\n",
      "[24.  1. 45. 28.  0. 23. 19. 17.  5. 35.]\n",
      "[4]\n"
     ]
    }
   ],
   "source": [
    "arr = np.random.randint(1, 50, 10)\n",
    "scal = int(input(\"a given scalar: \"))\n",
    "print(arr)\n",
    "\n",
    "scal = np.ones(10)*scal\n",
    "distance = np.abs(np.subtract(arr, scal))\n",
    "print(distance)\n",
    "\n",
    "idx = np.where(distance == np.min(distance))\n",
    "print(arr[idx])"
   ]
  },
  {
   "cell_type": "markdown",
   "id": "bd0f6e08",
   "metadata": {},
   "source": [
    "#### 51. Create a structured array representing a position (x,y) and a color (r,g,b) (★★☆)"
   ]
  },
  {
   "cell_type": "code",
   "execution_count": 3,
   "id": "e5c4b52c",
   "metadata": {},
   "outputs": [],
   "source": [
    "pos = np.dtype([('x', np.float32),\n",
    "                ('y', np.float32)])\n",
    "\n",
    "col = np.dtype([('r', np.ubyte),\n",
    "                ('g', np.ubyte), \n",
    "                ('b', np.ubyte)])"
   ]
  },
  {
   "cell_type": "code",
   "execution_count": 8,
   "id": "21fa87c9",
   "metadata": {},
   "outputs": [],
   "source": [
    "img = np.dtype(pos, col)"
   ]
  },
  {
   "cell_type": "code",
   "execution_count": 9,
   "id": "69c32a28",
   "metadata": {},
   "outputs": [
    {
     "data": {
      "text/plain": [
       "dtype([('x', '<f4'), ('y', '<f4')])"
      ]
     },
     "execution_count": 9,
     "metadata": {},
     "output_type": "execute_result"
    }
   ],
   "source": [
    "img"
   ]
  },
  {
   "cell_type": "markdown",
   "id": "75b02398",
   "metadata": {},
   "source": [
    "#### 52. Consider a random vector with shape (100,2) representing coordinates, find point by point distances (★★☆)"
   ]
  },
  {
   "cell_type": "code",
   "execution_count": 18,
   "id": "0e56bdcc",
   "metadata": {},
   "outputs": [
    {
     "name": "stdout",
     "output_type": "stream",
     "text": [
      "[[65  8]\n",
      " [78 46]\n",
      " [23  4]\n",
      " [94 92]\n",
      " [52 17]\n",
      " [47 52]\n",
      " [55 16]\n",
      " [44 66]\n",
      " [36 96]\n",
      " [ 5 56]]\n"
     ]
    },
    {
     "data": {
      "text/plain": [
       "40.162171256046406"
      ]
     },
     "execution_count": 18,
     "metadata": {},
     "output_type": "execute_result"
    }
   ],
   "source": [
    "def distance(i, j):\n",
    "    return np.sqrt(np.square(np.subtract(arr[i][0], arr[j][0]))+\n",
    "                   np.square(np.subtract(arr[i][1], arr[j][1])))\n",
    "\n",
    "arr = np.random.randint(0, 100, (100, 2))\n",
    "print(arr[:10, :])\n",
    "distance(0, 1)"
   ]
  },
  {
   "cell_type": "markdown",
   "id": "3f2dd279",
   "metadata": {},
   "source": [
    "#### 53. How to convert a float (32 bits) array into an integer (32 bits) in place?"
   ]
  },
  {
   "cell_type": "code",
   "execution_count": 13,
   "id": "d655cc9b",
   "metadata": {},
   "outputs": [
    {
     "name": "stdout",
     "output_type": "stream",
     "text": [
      "[1.3 1.5 2.6] float32\n",
      "[1 1 2] int32\n"
     ]
    }
   ],
   "source": [
    "arr = np.array([1.3, 1.5, 2.6], dtype = np.float32)\n",
    "print(arr, arr.dtype)\n",
    "arr = arr.astype(np.int32)\n",
    "print(arr, arr.dtype)"
   ]
  },
  {
   "cell_type": "markdown",
   "id": "b69ba0e5",
   "metadata": {},
   "source": [
    "#### 54. How to read the following file? (★★☆)\n",
    "```\n",
    "1, 2, 3, 4, 5\n",
    "6,  ,  , 7, 8\n",
    " ,  , 9,10,11\n",
    "```"
   ]
  },
  {
   "cell_type": "code",
   "execution_count": 29,
   "id": "1d64c12c",
   "metadata": {},
   "outputs": [
    {
     "name": "stdout",
     "output_type": "stream",
     "text": [
      " loadtxt(fname, dtype=<class 'float'>, comments='#', delimiter=None,\n",
      "         converters=None, skiprows=0, usecols=None, unpack=False, ndmin=0,\n",
      "         encoding='bytes', max_rows=None, *, like=None)\n",
      "\n",
      "Load data from a text file.\n",
      "\n",
      "Each row in the text file must have the same number of values.\n",
      "\n",
      "Parameters\n",
      "----------\n",
      "fname : file, str, or pathlib.Path\n",
      "    File, filename, or generator to read.  If the filename extension is\n",
      "    ``.gz`` or ``.bz2``, the file is first decompressed. Note that\n",
      "    generators should return byte strings.\n",
      "dtype : data-type, optional\n",
      "    Data-type of the resulting array; default: float.  If this is a\n",
      "    structured data-type, the resulting array will be 1-dimensional, and\n",
      "    each row will be interpreted as an element of the array.  In this\n",
      "    case, the number of columns used must match the number of fields in\n",
      "    the data-type.\n",
      "comments : str or sequence of str, optional\n",
      "    The characters or list of characters used to indicate the start of a\n",
      "    comment. None implies no comments. For backwards compatibility, byte\n",
      "    strings will be decoded as 'latin1'. The default is '#'.\n",
      "delimiter : str, optional\n",
      "    The string used to separate values. For backwards compatibility, byte\n",
      "    strings will be decoded as 'latin1'. The default is whitespace.\n",
      "converters : dict, optional\n",
      "    A dictionary mapping column number to a function that will parse the\n",
      "    column string into the desired value.  E.g., if column 0 is a date\n",
      "    string: ``converters = {0: datestr2num}``.  Converters can also be\n",
      "    used to provide a default value for missing data (but see also\n",
      "    `genfromtxt`): ``converters = {3: lambda s: float(s.strip() or 0)}``.\n",
      "    Default: None.\n",
      "skiprows : int, optional\n",
      "    Skip the first `skiprows` lines, including comments; default: 0.\n",
      "usecols : int or sequence, optional\n",
      "    Which columns to read, with 0 being the first. For example,\n",
      "    ``usecols = (1,4,5)`` will extract the 2nd, 5th and 6th columns.\n",
      "    The default, None, results in all columns being read.\n",
      "\n",
      "    .. versionchanged:: 1.11.0\n",
      "        When a single column has to be read it is possible to use\n",
      "        an integer instead of a tuple. E.g ``usecols = 3`` reads the\n",
      "        fourth column the same way as ``usecols = (3,)`` would.\n",
      "unpack : bool, optional\n",
      "    If True, the returned array is transposed, so that arguments may be\n",
      "    unpacked using ``x, y, z = loadtxt(...)``.  When used with a\n",
      "    structured data-type, arrays are returned for each field.\n",
      "    Default is False.\n",
      "ndmin : int, optional\n",
      "    The returned array will have at least `ndmin` dimensions.\n",
      "    Otherwise mono-dimensional axes will be squeezed.\n",
      "    Legal values: 0 (default), 1 or 2.\n",
      "\n",
      "    .. versionadded:: 1.6.0\n",
      "encoding : str, optional\n",
      "    Encoding used to decode the inputfile. Does not apply to input streams.\n",
      "    The special value 'bytes' enables backward compatibility workarounds\n",
      "    that ensures you receive byte arrays as results if possible and passes\n",
      "    'latin1' encoded strings to converters. Override this value to receive\n",
      "    unicode arrays and pass strings as input to converters.  If set to None\n",
      "    the system default is used. The default value is 'bytes'.\n",
      "\n",
      "    .. versionadded:: 1.14.0\n",
      "max_rows : int, optional\n",
      "    Read `max_rows` lines of content after `skiprows` lines. The default\n",
      "    is to read all the lines.\n",
      "\n",
      "    .. versionadded:: 1.16.0\n",
      "like : array_like\n",
      "    Reference object to allow the creation of arrays which are not\n",
      "    NumPy arrays. If an array-like passed in as ``like`` supports\n",
      "    the ``__array_function__`` protocol, the result will be defined\n",
      "    by it. In this case, it ensures the creation of an array object\n",
      "    compatible with that passed in via this argument.\n",
      "\n",
      "    .. note::\n",
      "        The ``like`` keyword is an experimental feature pending on\n",
      "        acceptance of :ref:`NEP 35 <NEP35>`.\n",
      "\n",
      "    .. versionadded:: 1.20.0\n",
      "\n",
      "Returns\n",
      "-------\n",
      "out : ndarray\n",
      "    Data read from the text file.\n",
      "\n",
      "See Also\n",
      "--------\n",
      "load, fromstring, fromregex\n",
      "genfromtxt : Load data with missing values handled as specified.\n",
      "scipy.io.loadmat : reads MATLAB data files\n",
      "\n",
      "Notes\n",
      "-----\n",
      "This function aims to be a fast reader for simply formatted files.  The\n",
      "`genfromtxt` function provides more sophisticated handling of, e.g.,\n",
      "lines with missing values.\n",
      "\n",
      ".. versionadded:: 1.10.0\n",
      "\n",
      "The strings produced by the Python float.hex method can be used as\n",
      "input for floats.\n",
      "\n",
      "Examples\n",
      "--------\n",
      ">>> from io import StringIO   # StringIO behaves like a file object\n",
      ">>> c = StringIO(\"0 1\\n2 3\")\n",
      ">>> np.loadtxt(c)\n",
      "array([[0., 1.],\n",
      "       [2., 3.]])\n",
      "\n",
      ">>> d = StringIO(\"M 21 72\\nF 35 58\")\n",
      ">>> np.loadtxt(d, dtype={'names': ('gender', 'age', 'weight'),\n",
      "...                      'formats': ('S1', 'i4', 'f4')})\n",
      "array([(b'M', 21, 72.), (b'F', 35, 58.)],\n",
      "      dtype=[('gender', 'S1'), ('age', '<i4'), ('weight', '<f4')])\n",
      "\n",
      ">>> c = StringIO(\"1,0,2\\n3,0,4\")\n",
      ">>> x, y = np.loadtxt(c, delimiter=',', usecols=(0, 2), unpack=True)\n",
      ">>> x\n",
      "array([1., 3.])\n",
      ">>> y\n",
      "array([2., 4.])\n",
      "\n",
      "This example shows how `converters` can be used to convert a field\n",
      "with a trailing minus sign into a negative number.\n",
      "\n",
      ">>> s = StringIO('10.01 31.25-\\n19.22 64.31\\n17.57- 63.94')\n",
      ">>> def conv(fld):\n",
      "...     return -float(fld[:-1]) if fld.endswith(b'-') else float(fld)\n",
      "...\n",
      ">>> np.loadtxt(s, converters={0: conv, 1: conv})\n",
      "array([[ 10.01, -31.25],\n",
      "       [ 19.22,  64.31],\n",
      "       [-17.57,  63.94]])\n"
     ]
    }
   ],
   "source": [
    "np.info(np.loadtxt)"
   ]
  },
  {
   "cell_type": "markdown",
   "id": "73774fda",
   "metadata": {},
   "source": [
    "#### 55. What is the equivalent of enumerate for numpy arrays? (★★☆)"
   ]
  },
  {
   "cell_type": "code",
   "execution_count": 27,
   "id": "69fd13a6",
   "metadata": {},
   "outputs": [
    {
     "name": "stdout",
     "output_type": "stream",
     "text": [
      "[[0 1 2]\n",
      " [3 4 5]\n",
      " [6 7 8]]\n",
      "(0, 0) 0\n",
      "(0, 1) 1\n",
      "(0, 2) 2\n",
      "(1, 0) 3\n",
      "(1, 1) 4\n",
      "(1, 2) 5\n",
      "(2, 0) 6\n",
      "(2, 1) 7\n",
      "(2, 2) 8\n"
     ]
    }
   ],
   "source": [
    "arr = np.arange(0, 9).reshape(3 , -1)\n",
    "print(arr)\n",
    "#sol1)\n",
    "for idx, value in np.ndenumerate(arr):\n",
    "    print(idx, value)"
   ]
  },
  {
   "cell_type": "code",
   "execution_count": 28,
   "id": "326ac290",
   "metadata": {},
   "outputs": [
    {
     "name": "stdout",
     "output_type": "stream",
     "text": [
      "(0, 0) 0\n",
      "(0, 1) 1\n",
      "(0, 2) 2\n",
      "(1, 0) 3\n",
      "(1, 1) 4\n",
      "(1, 2) 5\n",
      "(2, 0) 6\n",
      "(2, 1) 7\n",
      "(2, 2) 8\n"
     ]
    }
   ],
   "source": [
    "#sol2)\n",
    "for idx in np.ndindex(arr.shape):\n",
    "    print(idx, arr[idx])"
   ]
  },
  {
   "cell_type": "markdown",
   "id": "5a9e534d",
   "metadata": {},
   "source": [
    "#### 56. Generate a generic 2D Gaussian-like array (★★☆)\n"
   ]
  },
  {
   "cell_type": "code",
   "execution_count": 30,
   "id": "7cc749d1",
   "metadata": {},
   "outputs": [],
   "source": [
    "import matplotlib.pyplot as plt"
   ]
  },
  {
   "cell_type": "code",
   "execution_count": 31,
   "id": "524001e2",
   "metadata": {},
   "outputs": [
    {
     "data": {
      "image/png": "[encoded data removed]",
      "text/plain": [
       "<Figure size 432x288 with 1 Axes>"
      ]
     },
     "metadata": {
      "needs_background": "light"
     },
     "output_type": "display_data"
    }
   ],
   "source": [
    "arr = np.random.randn(100000)\n",
    "plt.hist(arr, bins = 500)\n",
    "plt.show()"
   ]
  },
  {
   "cell_type": "code",
   "execution_count": 32,
   "id": "e49d4e4b",
   "metadata": {},
   "outputs": [
    {
     "name": "stdout",
     "output_type": "stream",
     "text": [
      "[[       nan        nan        nan        nan        nan        nan\n",
      "         nan        nan        nan 1.        ]\n",
      " [       nan        nan        nan        nan        nan        nan\n",
      "         nan        nan        nan        nan]\n",
      " [       nan        nan        nan        nan        nan        nan\n",
      "         nan        nan        nan        nan]\n",
      " [       nan        nan        nan        nan        nan        nan\n",
      "         nan        nan        nan        nan]\n",
      " [       nan        nan        nan        nan        nan        nan\n",
      "         nan        nan        nan        nan]\n",
      " [       nan        nan        nan        nan        nan 0.45685874\n",
      "  0.47789169 0.47123643 0.4480207  0.40996212]\n",
      " [       nan        nan        nan        nan        nan 0.47789169\n",
      "  0.49989296 0.4929313  0.46864676 0.42883603]\n",
      " [       nan        nan        nan        nan        nan 0.47123643\n",
      "  0.4929313  0.48606659 0.46212024 0.42286393]\n",
      " [       nan        nan        nan        nan        nan 0.4480207\n",
      "  0.46864676 0.46212024 0.43935362 0.4020313 ]\n",
      " [1.                nan        nan        nan        nan 0.40996212\n",
      "  0.42883603 0.42286393 0.4020313  0.36787944]]\n"
     ]
    },
    {
     "name": "stderr",
     "output_type": "stream",
     "text": [
      "C:\\Temp/ipykernel_26888/2442075307.py:3: RuntimeWarning: invalid value encountered in power\n",
      "  D = np.sqrt(X**X+Y**Y)\n",
      "C:\\Temp/ipykernel_26888/2442075307.py:3: RuntimeWarning: invalid value encountered in sqrt\n",
      "  D = np.sqrt(X**X+Y**Y)\n"
     ]
    }
   ],
   "source": [
    "X, Y = np.meshgrid(np.linspace(-1, 1, 10), \n",
    "                   np.linspace(-1, 1, 10))\n",
    "D = np.sqrt(X**X+Y**Y)\n",
    "sigma, mu = 1.0, 0.0\n",
    "gaussian = np.exp(-((D-mu)**2/(2.0*sigma**2)))\n",
    "print(gaussian)"
   ]
  },
  {
   "cell_type": "markdown",
   "id": "accd89c3",
   "metadata": {},
   "source": [
    "#### 57. How to randomly place p elements in a 2D array? (★★☆)"
   ]
  },
  {
   "cell_type": "code",
   "execution_count": 47,
   "id": "8f1604d7",
   "metadata": {},
   "outputs": [
    {
     "name": "stdout",
     "output_type": "stream",
     "text": [
      "p : 3\n",
      "[[1. 1. 1. 1. 1.]\n",
      " [1. 1. 1. 1. 1.]\n",
      " [1. 1. 1. 3. 1.]\n",
      " [1. 1. 1. 1. 1.]\n",
      " [1. 1. 1. 1. 1.]]\n"
     ]
    }
   ],
   "source": [
    "arr = np.ones([5, 5])\n",
    "p = int(input(\"p : \"))\n",
    "np.put(arr,np.random.choice(range(25)), p)\n",
    "print(arr)"
   ]
  },
  {
   "cell_type": "markdown",
   "id": "063cb66a",
   "metadata": {},
   "source": [
    "#### 58. Subtract the mean of each row of a matrix (★★☆)"
   ]
  },
  {
   "cell_type": "code",
   "execution_count": 20,
   "id": "e42572f8",
   "metadata": {
    "scrolled": true
   },
   "outputs": [
    {
     "name": "stdout",
     "output_type": "stream",
     "text": [
      "[[2 1 2]\n",
      " [2 2 1]\n",
      " [4 2 1]]\n",
      "[1.66666667 1.66666667 2.33333333]\n"
     ]
    }
   ],
   "source": [
    "arr = np.random.randint(1, 5, [3, 3])\n",
    "print(arr)\n",
    "print(arr.mean(axis=1))"
   ]
  },
  {
   "cell_type": "markdown",
   "id": "238710a7",
   "metadata": {},
   "source": [
    "#### 59. How to sort an array by the nth column? (★★☆)"
   ]
  },
  {
   "cell_type": "code",
   "execution_count": 10,
   "id": "b82a771e",
   "metadata": {},
   "outputs": [
    {
     "name": "stdout",
     "output_type": "stream",
     "text": [
      "[[ 4  2 -1 -5 -2]\n",
      " [-5  3  4  3  2]\n",
      " [-5  3 -5 -3  4]\n",
      " [ 0  0 -5  2 -3]\n",
      " [ 2 -2 -4  3 -1]]\n",
      "[-1  4 -5 -5 -4]\n",
      "[-5 -5 -4 -1  4]\n"
     ]
    }
   ],
   "source": [
    "n = 3\n",
    "arr = np.random.randint(-5, 5, (5,5))\n",
    "print(arr)\n",
    "print(arr[:, n-1])\n",
    "\n",
    "print(arr[arr[:, n-1].argsort(), n-1])"
   ]
  },
  {
   "cell_type": "markdown",
   "id": "f1331d32",
   "metadata": {},
   "source": [
    "#### 60. How to tell if a given 2D array has null columns? (★★☆)"
   ]
  },
  {
   "cell_type": "code",
   "execution_count": 47,
   "id": "a88e25e6",
   "metadata": {},
   "outputs": [],
   "source": [
    "arr = np.random.randint(0, 5, (5, 5))\n",
    "\n",
    "for i in range(5):\n",
    "    for idx, val in np.ndenumerate(arr[:, i]):\n",
    "        column = []\n",
    "        if np.isnan(val) == False:\n",
    "            column.append(val)\n",
    "        if len(column) == 5:\n",
    "            print(\"The Array has a null column.\")\n",
    "\n"
   ]
  },
  {
   "cell_type": "markdown",
   "id": "4180a57e",
   "metadata": {},
   "source": [
    "#### 61. Find the nearest value from a given value in an array (★★☆)\n"
   ]
  },
  {
   "cell_type": "code",
   "execution_count": 38,
   "id": "182b73a2",
   "metadata": {},
   "outputs": [
    {
     "name": "stdout",
     "output_type": "stream",
     "text": [
      "[[ 2  3]\n",
      " [-4 -2]]\n",
      "{(0, 0): 1.3, (0, 1): 2.3, (1, 0): 4.7, (1, 1): 2.7}\n",
      "[((0, 0), 1.3), ((0, 1), 2.3), ((1, 1), 2.7), ((1, 0), 4.7)]\n",
      "2\n"
     ]
    },
    {
     "name": "stderr",
     "output_type": "stream",
     "text": [
      "C:\\Temp/ipykernel_22028/1420240059.py:12: VisibleDeprecationWarning: Creating an ndarray from ragged nested sequences (which is a list-or-tuple of lists-or-tuples-or ndarrays with different lengths or shapes) is deprecated. If you meant to do this, you must specify 'dtype=object' when creating the ndarray.\n",
      "  dis = np.array(sorted_dis)\n"
     ]
    }
   ],
   "source": [
    "n = 0.7\n",
    "distance = {}\n",
    "arr = np.random.randint(-5, 5, (2, 2))\n",
    "print(arr)\n",
    "for idx, val in np.ndenumerate(arr):\n",
    "    distance[idx] = np.abs(val-n)\n",
    "print(distance)\n",
    "sorted_dis = sorted(distance.items(), key = lambda item: item[1])\n",
    "print(sorted_dis)\n",
    "idx = sorted_dis[1]\n",
    "\n",
    "dis = np.array(sorted_dis)\n",
    "idx = dis[0, 0]\n",
    "\n",
    "print(arr[idx])"
   ]
  },
  {
   "cell_type": "markdown",
   "id": "45928eeb",
   "metadata": {},
   "source": [
    "#### 62. Considering two arrays with shape (1,3) and (3,1), how to compute their sum using an iterator? (★★☆)"
   ]
  },
  {
   "cell_type": "code",
   "execution_count": null,
   "id": "3f30c096",
   "metadata": {},
   "outputs": [],
   "source": [
    "A = np.random.randint(1, 5, (1, 3))\n",
    "B = np.random.randint(1, 5, (3, 1))\n",
    "\n"
   ]
  },
  {
   "cell_type": "code",
   "execution_count": 48,
   "id": "10043f11",
   "metadata": {},
   "outputs": [
    {
     "name": "stdout",
     "output_type": "stream",
     "text": [
      " nditer()\n",
      "\n",
      "nditer(op, flags=None, op_flags=None, op_dtypes=None, order='K', casting='safe', op_axes=None, itershape=None, buffersize=0)\n",
      "\n",
      "Efficient multi-dimensional iterator object to iterate over arrays.\n",
      "To get started using this object, see the\n",
      ":ref:`introductory guide to array iteration <arrays.nditer>`.\n",
      "\n",
      "Parameters\n",
      "----------\n",
      "op : ndarray or sequence of array_like\n",
      "    The array(s) to iterate over.\n",
      "\n",
      "flags : sequence of str, optional\n",
      "      Flags to control the behavior of the iterator.\n",
      "\n",
      "      * ``buffered`` enables buffering when required.\n",
      "      * ``c_index`` causes a C-order index to be tracked.\n",
      "      * ``f_index`` causes a Fortran-order index to be tracked.\n",
      "      * ``multi_index`` causes a multi-index, or a tuple of indices\n",
      "        with one per iteration dimension, to be tracked.\n",
      "      * ``common_dtype`` causes all the operands to be converted to\n",
      "        a common data type, with copying or buffering as necessary.\n",
      "      * ``copy_if_overlap`` causes the iterator to determine if read\n",
      "        operands have overlap with write operands, and make temporary\n",
      "        copies as necessary to avoid overlap. False positives (needless\n",
      "        copying) are possible in some cases.\n",
      "      * ``delay_bufalloc`` delays allocation of the buffers until\n",
      "        a reset() call is made. Allows ``allocate`` operands to\n",
      "        be initialized before their values are copied into the buffers.\n",
      "      * ``external_loop`` causes the ``values`` given to be\n",
      "        one-dimensional arrays with multiple values instead of\n",
      "        zero-dimensional arrays.\n",
      "      * ``grow_inner`` allows the ``value`` array sizes to be made\n",
      "        larger than the buffer size when both ``buffered`` and\n",
      "        ``external_loop`` is used.\n",
      "      * ``ranged`` allows the iterator to be restricted to a sub-range\n",
      "        of the iterindex values.\n",
      "      * ``refs_ok`` enables iteration of reference types, such as\n",
      "        object arrays.\n",
      "      * ``reduce_ok`` enables iteration of ``readwrite`` operands\n",
      "        which are broadcasted, also known as reduction operands.\n",
      "      * ``zerosize_ok`` allows `itersize` to be zero.\n",
      "op_flags : list of list of str, optional\n",
      "      This is a list of flags for each operand. At minimum, one of\n",
      "      ``readonly``, ``readwrite``, or ``writeonly`` must be specified.\n",
      "\n",
      "      * ``readonly`` indicates the operand will only be read from.\n",
      "      * ``readwrite`` indicates the operand will be read from and written to.\n",
      "      * ``writeonly`` indicates the operand will only be written to.\n",
      "      * ``no_broadcast`` prevents the operand from being broadcasted.\n",
      "      * ``contig`` forces the operand data to be contiguous.\n",
      "      * ``aligned`` forces the operand data to be aligned.\n",
      "      * ``nbo`` forces the operand data to be in native byte order.\n",
      "      * ``copy`` allows a temporary read-only copy if required.\n",
      "      * ``updateifcopy`` allows a temporary read-write copy if required.\n",
      "      * ``allocate`` causes the array to be allocated if it is None\n",
      "        in the ``op`` parameter.\n",
      "      * ``no_subtype`` prevents an ``allocate`` operand from using a subtype.\n",
      "      * ``arraymask`` indicates that this operand is the mask to use\n",
      "        for selecting elements when writing to operands with the\n",
      "        'writemasked' flag set. The iterator does not enforce this,\n",
      "        but when writing from a buffer back to the array, it only\n",
      "        copies those elements indicated by this mask.\n",
      "      * ``writemasked`` indicates that only elements where the chosen\n",
      "        ``arraymask`` operand is True will be written to.\n",
      "      * ``overlap_assume_elementwise`` can be used to mark operands that are\n",
      "        accessed only in the iterator order, to allow less conservative\n",
      "        copying when ``copy_if_overlap`` is present.\n",
      "op_dtypes : dtype or tuple of dtype(s), optional\n",
      "    The required data type(s) of the operands. If copying or buffering\n",
      "    is enabled, the data will be converted to/from their original types.\n",
      "order : {'C', 'F', 'A', 'K'}, optional\n",
      "    Controls the iteration order. 'C' means C order, 'F' means\n",
      "    Fortran order, 'A' means 'F' order if all the arrays are Fortran\n",
      "    contiguous, 'C' order otherwise, and 'K' means as close to the\n",
      "    order the array elements appear in memory as possible. This also\n",
      "    affects the element memory order of ``allocate`` operands, as they\n",
      "    are allocated to be compatible with iteration order.\n",
      "    Default is 'K'.\n",
      "casting : {'no', 'equiv', 'safe', 'same_kind', 'unsafe'}, optional\n",
      "    Controls what kind of data casting may occur when making a copy\n",
      "    or buffering.  Setting this to 'unsafe' is not recommended,\n",
      "    as it can adversely affect accumulations.\n",
      "\n",
      "    * 'no' means the data types should not be cast at all.\n",
      "    * 'equiv' means only byte-order changes are allowed.\n",
      "    * 'safe' means only casts which can preserve values are allowed.\n",
      "    * 'same_kind' means only safe casts or casts within a kind,\n",
      "      like float64 to float32, are allowed.\n",
      "    * 'unsafe' means any data conversions may be done.\n",
      "op_axes : list of list of ints, optional\n",
      "    If provided, is a list of ints or None for each operands.\n",
      "    The list of axes for an operand is a mapping from the dimensions\n",
      "    of the iterator to the dimensions of the operand. A value of\n",
      "    -1 can be placed for entries, causing that dimension to be\n",
      "    treated as `newaxis`.\n",
      "itershape : tuple of ints, optional\n",
      "    The desired shape of the iterator. This allows ``allocate`` operands\n",
      "    with a dimension mapped by op_axes not corresponding to a dimension\n",
      "    of a different operand to get a value not equal to 1 for that\n",
      "    dimension.\n",
      "buffersize : int, optional\n",
      "    When buffering is enabled, controls the size of the temporary\n",
      "    buffers. Set to 0 for the default value.\n",
      "\n",
      "Attributes\n",
      "----------\n",
      "dtypes : tuple of dtype(s)\n",
      "    The data types of the values provided in `value`. This may be\n",
      "    different from the operand data types if buffering is enabled.\n",
      "    Valid only before the iterator is closed.\n",
      "finished : bool\n",
      "    Whether the iteration over the operands is finished or not.\n",
      "has_delayed_bufalloc : bool\n",
      "    If True, the iterator was created with the ``delay_bufalloc`` flag,\n",
      "    and no reset() function was called on it yet.\n",
      "has_index : bool\n",
      "    If True, the iterator was created with either the ``c_index`` or\n",
      "    the ``f_index`` flag, and the property `index` can be used to\n",
      "    retrieve it.\n",
      "has_multi_index : bool\n",
      "    If True, the iterator was created with the ``multi_index`` flag,\n",
      "    and the property `multi_index` can be used to retrieve it.\n",
      "index\n",
      "    When the ``c_index`` or ``f_index`` flag was used, this property\n",
      "    provides access to the index. Raises a ValueError if accessed\n",
      "    and ``has_index`` is False.\n",
      "iterationneedsapi : bool\n",
      "    Whether iteration requires access to the Python API, for example\n",
      "    if one of the operands is an object array.\n",
      "iterindex : int\n",
      "    An index which matches the order of iteration.\n",
      "itersize : int\n",
      "    Size of the iterator.\n",
      "itviews\n",
      "    Structured view(s) of `operands` in memory, matching the reordered\n",
      "    and optimized iterator access pattern. Valid only before the iterator\n",
      "    is closed.\n",
      "multi_index\n",
      "    When the ``multi_index`` flag was used, this property\n",
      "    provides access to the index. Raises a ValueError if accessed\n",
      "    accessed and ``has_multi_index`` is False.\n",
      "ndim : int\n",
      "    The dimensions of the iterator.\n",
      "nop : int\n",
      "    The number of iterator operands.\n",
      "operands : tuple of operand(s)\n",
      "    The array(s) to be iterated over. Valid only before the iterator is\n",
      "    closed.\n",
      "shape : tuple of ints\n",
      "    Shape tuple, the shape of the iterator.\n",
      "value\n",
      "    Value of ``operands`` at current iteration. Normally, this is a\n",
      "    tuple of array scalars, but if the flag ``external_loop`` is used,\n",
      "    it is a tuple of one dimensional arrays.\n",
      "\n",
      "Notes\n",
      "-----\n",
      "`nditer` supersedes `flatiter`.  The iterator implementation behind\n",
      "`nditer` is also exposed by the NumPy C API.\n",
      "\n",
      "The Python exposure supplies two iteration interfaces, one which follows\n",
      "the Python iterator protocol, and another which mirrors the C-style\n",
      "do-while pattern.  The native Python approach is better in most cases, but\n",
      "if you need the coordinates or index of an iterator, use the C-style pattern.\n",
      "\n",
      "Examples\n",
      "--------\n",
      "Here is how we might write an ``iter_add`` function, using the\n",
      "Python iterator protocol:\n",
      "\n",
      ">>> def iter_add_py(x, y, out=None):\n",
      "...     addop = np.add\n",
      "...     it = np.nditer([x, y, out], [],\n",
      "...                 [['readonly'], ['readonly'], ['writeonly','allocate']])\n",
      "...     with it:\n",
      "...         for (a, b, c) in it:\n",
      "...             addop(a, b, out=c)\n",
      "...     return it.operands[2]\n",
      "\n",
      "Here is the same function, but following the C-style pattern:\n",
      "\n",
      ">>> def iter_add(x, y, out=None):\n",
      "...    addop = np.add\n",
      "...    it = np.nditer([x, y, out], [],\n",
      "...                [['readonly'], ['readonly'], ['writeonly','allocate']])\n",
      "...    with it:\n",
      "...        while not it.finished:\n",
      "...            addop(it[0], it[1], out=it[2])\n",
      "...            it.iternext()\n",
      "...        return it.operands[2]\n",
      "\n",
      "Here is an example outer product function:\n",
      "\n",
      ">>> def outer_it(x, y, out=None):\n",
      "...     mulop = np.multiply\n",
      "...     it = np.nditer([x, y, out], ['external_loop'],\n",
      "...             [['readonly'], ['readonly'], ['writeonly', 'allocate']],\n",
      "...             op_axes=[list(range(x.ndim)) + [-1] * y.ndim,\n",
      "...                      [-1] * x.ndim + list(range(y.ndim)),\n",
      "...                      None])\n",
      "...     with it:\n",
      "...         for (a, b, c) in it:\n",
      "...             mulop(a, b, out=c)\n",
      "...         return it.operands[2]\n",
      "\n",
      ">>> a = np.arange(2)+1\n",
      ">>> b = np.arange(3)+1\n",
      ">>> outer_it(a,b)\n",
      "array([[1, 2, 3],\n",
      "       [2, 4, 6]])\n",
      "\n",
      "Here is an example function which operates like a \"lambda\" ufunc:\n",
      "\n",
      ">>> def luf(lamdaexpr, *args, **kwargs):\n",
      "...    '''luf(lambdaexpr, op1, ..., opn, out=None, order='K', casting='safe', buffersize=0)'''\n",
      "...    nargs = len(args)\n",
      "...    op = (kwargs.get('out',None),) + args\n",
      "...    it = np.nditer(op, ['buffered','external_loop'],\n",
      "...            [['writeonly','allocate','no_broadcast']] +\n",
      "...                            [['readonly','nbo','aligned']]*nargs,\n",
      "...            order=kwargs.get('order','K'),\n",
      "...            casting=kwargs.get('casting','safe'),\n",
      "...            buffersize=kwargs.get('buffersize',0))\n",
      "...    while not it.finished:\n",
      "...        it[0] = lamdaexpr(*it[1:])\n",
      "...        it.iternext()\n",
      "...        return it.operands[0]\n",
      "\n",
      ">>> a = np.arange(5)\n",
      ">>> b = np.ones(5)\n",
      ">>> luf(lambda i,j:i*i + j/2, a, b)\n",
      "array([  0.5,   1.5,   4.5,   9.5,  16.5])\n",
      "\n",
      "If operand flags `\"writeonly\"` or `\"readwrite\"` are used the\n",
      "operands may be views into the original data with the\n",
      "`WRITEBACKIFCOPY` flag. In this case `nditer` must be used as a\n",
      "context manager or the `nditer.close` method must be called before\n",
      "using the result. The temporary data will be written back to the\n",
      "original data when the `__exit__` function is called but not before:\n",
      "\n",
      ">>> a = np.arange(6, dtype='i4')[::-2]\n",
      ">>> with np.nditer(a, [],\n",
      "...        [['writeonly', 'updateifcopy']],\n",
      "...        casting='unsafe',\n",
      "...        op_dtypes=[np.dtype('f4')]) as i:\n",
      "...    x = i.operands[0]\n",
      "...    x[:] = [-1, -2, -3]\n",
      "...    # a still unchanged here\n",
      ">>> a, x\n",
      "(array([-1, -2, -3], dtype=int32), array([-1., -2., -3.], dtype=float32))\n",
      "\n",
      "It is important to note that once the iterator is exited, dangling\n",
      "references (like `x` in the example) may or may not share data with\n",
      "the original data `a`. If writeback semantics were active, i.e. if\n",
      "`x.base.flags.writebackifcopy` is `True`, then exiting the iterator\n",
      "will sever the connection between `x` and `a`, writing to `x` will\n",
      "no longer write to `a`. If writeback semantics are not active, then\n",
      "`x.data` will still point at some part of `a.data`, and writing to\n",
      "one will affect the other.\n",
      "\n",
      "Context management and the `close` method appeared in version 1.15.0.\n",
      "\n",
      "\n",
      "Methods:\n",
      "\n",
      "  close  --  close()\n",
      "  copy  --  copy()\n",
      "  debug_print  --  debug_print()\n",
      "  enable_external_loop  --  enable_external_loop()\n",
      "  iternext  --  iternext()\n",
      "  remove_axis  --  remove_axis(i)\n",
      "  remove_multi_index  --  remove_multi_index()\n",
      "  reset  --  reset()\n"
     ]
    }
   ],
   "source": [
    "np.info(np.nditer)"
   ]
  },
  {
   "cell_type": "markdown",
   "id": "1dc6e7da",
   "metadata": {},
   "source": [
    "#### 63. Create an array class that has a name attribute (★★☆)\n"
   ]
  },
  {
   "cell_type": "code",
   "execution_count": 49,
   "id": "718d2b6c",
   "metadata": {},
   "outputs": [],
   "source": [
    "class namedarray:\n",
    "    def __init__(self):\n",
    "        self.array = np.random.randint(0, 5, (3, 3))\n",
    "        self.name = input(\"Name of the Array: \")"
   ]
  },
  {
   "cell_type": "code",
   "execution_count": 50,
   "id": "379fc5e7",
   "metadata": {},
   "outputs": [
    {
     "name": "stdout",
     "output_type": "stream",
     "text": [
      "Name of the Array: A\n"
     ]
    }
   ],
   "source": [
    "arr = namedarray()"
   ]
  },
  {
   "cell_type": "code",
   "execution_count": 51,
   "id": "2a81a8db",
   "metadata": {},
   "outputs": [
    {
     "data": {
      "text/plain": [
       "(array([[1, 3, 2],\n",
       "        [2, 3, 4],\n",
       "        [3, 2, 2]]),\n",
       " 'A')"
      ]
     },
     "execution_count": 51,
     "metadata": {},
     "output_type": "execute_result"
    }
   ],
   "source": [
    "arr.array, arr.name"
   ]
  }
 ],
 "metadata": {
  "kernelspec": {
   "display_name": "Python 3 (ipykernel)",
   "language": "python",
   "name": "python3"
  },
  "language_info": {
   "codemirror_mode": {
    "name": "ipython",
    "version": 3
   },
   "file_extension": ".py",
   "mimetype": "text/x-python",
   "name": "python",
   "nbconvert_exporter": "python",
   "pygments_lexer": "ipython3",
   "version": "3.9.7"
  }
 },
 "nbformat": 4,
 "nbformat_minor": 5
}
