{
 "cells": [
  {
   "cell_type": "markdown",
   "id": "295e8d37",
   "metadata": {},
   "source": [
    "class name:\n",
    "    def __init__(self): # class를 선언하는 순간 실행되는 함수, class에서 반드시 필요한 내용 들어감."
   ]
  },
  {
   "cell_type": "code",
   "execution_count": 1,
   "id": "762d6dac",
   "metadata": {},
   "outputs": [],
   "source": [
    "class JSS:\n",
    "    def __init__(self):\n",
    "        print(\"JSS class 선언\")"
   ]
  },
  {
   "cell_type": "code",
   "execution_count": 2,
   "id": "de5c4545",
   "metadata": {},
   "outputs": [
    {
     "name": "stdout",
     "output_type": "stream",
     "text": [
      "JSS class 선언\n"
     ]
    }
   ],
   "source": [
    "a = JSS()"
   ]
  },
  {
   "cell_type": "code",
   "execution_count": 3,
   "id": "fea8977a",
   "metadata": {},
   "outputs": [],
   "source": [
    "class JSS:\n",
    "    def __init__(self):\n",
    "        print(\"JSS class 선언\")\n",
    "    def show(self):\n",
    "        print(\"show 실행\")"
   ]
  },
  {
   "cell_type": "code",
   "execution_count": 4,
   "id": "db6e72af",
   "metadata": {},
   "outputs": [
    {
     "name": "stdout",
     "output_type": "stream",
     "text": [
      "JSS class 선언\n"
     ]
    }
   ],
   "source": [
    "a = JSS()    #__init__() function만 실행됨."
   ]
  },
  {
   "cell_type": "code",
   "execution_count": 5,
   "id": "923b7d2b",
   "metadata": {},
   "outputs": [
    {
     "name": "stdout",
     "output_type": "stream",
     "text": [
      "show 실행\n"
     ]
    }
   ],
   "source": [
    "a.show()    #__init__()외의 functions은 method로 접근하여 실행할 수 있음."
   ]
  },
  {
   "cell_type": "markdown",
   "id": "52b54a88",
   "metadata": {},
   "source": [
    "**self란?** class를 저장할 변수,  def show(self) -> a.show()"
   ]
  },
  {
   "cell_type": "code",
   "execution_count": 6,
   "id": "44c82ef2",
   "metadata": {},
   "outputs": [],
   "source": [
    "class JSS:\n",
    "    def __init__(self):\n",
    "        self.name = input(\"name: \")\n",
    "        self.age = input(\"age: \")"
   ]
  },
  {
   "cell_type": "code",
   "execution_count": 7,
   "id": "cd9fdad2",
   "metadata": {},
   "outputs": [
    {
     "name": "stdout",
     "output_type": "stream",
     "text": [
      "name: Seoyeon\n",
      "age: 25\n"
     ]
    }
   ],
   "source": [
    "a = JSS()"
   ]
  },
  {
   "cell_type": "code",
   "execution_count": 8,
   "id": "7dce86f2",
   "metadata": {},
   "outputs": [
    {
     "data": {
      "text/plain": [
       "('Seoyeon', '25')"
      ]
     },
     "execution_count": 8,
     "metadata": {},
     "output_type": "execute_result"
    }
   ],
   "source": [
    "a.name, a.age"
   ]
  },
  {
   "cell_type": "code",
   "execution_count": 9,
   "id": "d4d9fa08",
   "metadata": {},
   "outputs": [],
   "source": [
    "class JSS:\n",
    "    def __init__(self):\n",
    "        self.name = input(\"name: \")\n",
    "        self.age = input(\"age: \")\n",
    "    def show(self):\n",
    "        print(\"My name is {}, and I'm {}.\" .format(self.name, self.age))"
   ]
  },
  {
   "cell_type": "code",
   "execution_count": 10,
   "id": "e13cbade",
   "metadata": {},
   "outputs": [
    {
     "name": "stdout",
     "output_type": "stream",
     "text": [
      "name: Seoyeon\n",
      "age: 25\n"
     ]
    }
   ],
   "source": [
    "a = JSS()"
   ]
  },
  {
   "cell_type": "code",
   "execution_count": 11,
   "id": "a10753f2",
   "metadata": {},
   "outputs": [
    {
     "name": "stdout",
     "output_type": "stream",
     "text": [
      "My name is Seoyeon, and I'm 25.\n"
     ]
    }
   ],
   "source": [
    "a.show()"
   ]
  },
  {
   "cell_type": "markdown",
   "id": "e4e3a5a6",
   "metadata": {},
   "source": [
    "class 상속"
   ]
  },
  {
   "cell_type": "code",
   "execution_count": 12,
   "id": "9d4eff41",
   "metadata": {},
   "outputs": [],
   "source": [
    "class JSS2(JSS):\n",
    "    pass        # 그대로 똑같이 상속"
   ]
  },
  {
   "cell_type": "code",
   "execution_count": 13,
   "id": "d060d0b6",
   "metadata": {},
   "outputs": [
    {
     "name": "stdout",
     "output_type": "stream",
     "text": [
      "name: Seoyeon\n",
      "age: 25\n"
     ]
    }
   ],
   "source": [
    "b = JSS2()"
   ]
  },
  {
   "cell_type": "code",
   "execution_count": 14,
   "id": "a360a732",
   "metadata": {},
   "outputs": [
    {
     "name": "stdout",
     "output_type": "stream",
     "text": [
      "My name is Seoyeon, and I'm 25.\n"
     ]
    }
   ],
   "source": [
    "b.show()"
   ]
  },
  {
   "cell_type": "code",
   "execution_count": 15,
   "id": "a94a583e",
   "metadata": {},
   "outputs": [],
   "source": [
    "class JSS3(JSS):\n",
    "    def __init__(self):\n",
    "        super().__init__()      # 기존 그대로 복사하고자 할 때  (super => 기존 class)\n",
    "        self.gender = input(\"gender: \")\n",
    "    def show(self):\n",
    "        print(\"My name is {}, I'm {} and {}.\" .format(self.name, self.age, self.gender))"
   ]
  },
  {
   "cell_type": "code",
   "execution_count": 16,
   "id": "9905a100",
   "metadata": {},
   "outputs": [
    {
     "name": "stdout",
     "output_type": "stream",
     "text": [
      "name: Seoyeon\n",
      "age: 25\n",
      "gender: woman\n"
     ]
    }
   ],
   "source": [
    "c = JSS3()"
   ]
  },
  {
   "cell_type": "code",
   "execution_count": 17,
   "id": "02b2e935",
   "metadata": {},
   "outputs": [
    {
     "name": "stdout",
     "output_type": "stream",
     "text": [
      "My name is Seoyeon, I'm 25 and woman.\n"
     ]
    }
   ],
   "source": [
    "c.show()"
   ]
  }
 ],
 "metadata": {
  "kernelspec": {
   "display_name": "Python 3 (ipykernel)",
   "language": "python",
   "name": "python3"
  },
  "language_info": {
   "codemirror_mode": {
    "name": "ipython",
    "version": 3
   },
   "file_extension": ".py",
   "mimetype": "text/x-python",
   "name": "python",
   "nbconvert_exporter": "python",
   "pygments_lexer": "ipython3",
   "version": "3.9.7"
  }
 },
 "nbformat": 4,
 "nbformat_minor": 5
}
