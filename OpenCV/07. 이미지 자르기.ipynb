{
 "cells": [
  {
   "cell_type": "markdown",
   "id": "57437c03",
   "metadata": {},
   "source": [
    "## 7. 이미지 자르기\n",
    "#### 영역을 잘라서 새로운 윈도우 창에 표시"
   ]
  },
  {
   "cell_type": "code",
   "execution_count": 1,
   "id": "e46827f8",
   "metadata": {},
   "outputs": [],
   "source": [
    "import cv2\n",
    "img = cv2.imread('img.jpg')\n",
    "\n",
    "crop = img[100:200, 200:400]  # 세로 범위 (100 : 200) 가로 범위 (200 : 400) 자름\n",
    "\n",
    "cv2.imshow('img', img) # 원본 img\n",
    "cv2.imshow('crop', crop) # 잘린 img\n",
    "cv2.waitKey(0)\n",
    "cv2.destroyAllWindows()"
   ]
  },
  {
   "cell_type": "markdown",
   "id": "c98a8c85",
   "metadata": {},
   "source": [
    "#### 영역을 잘라서 기존 윈도우 창에 표시"
   ]
  },
  {
   "cell_type": "code",
   "execution_count": 3,
   "id": "120dd3ed",
   "metadata": {},
   "outputs": [],
   "source": [
    "import cv2\n",
    "img = cv2.imread('img.jpg')\n",
    "\n",
    "crop = img[100:200, 200:400] \n",
    "img[100:200, 400:600] = crop # img의 [100:200, 400:600] 영역을 crop 으로 대체\n",
    "\n",
    "cv2.imshow('img', img) # 원본\n",
    "cv2.waitKey(0)\n",
    "cv2.destroyAllWindows()"
   ]
  }
 ],
 "metadata": {
  "kernelspec": {
   "display_name": "Python 3 (ipykernel)",
   "language": "python",
   "name": "python3"
  },
  "language_info": {
   "codemirror_mode": {
    "name": "ipython",
    "version": 3
   },
   "file_extension": ".py",
   "mimetype": "text/x-python",
   "name": "python",
   "nbconvert_exporter": "python",
   "pygments_lexer": "ipython3",
   "version": "3.9.7"
  }
 },
 "nbformat": 4,
 "nbformat_minor": 5
}
