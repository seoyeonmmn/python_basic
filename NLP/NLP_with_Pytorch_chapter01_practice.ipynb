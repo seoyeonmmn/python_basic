{
  "nbformat": 4,
  "nbformat_minor": 0,
  "metadata": {
    "colab": {
      "provenance": [],
      "authorship_tag": "ABX9TyNyYSQefm0mFMvSMYg1pROV",
      "include_colab_link": true
    },
    "kernelspec": {
      "name": "python3",
      "display_name": "Python 3"
    },
    "language_info": {
      "name": "python"
    }
  },
  "cells": [
    {
      "cell_type": "markdown",
      "metadata": {
        "id": "view-in-github",
        "colab_type": "text"
      },
      "source": [
        "<a href=\"https://colab.research.google.com/github/seoyeonmmn/python_basic/blob/main/NLP_with_Pytorch_chapter01_practice.ipynb\" target=\"_parent\"><img src=\"https://colab.research.google.com/assets/colab-badge.svg\" alt=\"Open In Colab\"/></a>"
      ]
    },
    {
      "cell_type": "code",
      "source": [
        "import torch"
      ],
      "metadata": {
        "id": "6p5Tt_CeDPFe"
      },
      "execution_count": 1,
      "outputs": []
    },
    {
      "cell_type": "code",
      "execution_count": 6,
      "metadata": {
        "colab": {
          "base_uri": "https://localhost:8080/"
        },
        "id": "qo5LmTKdCwdr",
        "outputId": "6805f200-39d4-4cf6-afb8-4b6008d1bc3f"
      },
      "outputs": [
        {
          "output_type": "stream",
          "name": "stdout",
          "text": [
            "tensor([[0.4746, 0.6210],\n",
            "        [0.8460, 0.7731]])\n",
            "tensor([[[0.4746, 0.6210],\n",
            "         [0.8460, 0.7731]]])\n",
            "torch.Size([1, 2, 2])\n"
          ]
        }
      ],
      "source": [
        "# 1. 2D tensor 만들고 dim = 0 위치에 크기가 1인 차원 추가하기\n",
        "x = torch.rand(2, 2)\n",
        "print(x)\n",
        "y = x.unsqueeze(0)\n",
        "print(y)\n",
        "print(y.shape)"
      ]
    },
    {
      "cell_type": "code",
      "source": [
        "# 2. 1번에서 추가한 차원 다시 삭제하기\n",
        "x = y.squeeze()\n",
        "print(x, x.shape)"
      ],
      "metadata": {
        "colab": {
          "base_uri": "https://localhost:8080/"
        },
        "id": "iP8sllj1DSj9",
        "outputId": "cdbb4acc-2f7e-4705-8040-dbabc3bc8459"
      },
      "execution_count": 8,
      "outputs": [
        {
          "output_type": "stream",
          "name": "stdout",
          "text": [
            "tensor([[0.4746, 0.6210],\n",
            "        [0.8460, 0.7731]]) torch.Size([2, 2])\n"
          ]
        }
      ]
    },
    {
      "cell_type": "code",
      "source": [
        "# 3. 범위가 [3, 7)이고 크기가 5*3인 랜덤한 tensor 만들기\n",
        "\n",
        "x = torch.rand(5, 3)*4 + 3\n",
        "print(x)"
      ],
      "metadata": {
        "colab": {
          "base_uri": "https://localhost:8080/"
        },
        "id": "jYAq04HSDUBC",
        "outputId": "622f3414-e9ab-47de-c8a6-79f575d45ca1"
      },
      "execution_count": 10,
      "outputs": [
        {
          "output_type": "stream",
          "name": "stdout",
          "text": [
            "tensor([[3.1067, 3.3218, 5.8687],\n",
            "        [5.4366, 3.6463, 6.4593],\n",
            "        [6.8782, 3.4438, 5.2147],\n",
            "        [6.4842, 5.4645, 5.2730],\n",
            "        [5.2186, 4.3478, 3.0851]])\n"
          ]
        }
      ]
    },
    {
      "cell_type": "code",
      "source": [
        "# 4. 정규 분포를 이용하여 tensor 만들기\n",
        "\n",
        "x = torch.randn(3, 3)\n",
        "x"
      ],
      "metadata": {
        "colab": {
          "base_uri": "https://localhost:8080/"
        },
        "id": "ijls4DPzHVUT",
        "outputId": "84b5f21e-1908-4da6-8802-c461fb7a8c22"
      },
      "execution_count": 11,
      "outputs": [
        {
          "output_type": "execute_result",
          "data": {
            "text/plain": [
              "tensor([[-0.4315, -0.2049,  0.0113],\n",
              "        [ 2.3551,  0.7925, -0.6956],\n",
              "        [-0.3737,  0.1524, -0.5604]])"
            ]
          },
          "metadata": {},
          "execution_count": 11
        }
      ]
    },
    {
      "cell_type": "code",
      "source": [
        "# 5. torch.Tensor([1, 1, 1, 0, 1])에서 0이 아닌 원소의 인덱스 추출\n",
        "\n",
        "x = torch.Tensor([1, 1, 1, 0, 1])\n",
        "idx = torch.where(x != 0)\n",
        "idx\n"
      ],
      "metadata": {
        "colab": {
          "base_uri": "https://localhost:8080/"
        },
        "id": "ky6TKy6sH1d3",
        "outputId": "3942ba39-7976-4698-dd1d-383d2f899532"
      },
      "execution_count": 22,
      "outputs": [
        {
          "output_type": "execute_result",
          "data": {
            "text/plain": [
              "(tensor([0, 1, 2, 4]),)"
            ]
          },
          "metadata": {},
          "execution_count": 22
        }
      ]
    },
    {
      "cell_type": "code",
      "source": [
        "# 6.크기가 (3, 1)인 랜덤한 텐서를 만들고 네 벌을 복사해 쌓아라.\n",
        "\n",
        "x = torch.rand(3, 1)\n",
        "\n",
        "torch.stack([x, x, x, x])"
      ],
      "metadata": {
        "colab": {
          "base_uri": "https://localhost:8080/"
        },
        "id": "J2AhQGXlJVgD",
        "outputId": "df89012a-3609-4a6a-c965-7a95cd2c86c6"
      },
      "execution_count": 23,
      "outputs": [
        {
          "output_type": "execute_result",
          "data": {
            "text/plain": [
              "tensor([[[0.4031],\n",
              "         [0.5708],\n",
              "         [0.8707]],\n",
              "\n",
              "        [[0.4031],\n",
              "         [0.5708],\n",
              "         [0.8707]],\n",
              "\n",
              "        [[0.4031],\n",
              "         [0.5708],\n",
              "         [0.8707]],\n",
              "\n",
              "        [[0.4031],\n",
              "         [0.5708],\n",
              "         [0.8707]]])"
            ]
          },
          "metadata": {},
          "execution_count": 23
        }
      ]
    },
    {
      "cell_type": "code",
      "source": [
        "# 7. a = torch.rand(3, 4, 5)와 b = torch.rand(3, 5, 4)의 배치 행렬 곱셈을 계산하라.\n",
        "\n",
        "a = torch.rand(3, 4, 5)\n",
        "b = torch.rand(3, 5, 4)\n",
        "\n",
        "print(torch.matmul(a, b))\n",
        "print(torch.bmm(a, b))"
      ],
      "metadata": {
        "colab": {
          "base_uri": "https://localhost:8080/"
        },
        "id": "qtyyU8R9J6s-",
        "outputId": "16986375-029e-45cb-b576-7817b91ab9c8"
      },
      "execution_count": 29,
      "outputs": [
        {
          "output_type": "stream",
          "name": "stdout",
          "text": [
            "tensor([[[1.7651, 2.1742, 1.8313, 2.0341],\n",
            "         [1.1651, 1.2302, 0.9644, 1.0809],\n",
            "         [1.8836, 2.3267, 1.9343, 2.1478],\n",
            "         [1.8762, 2.4171, 2.1661, 1.6392]],\n",
            "\n",
            "        [[1.0057, 0.8921, 0.7903, 0.7320],\n",
            "         [1.1135, 0.7688, 0.7550, 1.1359],\n",
            "         [0.6146, 0.8164, 0.5005, 0.6198],\n",
            "         [1.0952, 1.0019, 1.1429, 1.3197]],\n",
            "\n",
            "        [[1.2529, 1.1164, 2.1972, 1.2700],\n",
            "         [1.1355, 0.7669, 1.5231, 1.1452],\n",
            "         [0.3505, 0.3706, 0.7793, 0.4520],\n",
            "         [1.4326, 1.0111, 2.1144, 1.2383]]])\n",
            "tensor([[[1.7651, 2.1742, 1.8313, 2.0341],\n",
            "         [1.1651, 1.2302, 0.9644, 1.0809],\n",
            "         [1.8836, 2.3267, 1.9343, 2.1478],\n",
            "         [1.8762, 2.4171, 2.1661, 1.6392]],\n",
            "\n",
            "        [[1.0057, 0.8921, 0.7903, 0.7320],\n",
            "         [1.1135, 0.7688, 0.7550, 1.1359],\n",
            "         [0.6146, 0.8164, 0.5005, 0.6198],\n",
            "         [1.0952, 1.0019, 1.1429, 1.3197]],\n",
            "\n",
            "        [[1.2529, 1.1164, 2.1972, 1.2700],\n",
            "         [1.1355, 0.7669, 1.5231, 1.1452],\n",
            "         [0.3505, 0.3706, 0.7793, 0.4520],\n",
            "         [1.4326, 1.0111, 2.1144, 1.2383]]])\n"
          ]
        }
      ]
    },
    {
      "cell_type": "code",
      "source": [
        "# 8. a = torch.rand(3, 4, 5)와 b = torch.rand(5, 4)\n",
        "a = torch.rand(3, 4, 5)\n",
        "b = torch.rand(5, 4)\n",
        "\n",
        "print(torch.matmul(a, b))\n",
        "print(torch.bmm(a, b.unsqueeze(0).expand(a.size(0), *b.size())))"
      ],
      "metadata": {
        "colab": {
          "base_uri": "https://localhost:8080/"
        },
        "id": "k6av_n1ULaVN",
        "outputId": "45f8e00e-113a-4c3c-ac89-0a1d9727ea0f"
      },
      "execution_count": 33,
      "outputs": [
        {
          "output_type": "stream",
          "name": "stdout",
          "text": [
            "tensor([[[0.9156, 0.9876, 1.1598, 0.2869],\n",
            "         [1.3052, 1.4308, 1.0805, 0.5676],\n",
            "         [1.1677, 1.1900, 1.2321, 0.5814],\n",
            "         [0.9991, 0.8775, 1.1643, 0.4763]],\n",
            "\n",
            "        [[1.6384, 1.6536, 1.5182, 0.9881],\n",
            "         [0.8425, 0.8483, 0.8950, 0.5406],\n",
            "         [1.1286, 1.3814, 0.5908, 0.6497],\n",
            "         [1.1318, 1.1969, 1.2433, 0.3641]],\n",
            "\n",
            "        [[1.0222, 0.8349, 1.0383, 0.7226],\n",
            "         [1.3668, 1.4400, 1.3463, 0.7016],\n",
            "         [0.7921, 0.8960, 0.8320, 0.3704],\n",
            "         [0.8989, 0.9381, 0.7128, 0.5157]]])\n",
            "tensor([[[0.9156, 0.9876, 1.1598, 0.2869],\n",
            "         [1.3052, 1.4308, 1.0805, 0.5676],\n",
            "         [1.1677, 1.1900, 1.2321, 0.5814],\n",
            "         [0.9991, 0.8775, 1.1643, 0.4763]],\n",
            "\n",
            "        [[1.6384, 1.6536, 1.5182, 0.9881],\n",
            "         [0.8425, 0.8483, 0.8950, 0.5406],\n",
            "         [1.1286, 1.3814, 0.5908, 0.6497],\n",
            "         [1.1318, 1.1969, 1.2433, 0.3641]],\n",
            "\n",
            "        [[1.0222, 0.8349, 1.0383, 0.7226],\n",
            "         [1.3668, 1.4400, 1.3463, 0.7016],\n",
            "         [0.7921, 0.8960, 0.8320, 0.3704],\n",
            "         [0.8989, 0.9381, 0.7128, 0.5157]]])\n"
          ]
        }
      ]
    }
  ]
}
