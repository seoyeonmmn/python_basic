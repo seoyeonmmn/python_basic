{
  "nbformat": 4,
  "nbformat_minor": 0,
  "metadata": {
    "colab": {
      "provenance": [],
      "authorship_tag": "ABX9TyNVapl0IvEGGooBP65KzQaB",
      "include_colab_link": true
    },
    "kernelspec": {
      "name": "python3",
      "display_name": "Python 3"
    },
    "language_info": {
      "name": "python"
    }
  },
  "cells": [
    {
      "cell_type": "markdown",
      "metadata": {
        "id": "view-in-github",
        "colab_type": "text"
      },
      "source": [
        "<a href=\"https://colab.research.google.com/github/seoyeonmmn/python_basic/blob/main/NLP_with_Pytorch_chapter02.ipynb\" target=\"_parent\"><img src=\"https://colab.research.google.com/assets/colab-badge.svg\" alt=\"Open In Colab\"/></a>"
      ]
    },
    {
      "cell_type": "code",
      "source": [
        "pip install -U spacy"
      ],
      "metadata": {
        "id": "NgT0yQwgZ25P"
      },
      "execution_count": null,
      "outputs": []
    },
    {
      "cell_type": "code",
      "execution_count": 14,
      "metadata": {
        "colab": {
          "base_uri": "https://localhost:8080/"
        },
        "id": "9SkIQu22_Uxy",
        "outputId": "97c4d581-e67b-45ee-f9b6-3894569bcad6"
      },
      "outputs": [
        {
          "output_type": "stream",
          "name": "stdout",
          "text": [
            "['mary', ',', 'do', \"n't\", 'slap', 'the', 'green', 'witch']\n"
          ]
        }
      ],
      "source": [
        "# code 2-1 Text-tokenization\n",
        "import spacy\n",
        "nlp = spacy.load('en_core_web_sm')\n",
        "text = u\"Mary, don't slap the green witch\"\n",
        "print([str(token) for token in nlp(text.lower())])"
      ]
    },
    {
      "cell_type": "code",
      "source": [
        "from nltk.tokenize import TweetTokenizer\n",
        "tweet = u\"Snow White and the Seven Degress\"\n",
        "tokenizer = TweetTokenizer()\n",
        "print(tokenizer.tokenize(tweet.lower()))"
      ],
      "metadata": {
        "colab": {
          "base_uri": "https://localhost:8080/"
        },
        "id": "DPsixn5MZpfV",
        "outputId": "127a84dd-13a0-48f0-e275-b38bf2c3c1d9"
      },
      "execution_count": 16,
      "outputs": [
        {
          "output_type": "stream",
          "name": "stdout",
          "text": [
            "['snow', 'white', 'and', 'the', 'seven', 'degress']\n"
          ]
        }
      ]
    },
    {
      "cell_type": "code",
      "source": [
        "# code 2-2 N-gram\n",
        "\n",
        "def n_grams(text, n):\n",
        "  return [text[i:i+n] for i in range(len(text)-n+1)]\n"
      ],
      "metadata": {
        "id": "vDjhY4H8eDXS"
      },
      "execution_count": 17,
      "outputs": []
    },
    {
      "cell_type": "code",
      "source": [
        "text = ['snow', 'white', 'and', 'the', 'seven', 'degress']\n",
        "\n",
        "print(\"Unigram : \", n_grams(text, 1))\n",
        "print(\"Bigram : \", n_grams(text, 2))\n",
        "print(\"Trigram : \", n_grams(text, 3))\n",
        "print(\"4-gram : \", n_grams(text, 4))"
      ],
      "metadata": {
        "colab": {
          "base_uri": "https://localhost:8080/"
        },
        "id": "YQiQZeDReiFy",
        "outputId": "0b63dcad-792e-4df2-ae7d-89d5106c0999"
      },
      "execution_count": 19,
      "outputs": [
        {
          "output_type": "stream",
          "name": "stdout",
          "text": [
            "Unigram :  [['snow'], ['white'], ['and'], ['the'], ['seven'], ['degress']]\n",
            "Bigram :  [['snow', 'white'], ['white', 'and'], ['and', 'the'], ['the', 'seven'], ['seven', 'degress']]\n",
            "Trigram :  [['snow', 'white', 'and'], ['white', 'and', 'the'], ['and', 'the', 'seven'], ['the', 'seven', 'degress']]\n",
            "4-gram :  [['snow', 'white', 'and', 'the'], ['white', 'and', 'the', 'seven'], ['and', 'the', 'seven', 'degress']]\n"
          ]
        }
      ]
    },
    {
      "cell_type": "code",
      "source": [
        "# code 2-3 lemmatization\n",
        "\n",
        "nlp = spacy.load('en_core_web_sm')\n",
        "doc = nlp(u\"he was running late\")\n",
        "for token in doc:\n",
        "  print('{}-->{}'.format(token, token.lemma_))"
      ],
      "metadata": {
        "colab": {
          "base_uri": "https://localhost:8080/"
        },
        "id": "XCGzo4S-fBCx",
        "outputId": "c0a89da3-b319-45c4-c20a-11f6d9d5f2c0"
      },
      "execution_count": 22,
      "outputs": [
        {
          "output_type": "stream",
          "name": "stdout",
          "text": [
            "he-->he\n",
            "was-->be\n",
            "running-->run\n",
            "late-->late\n"
          ]
        }
      ]
    },
    {
      "cell_type": "code",
      "source": [
        "# code 2-4 POS Tagging\n",
        "\n",
        "nlp = spacy.load('en_core_web_sm')\n",
        "doc = nlp(u\"he was running late\")\n",
        "for token in doc:\n",
        "  print('{}-->{}'.format(token, token.pos_))"
      ],
      "metadata": {
        "colab": {
          "base_uri": "https://localhost:8080/"
        },
        "id": "ZDbK3nENfeKN",
        "outputId": "88612599-7d0f-4640-dcf9-2e6085a00d89"
      },
      "execution_count": 23,
      "outputs": [
        {
          "output_type": "stream",
          "name": "stdout",
          "text": [
            "he-->PRON\n",
            "was-->AUX\n",
            "running-->VERB\n",
            "late-->ADV\n"
          ]
        }
      ]
    },
    {
      "cell_type": "code",
      "source": [
        "# code 2-5 NP chuncking\n",
        "\n",
        "nlp = spacy.load('en_core_web_sm')\n",
        "doc = nlp(u\"he was running late\")\n",
        "for chunk in doc.noun_chunks:\n",
        "  print('{}-->{}'.format(chunk, chunk.label_))"
      ],
      "metadata": {
        "colab": {
          "base_uri": "https://localhost:8080/"
        },
        "id": "svv7RXfRfqb1",
        "outputId": "1eb51869-79f3-44f3-c031-f02ba352c70f"
      },
      "execution_count": 24,
      "outputs": [
        {
          "output_type": "stream",
          "name": "stdout",
          "text": [
            "he-->NP\n"
          ]
        }
      ]
    }
  ]
}